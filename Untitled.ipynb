{
 "cells": [
  {
   "cell_type": "code",
   "execution_count": 237,
   "metadata": {
    "collapsed": true
   },
   "outputs": [],
   "source": [
    "import pandas as pd\n",
    "import numpy as np\n",
    "import matplotlib.pyplot as plt\n",
    "import seaborn as sns\n",
    "from datetime import date, timedelta\n",
    "\n",
    "%matplotlib inline"
   ]
  },
  {
   "cell_type": "code",
   "execution_count": 238,
   "metadata": {
    "collapsed": true
   },
   "outputs": [],
   "source": [
    "def plot_confusion_matrix(cm, classes,\n",
    "                          normalize=False,\n",
    "                          title='Confusion matrix',\n",
    "                          cmap=plt.cm.Blues):\n",
    "    \"\"\"\n",
    "    This function prints and plots the confusion matrix.\n",
    "    Normalization can be applied by setting `normalize=True`.\n",
    "    \"\"\"\n",
    "    plt.imshow(cm, interpolation='nearest', cmap=cmap)\n",
    "    plt.title(title)\n",
    "    plt.colorbar()\n",
    "    tick_marks = np.arange(len(classes))\n",
    "    plt.xticks(tick_marks, classes, rotation=0)\n",
    "    plt.yticks(tick_marks, classes)\n",
    "\n",
    "    if normalize:\n",
    "        cm = cm.astype('float') / cm.sum(axis=1)[:, np.newaxis]\n",
    "    else:\n",
    "        pass\n",
    "    \n",
    "    thresh = cm.max() / 2.\n",
    "    for i, j in itertools.product(range(cm.shape[0]), range(cm.shape[1])):\n",
    "        plt.text(j, i, cm[i, j],\n",
    "                 horizontalalignment=\"center\",\n",
    "                 color=\"white\" if cm[i, j] > thresh else \"black\")\n",
    "\n",
    "    plt.tight_layout()\n",
    "    plt.ylabel('True label')\n",
    "    plt.xlabel('Predicted label')\n",
    "\n",
    "def standardize(data):\n",
    "    from sklearn.preprocessing import StandardScaler\n",
    "    # Get all numeric features\n",
    "    numerical_features = []\n",
    "    for feature in data.dtypes.index:\n",
    "        if (data[feature].dtype != np.object):\n",
    "            numerical_features.append(feature)\n",
    "\n",
    "    data[numerical_features] = data[numerical_features].fillna(0)\n",
    "    \n",
    "    scaler = StandardScaler()\n",
    "    data[numerical_features]= scaler.fit_transform(data[numerical_features])\n",
    "    standard_data = data\n",
    "    \n",
    "    return standard_data\n",
    "\n",
    "def ohe(data,category):\n",
    "    data_dummies = pd.get_dummies(data[category])\n",
    "    data = data.drop(category,axis=1)\n",
    "    data = pd.concat([data, data_dummies],axis=1)\n",
    "    \n",
    "    return data\n",
    "\n",
    "def get_train_test(data):\n",
    "    \n",
    "    # Get test set from data\n",
    "    test_data = data[data['good_bad_flag'].isnull()].reset_index()\n",
    "    test_data = test_data.drop('index',axis=1)\n",
    "    \n",
    "    \n",
    "    # Get train set from data\n",
    "    data_train_g = data[data['good_bad_flag'] == 'Good'].reset_index()\n",
    "    \n",
    "    # data_10k_train_g = data_10k_train.drop('index',axis=1)\n",
    "\n",
    "    data_train_b = data[data['good_bad_flag'] == 'Bad'].reset_index()\n",
    "    # data_10k_train_b = data_10k_train.drop('index',axis=1)\n",
    "\n",
    "    frames = [data_train_g,data_train_b]\n",
    "    train_data = pd.concat(frames)\n",
    "\n",
    "    train_data = train_data.drop('index',axis=1)\n",
    "\n",
    "    from sklearn.preprocessing import LabelEncoder\n",
    "    lb_make = LabelEncoder()\n",
    "\n",
    "    # Get train & test set from the \n",
    "    train_data['good_bad_flag'] = lb_make.fit_transform(train_data['good_bad_flag'])\n",
    "    \n",
    "    return train_data,test_data\n",
    "\n",
    "def get_x_y(data): \n",
    "    data = data.iloc[:,data.columns != \"customerid\"]\n",
    "\n",
    "    Y = data.iloc[:,data.columns ==\"good_bad_flag\"]\n",
    "\n",
    "    X = data.iloc[:,data.columns != \"good_bad_flag\"]\n",
    "    X = X.iloc[:,X.columns != \"loanamount\"]\n",
    "    \n",
    "    return X,Y"
   ]
  },
  {
   "cell_type": "markdown",
   "metadata": {},
   "source": [
    "# 1. Performance "
   ]
  },
  {
   "cell_type": "code",
   "execution_count": 239,
   "metadata": {},
   "outputs": [
    {
     "data": {
      "text/plain": [
       "(5818, 10)"
      ]
     },
     "execution_count": 239,
     "metadata": {},
     "output_type": "execute_result"
    }
   ],
   "source": [
    "train_perf = pd.read_csv('trainperf.csv.xls')\n",
    "test_perf = pd.read_csv('testperf.csv.xls')\n",
    "frames = [train_perf,test_perf]\n",
    "perf = pd.concat(frames)\n",
    "perf.shape"
   ]
  },
  {
   "cell_type": "code",
   "execution_count": 240,
   "metadata": {},
   "outputs": [
    {
     "name": "stdout",
     "output_type": "stream",
     "text": [
      "(4368, 10) (1450, 9)\n"
     ]
    }
   ],
   "source": [
    "print(train_perf.shape,test_perf.shape)"
   ]
  },
  {
   "cell_type": "code",
   "execution_count": 241,
   "metadata": {},
   "outputs": [
    {
     "data": {
      "text/html": [
       "<div>\n",
       "<style>\n",
       "    .dataframe thead tr:only-child th {\n",
       "        text-align: right;\n",
       "    }\n",
       "\n",
       "    .dataframe thead th {\n",
       "        text-align: left;\n",
       "    }\n",
       "\n",
       "    .dataframe tbody tr th {\n",
       "        vertical-align: top;\n",
       "    }\n",
       "</style>\n",
       "<table border=\"1\" class=\"dataframe\">\n",
       "  <thead>\n",
       "    <tr style=\"text-align: right;\">\n",
       "      <th></th>\n",
       "      <th>approveddate</th>\n",
       "      <th>creationdate</th>\n",
       "      <th>customerid</th>\n",
       "      <th>good_bad_flag</th>\n",
       "      <th>loanamount</th>\n",
       "      <th>loannumber</th>\n",
       "      <th>referredby</th>\n",
       "      <th>systemloanid</th>\n",
       "      <th>termdays</th>\n",
       "      <th>totaldue</th>\n",
       "    </tr>\n",
       "  </thead>\n",
       "  <tbody>\n",
       "    <tr>\n",
       "      <th>0</th>\n",
       "      <td>2017-07-25 08:22:56.000000</td>\n",
       "      <td>2017-07-25 07:22:47.000000</td>\n",
       "      <td>8a2a81a74ce8c05d014cfb32a0da1049</td>\n",
       "      <td>Good</td>\n",
       "      <td>30000.0</td>\n",
       "      <td>12</td>\n",
       "      <td>NaN</td>\n",
       "      <td>301994762</td>\n",
       "      <td>30</td>\n",
       "      <td>34500.0</td>\n",
       "    </tr>\n",
       "    <tr>\n",
       "      <th>1</th>\n",
       "      <td>2017-07-05 17:04:41.000000</td>\n",
       "      <td>2017-07-05 16:04:18.000000</td>\n",
       "      <td>8a85886e54beabf90154c0a29ae757c0</td>\n",
       "      <td>Good</td>\n",
       "      <td>15000.0</td>\n",
       "      <td>2</td>\n",
       "      <td>NaN</td>\n",
       "      <td>301965204</td>\n",
       "      <td>30</td>\n",
       "      <td>17250.0</td>\n",
       "    </tr>\n",
       "    <tr>\n",
       "      <th>2</th>\n",
       "      <td>2017-07-06 14:52:57.000000</td>\n",
       "      <td>2017-07-06 13:52:51.000000</td>\n",
       "      <td>8a8588f35438fe12015444567666018e</td>\n",
       "      <td>Good</td>\n",
       "      <td>20000.0</td>\n",
       "      <td>7</td>\n",
       "      <td>NaN</td>\n",
       "      <td>301966580</td>\n",
       "      <td>15</td>\n",
       "      <td>22250.0</td>\n",
       "    </tr>\n",
       "    <tr>\n",
       "      <th>3</th>\n",
       "      <td>2017-07-27 19:00:41.000000</td>\n",
       "      <td>2017-07-27 18:00:35.000000</td>\n",
       "      <td>8a85890754145ace015429211b513e16</td>\n",
       "      <td>Good</td>\n",
       "      <td>10000.0</td>\n",
       "      <td>3</td>\n",
       "      <td>NaN</td>\n",
       "      <td>301999343</td>\n",
       "      <td>15</td>\n",
       "      <td>11500.0</td>\n",
       "    </tr>\n",
       "    <tr>\n",
       "      <th>4</th>\n",
       "      <td>2017-07-03 23:42:45.000000</td>\n",
       "      <td>2017-07-03 22:42:39.000000</td>\n",
       "      <td>8a858970548359cc0154883481981866</td>\n",
       "      <td>Good</td>\n",
       "      <td>40000.0</td>\n",
       "      <td>9</td>\n",
       "      <td>NaN</td>\n",
       "      <td>301962360</td>\n",
       "      <td>30</td>\n",
       "      <td>44000.0</td>\n",
       "    </tr>\n",
       "  </tbody>\n",
       "</table>\n",
       "</div>"
      ],
      "text/plain": [
       "                 approveddate                creationdate  \\\n",
       "0  2017-07-25 08:22:56.000000  2017-07-25 07:22:47.000000   \n",
       "1  2017-07-05 17:04:41.000000  2017-07-05 16:04:18.000000   \n",
       "2  2017-07-06 14:52:57.000000  2017-07-06 13:52:51.000000   \n",
       "3  2017-07-27 19:00:41.000000  2017-07-27 18:00:35.000000   \n",
       "4  2017-07-03 23:42:45.000000  2017-07-03 22:42:39.000000   \n",
       "\n",
       "                         customerid good_bad_flag  loanamount  loannumber  \\\n",
       "0  8a2a81a74ce8c05d014cfb32a0da1049          Good     30000.0          12   \n",
       "1  8a85886e54beabf90154c0a29ae757c0          Good     15000.0           2   \n",
       "2  8a8588f35438fe12015444567666018e          Good     20000.0           7   \n",
       "3  8a85890754145ace015429211b513e16          Good     10000.0           3   \n",
       "4  8a858970548359cc0154883481981866          Good     40000.0           9   \n",
       "\n",
       "  referredby  systemloanid  termdays  totaldue  \n",
       "0        NaN     301994762        30   34500.0  \n",
       "1        NaN     301965204        30   17250.0  \n",
       "2        NaN     301966580        15   22250.0  \n",
       "3        NaN     301999343        15   11500.0  \n",
       "4        NaN     301962360        30   44000.0  "
      ]
     },
     "execution_count": 241,
     "metadata": {},
     "output_type": "execute_result"
    }
   ],
   "source": [
    "perf.head()"
   ]
  },
  {
   "cell_type": "markdown",
   "metadata": {},
   "source": [
    "### 1.1 Loan Amount "
   ]
  },
  {
   "cell_type": "code",
   "execution_count": 242,
   "metadata": {},
   "outputs": [
    {
     "data": {
      "image/png": "[encoded data removed]",
      "text/plain": [
       "<matplotlib.figure.Figure at 0x11228f080>"
      ]
     },
     "metadata": {},
     "output_type": "display_data"
    }
   ],
   "source": [
    "sns.countplot(x='loanamount',hue='good_bad_flag',data=train_perf);"
   ]
  },
  {
   "cell_type": "markdown",
   "metadata": {},
   "source": [
    "Divide models into two (10k and others)"
   ]
  },
  {
   "cell_type": "markdown",
   "metadata": {},
   "source": [
    "### 1.2 Term Days\n",
    "10K Model"
   ]
  },
  {
   "cell_type": "code",
   "execution_count": 243,
   "metadata": {},
   "outputs": [
    {
     "data": {
      "image/png": "[encoded data removed]",
      "text/plain": [
       "<matplotlib.figure.Figure at 0x10ecd46d8>"
      ]
     },
     "metadata": {},
     "output_type": "display_data"
    }
   ],
   "source": [
    "sns.countplot(x='termdays',data=perf[perf['loanamount']==10000.0]);"
   ]
  },
  {
   "cell_type": "markdown",
   "metadata": {},
   "source": [
    "For the 10k model turn term days into binary"
   ]
  },
  {
   "cell_type": "markdown",
   "metadata": {},
   "source": [
    "others"
   ]
  },
  {
   "cell_type": "code",
   "execution_count": 244,
   "metadata": {},
   "outputs": [
    {
     "data": {
      "image/png": "[encoded data removed]",
      "text/plain": [
       "<matplotlib.figure.Figure at 0x1120c4d30>"
      ]
     },
     "metadata": {},
     "output_type": "display_data"
    }
   ],
   "source": [
    "sns.countplot(x='termdays',data=train_perf, hue='good_bad_flag');"
   ]
  },
  {
   "cell_type": "code",
   "execution_count": 245,
   "metadata": {
    "collapsed": true
   },
   "outputs": [],
   "source": [
    "others_termdays = train_perf[['termdays','good_bad_flag','loanamount']][train_perf['loanamount']!=10000.0]\n",
    "others_termdays\n",
    "term_days_count = others_termdays['termdays'].value_counts()"
   ]
  },
  {
   "cell_type": "code",
   "execution_count": 246,
   "metadata": {},
   "outputs": [
    {
     "name": "stdout",
     "output_type": "stream",
     "text": [
      "Percentage of bad loans for 15 term days is: 20.3703703704\n",
      "Percentage of bad loans for 30 term days is: 13.5533707865\n",
      "Percentage of bad loans for 60 term days is: 22.5694444444\n",
      "Percentage of bad loans for 90 term days is: 18.75\n"
     ]
    },
    {
     "name": "stderr",
     "output_type": "stream",
     "text": [
      "/Users/femi/anaconda3/lib/python3.6/site-packages/ipykernel_launcher.py:2: UserWarning: Boolean Series key will be reindexed to match DataFrame index.\n",
      "  \n",
      "/Users/femi/anaconda3/lib/python3.6/site-packages/ipykernel_launcher.py:6: UserWarning: Boolean Series key will be reindexed to match DataFrame index.\n",
      "  \n",
      "/Users/femi/anaconda3/lib/python3.6/site-packages/ipykernel_launcher.py:10: UserWarning: Boolean Series key will be reindexed to match DataFrame index.\n",
      "  # Remove the CWD from sys.path while we load stuff.\n",
      "/Users/femi/anaconda3/lib/python3.6/site-packages/ipykernel_launcher.py:14: UserWarning: Boolean Series key will be reindexed to match DataFrame index.\n",
      "  \n"
     ]
    }
   ],
   "source": [
    "# 15 term days\n",
    "fifteen_term = others_termdays[['termdays','good_bad_flag']][train_perf['termdays']==15 ]\n",
    "print ( 'Percentage of bad loans for 15 term days is: ' + str((fifteen_term[fifteen_term['good_bad_flag']=='Bad'].shape[0] / term_days_count.loc[15]) * 100))\n",
    "\n",
    "# 30 term days\n",
    "thirty_term = others_termdays[['termdays','good_bad_flag']][train_perf['termdays']==30 ]\n",
    "print ( 'Percentage of bad loans for 30 term days is: ' + str((thirty_term[thirty_term['good_bad_flag']=='Bad'].shape[0] / term_days_count.loc[30]) * 100))\n",
    "\n",
    "# 60 term days\n",
    "sixty_term = others_termdays[['termdays','good_bad_flag']][train_perf['termdays']==60 ]\n",
    "print ( 'Percentage of bad loans for 60 term days is: ' + str((sixty_term[sixty_term['good_bad_flag']=='Bad'].shape[0] / term_days_count.loc[60]) * 100))\n",
    "\n",
    "# 90 term days\n",
    "ninety_term = others_termdays[['termdays','good_bad_flag']][train_perf['termdays']==90 ]\n",
    "print ( 'Percentage of bad loans for 90 term days is: ' + str((ninety_term[ninety_term['good_bad_flag']=='Bad'].shape[0] / term_days_count.loc[90] ) * 100))\n",
    "\n"
   ]
  },
  {
   "cell_type": "markdown",
   "metadata": {},
   "source": [
    "So there is no progression in the percentage of bad loans as term days increases, so we convert to a categorical variable."
   ]
  },
  {
   "cell_type": "code",
   "execution_count": 247,
   "metadata": {
    "collapsed": true
   },
   "outputs": [],
   "source": [
    "# Convert termdays into categorical variable\n",
    "\n",
    "perf['termdays'] = perf['termdays'].apply(lambda x : 'fifteen' if x==15 else 'thirty' if x==30 else 'sixty' if x==60 else 'ninety')"
   ]
  },
  {
   "cell_type": "code",
   "execution_count": 248,
   "metadata": {},
   "outputs": [
    {
     "data": {
      "text/plain": [
       "array(['thirty', 'fifteen', 'sixty', 'ninety'], dtype=object)"
      ]
     },
     "execution_count": 248,
     "metadata": {},
     "output_type": "execute_result"
    }
   ],
   "source": [
    "# Sanity Check\n",
    "perf['termdays'].unique()"
   ]
  },
  {
   "cell_type": "code",
   "execution_count": 249,
   "metadata": {
    "collapsed": true
   },
   "outputs": [],
   "source": [
    "data = perf"
   ]
  },
  {
   "cell_type": "markdown",
   "metadata": {},
   "source": [
    "### 1.3 Referred by\n",
    "Convert to binary variable"
   ]
  },
  {
   "cell_type": "markdown",
   "metadata": {},
   "source": [
    "## ref_count"
   ]
  },
  {
   "cell_type": "code",
   "execution_count": null,
   "metadata": {
    "collapsed": true
   },
   "outputs": [],
   "source": []
  },
  {
   "cell_type": "code",
   "execution_count": 250,
   "metadata": {
    "collapsed": true
   },
   "outputs": [],
   "source": [
    "data['referredby'] = data['referredby'].fillna(0)\n",
    "data['referred'] = data['referredby'].apply(lambda x : 0 if x==0 else 1)"
   ]
  },
  {
   "cell_type": "markdown",
   "metadata": {},
   "source": [
    "### 1.4 Interest (Total due - Loan amount)"
   ]
  },
  {
   "cell_type": "code",
   "execution_count": 251,
   "metadata": {},
   "outputs": [
    {
     "data": {
      "text/html": [
       "<div>\n",
       "<style>\n",
       "    .dataframe thead tr:only-child th {\n",
       "        text-align: right;\n",
       "    }\n",
       "\n",
       "    .dataframe thead th {\n",
       "        text-align: left;\n",
       "    }\n",
       "\n",
       "    .dataframe tbody tr th {\n",
       "        vertical-align: top;\n",
       "    }\n",
       "</style>\n",
       "<table border=\"1\" class=\"dataframe\">\n",
       "  <thead>\n",
       "    <tr style=\"text-align: right;\">\n",
       "      <th></th>\n",
       "      <th>approveddate</th>\n",
       "      <th>creationdate</th>\n",
       "      <th>customerid</th>\n",
       "      <th>good_bad_flag</th>\n",
       "      <th>loanamount</th>\n",
       "      <th>loannumber</th>\n",
       "      <th>referredby</th>\n",
       "      <th>systemloanid</th>\n",
       "      <th>termdays</th>\n",
       "      <th>totaldue</th>\n",
       "      <th>referred</th>\n",
       "      <th>interest</th>\n",
       "    </tr>\n",
       "  </thead>\n",
       "  <tbody>\n",
       "    <tr>\n",
       "      <th>0</th>\n",
       "      <td>2017-07-25 08:22:56.000000</td>\n",
       "      <td>2017-07-25 07:22:47.000000</td>\n",
       "      <td>8a2a81a74ce8c05d014cfb32a0da1049</td>\n",
       "      <td>Good</td>\n",
       "      <td>30000.0</td>\n",
       "      <td>12</td>\n",
       "      <td>0</td>\n",
       "      <td>301994762</td>\n",
       "      <td>thirty</td>\n",
       "      <td>34500.0</td>\n",
       "      <td>0</td>\n",
       "      <td>4500.0</td>\n",
       "    </tr>\n",
       "    <tr>\n",
       "      <th>1</th>\n",
       "      <td>2017-07-05 17:04:41.000000</td>\n",
       "      <td>2017-07-05 16:04:18.000000</td>\n",
       "      <td>8a85886e54beabf90154c0a29ae757c0</td>\n",
       "      <td>Good</td>\n",
       "      <td>15000.0</td>\n",
       "      <td>2</td>\n",
       "      <td>0</td>\n",
       "      <td>301965204</td>\n",
       "      <td>thirty</td>\n",
       "      <td>17250.0</td>\n",
       "      <td>0</td>\n",
       "      <td>2250.0</td>\n",
       "    </tr>\n",
       "    <tr>\n",
       "      <th>2</th>\n",
       "      <td>2017-07-06 14:52:57.000000</td>\n",
       "      <td>2017-07-06 13:52:51.000000</td>\n",
       "      <td>8a8588f35438fe12015444567666018e</td>\n",
       "      <td>Good</td>\n",
       "      <td>20000.0</td>\n",
       "      <td>7</td>\n",
       "      <td>0</td>\n",
       "      <td>301966580</td>\n",
       "      <td>fifteen</td>\n",
       "      <td>22250.0</td>\n",
       "      <td>0</td>\n",
       "      <td>2250.0</td>\n",
       "    </tr>\n",
       "    <tr>\n",
       "      <th>3</th>\n",
       "      <td>2017-07-27 19:00:41.000000</td>\n",
       "      <td>2017-07-27 18:00:35.000000</td>\n",
       "      <td>8a85890754145ace015429211b513e16</td>\n",
       "      <td>Good</td>\n",
       "      <td>10000.0</td>\n",
       "      <td>3</td>\n",
       "      <td>0</td>\n",
       "      <td>301999343</td>\n",
       "      <td>fifteen</td>\n",
       "      <td>11500.0</td>\n",
       "      <td>0</td>\n",
       "      <td>1500.0</td>\n",
       "    </tr>\n",
       "    <tr>\n",
       "      <th>4</th>\n",
       "      <td>2017-07-03 23:42:45.000000</td>\n",
       "      <td>2017-07-03 22:42:39.000000</td>\n",
       "      <td>8a858970548359cc0154883481981866</td>\n",
       "      <td>Good</td>\n",
       "      <td>40000.0</td>\n",
       "      <td>9</td>\n",
       "      <td>0</td>\n",
       "      <td>301962360</td>\n",
       "      <td>thirty</td>\n",
       "      <td>44000.0</td>\n",
       "      <td>0</td>\n",
       "      <td>4000.0</td>\n",
       "    </tr>\n",
       "  </tbody>\n",
       "</table>\n",
       "</div>"
      ],
      "text/plain": [
       "                 approveddate                creationdate  \\\n",
       "0  2017-07-25 08:22:56.000000  2017-07-25 07:22:47.000000   \n",
       "1  2017-07-05 17:04:41.000000  2017-07-05 16:04:18.000000   \n",
       "2  2017-07-06 14:52:57.000000  2017-07-06 13:52:51.000000   \n",
       "3  2017-07-27 19:00:41.000000  2017-07-27 18:00:35.000000   \n",
       "4  2017-07-03 23:42:45.000000  2017-07-03 22:42:39.000000   \n",
       "\n",
       "                         customerid good_bad_flag  loanamount  loannumber  \\\n",
       "0  8a2a81a74ce8c05d014cfb32a0da1049          Good     30000.0          12   \n",
       "1  8a85886e54beabf90154c0a29ae757c0          Good     15000.0           2   \n",
       "2  8a8588f35438fe12015444567666018e          Good     20000.0           7   \n",
       "3  8a85890754145ace015429211b513e16          Good     10000.0           3   \n",
       "4  8a858970548359cc0154883481981866          Good     40000.0           9   \n",
       "\n",
       "  referredby  systemloanid termdays  totaldue  referred  interest  \n",
       "0          0     301994762   thirty   34500.0         0    4500.0  \n",
       "1          0     301965204   thirty   17250.0         0    2250.0  \n",
       "2          0     301966580  fifteen   22250.0         0    2250.0  \n",
       "3          0     301999343  fifteen   11500.0         0    1500.0  \n",
       "4          0     301962360   thirty   44000.0         0    4000.0  "
      ]
     },
     "execution_count": 251,
     "metadata": {},
     "output_type": "execute_result"
    }
   ],
   "source": [
    "data['interest'] = data['totaldue'] - data['loanamount']\n",
    "data.head()"
   ]
  },
  {
   "cell_type": "code",
   "execution_count": 252,
   "metadata": {},
   "outputs": [
    {
     "data": {
      "text/plain": [
       "array([12,  2,  7,  3,  9,  8, 10,  4, 11, 13, 15,  5,  6, 17, 18, 14, 22,\n",
       "       16, 19, 27, 20, 21, 23, 34])"
      ]
     },
     "execution_count": 252,
     "metadata": {},
     "output_type": "execute_result"
    }
   ],
   "source": [
    "data['loannumber'].unique()"
   ]
  },
  {
   "cell_type": "code",
   "execution_count": 253,
   "metadata": {
    "collapsed": true
   },
   "outputs": [],
   "source": [
    "data['loannumber'] = data['loannumber'].fillna(0)"
   ]
  },
  {
   "cell_type": "markdown",
   "metadata": {},
   "source": [
    "# 2. Demographics"
   ]
  },
  {
   "cell_type": "code",
   "execution_count": 254,
   "metadata": {},
   "outputs": [
    {
     "data": {
      "text/plain": [
       "(5833, 9)"
      ]
     },
     "execution_count": 254,
     "metadata": {},
     "output_type": "execute_result"
    }
   ],
   "source": [
    "train_demographics = pd.read_csv('traindemographics.csv.xls')\n",
    "test_demographics = pd.read_csv('testdemographics.csv.xls')\n",
    "frames = [train_demographics,test_demographics]\n",
    "demographics = pd.concat(frames)\n",
    "demographics.shape"
   ]
  },
  {
   "cell_type": "code",
   "execution_count": 255,
   "metadata": {},
   "outputs": [
    {
     "name": "stdout",
     "output_type": "stream",
     "text": [
      "(4346, 9) (1487, 9)\n"
     ]
    }
   ],
   "source": [
    "print(train_demographics.shape,test_demographics.shape)"
   ]
  },
  {
   "cell_type": "code",
   "execution_count": 256,
   "metadata": {},
   "outputs": [
    {
     "data": {
      "text/plain": [
       "5818"
      ]
     },
     "execution_count": 256,
     "metadata": {},
     "output_type": "execute_result"
    }
   ],
   "source": [
    "len(demographics['customerid'].unique())"
   ]
  },
  {
   "cell_type": "markdown",
   "metadata": {},
   "source": [
    "### Drop Duplicates"
   ]
  },
  {
   "cell_type": "code",
   "execution_count": 257,
   "metadata": {
    "collapsed": true
   },
   "outputs": [],
   "source": [
    "demographics = demographics.drop_duplicates(subset='customerid',keep='last')"
   ]
  },
  {
   "cell_type": "code",
   "execution_count": 258,
   "metadata": {},
   "outputs": [
    {
     "data": {
      "text/plain": [
       "(5818, 9)"
      ]
     },
     "execution_count": 258,
     "metadata": {},
     "output_type": "execute_result"
    }
   ],
   "source": [
    "demographics.shape"
   ]
  },
  {
   "cell_type": "markdown",
   "metadata": {},
   "source": [
    "### 2.1 Age"
   ]
  },
  {
   "cell_type": "code",
   "execution_count": 259,
   "metadata": {},
   "outputs": [
    {
     "data": {
      "text/plain": [
       "0    1973-10-10\n",
       "1    1986-01-21\n",
       "2    1987-04-01\n",
       "3    1991-07-19\n",
       "4    1982-11-22\n",
       "Name: age, dtype: object"
      ]
     },
     "execution_count": 259,
     "metadata": {},
     "output_type": "execute_result"
    }
   ],
   "source": [
    "# Pop off '00:00:00.000000' from birthdate\n",
    "demographics['age'] = demographics['birthdate'].apply(lambda x: x.split().pop(0)[:10])\n",
    "# Sanity Check\n",
    "demographics['age'].head()"
   ]
  },
  {
   "cell_type": "code",
   "execution_count": 260,
   "metadata": {
    "collapsed": true
   },
   "outputs": [],
   "source": [
    "# Split the birth date (This converts each observation into a list)\n",
    "demographics['age'] = demographics['age'].apply(lambda x: x.split('-'))\n",
    "\n",
    "# Convert all elements in each observation(list) from str to int\n",
    "demographics['age'] = demographics['age'].apply(lambda x: [int(y) for y in x ])\n",
    "\n",
    "# Convert each observation into a date format\n",
    "demographics['age'] = demographics['age'].apply(lambda x : date(x[0], x[1], x[2]))\n",
    "\n",
    "# Calculate Age!\n",
    "demographics['age'] = demographics['age'].apply(lambda x:(date(2017,7,1) - x) // timedelta(days=365.2425) )"
   ]
  },
  {
   "cell_type": "code",
   "execution_count": 261,
   "metadata": {
    "collapsed": true
   },
   "outputs": [],
   "source": [
    "# sns.distplot((demographics['age']))"
   ]
  },
  {
   "cell_type": "code",
   "execution_count": 262,
   "metadata": {},
   "outputs": [
    {
     "data": {
      "text/html": [
       "<div>\n",
       "<style>\n",
       "    .dataframe thead tr:only-child th {\n",
       "        text-align: right;\n",
       "    }\n",
       "\n",
       "    .dataframe thead th {\n",
       "        text-align: left;\n",
       "    }\n",
       "\n",
       "    .dataframe tbody tr th {\n",
       "        vertical-align: top;\n",
       "    }\n",
       "</style>\n",
       "<table border=\"1\" class=\"dataframe\">\n",
       "  <thead>\n",
       "    <tr style=\"text-align: right;\">\n",
       "      <th></th>\n",
       "      <th>customerid</th>\n",
       "      <th>bank_account_type</th>\n",
       "      <th>longitude_gps</th>\n",
       "      <th>latitude_gps</th>\n",
       "      <th>bank_name_clients</th>\n",
       "      <th>bank_branch_clients</th>\n",
       "      <th>employment_status_clients</th>\n",
       "      <th>level_of_education_clients</th>\n",
       "      <th>age</th>\n",
       "    </tr>\n",
       "  </thead>\n",
       "  <tbody>\n",
       "    <tr>\n",
       "      <th>0</th>\n",
       "      <td>8a858e135cb22031015cbafc76964ebd</td>\n",
       "      <td>Savings</td>\n",
       "      <td>3.319219</td>\n",
       "      <td>6.528604</td>\n",
       "      <td>GT Bank</td>\n",
       "      <td>NaN</td>\n",
       "      <td>NaN</td>\n",
       "      <td>NaN</td>\n",
       "      <td>43</td>\n",
       "    </tr>\n",
       "    <tr>\n",
       "      <th>1</th>\n",
       "      <td>8a858e275c7ea5ec015c82482d7c3996</td>\n",
       "      <td>Savings</td>\n",
       "      <td>3.325598</td>\n",
       "      <td>7.119403</td>\n",
       "      <td>Sterling Bank</td>\n",
       "      <td>NaN</td>\n",
       "      <td>Permanent</td>\n",
       "      <td>NaN</td>\n",
       "      <td>31</td>\n",
       "    </tr>\n",
       "    <tr>\n",
       "      <th>2</th>\n",
       "      <td>8a858e5b5bd99460015bdc95cd485634</td>\n",
       "      <td>Savings</td>\n",
       "      <td>5.746100</td>\n",
       "      <td>5.563174</td>\n",
       "      <td>Fidelity Bank</td>\n",
       "      <td>NaN</td>\n",
       "      <td>NaN</td>\n",
       "      <td>NaN</td>\n",
       "      <td>30</td>\n",
       "    </tr>\n",
       "    <tr>\n",
       "      <th>3</th>\n",
       "      <td>8a858efd5ca70688015cabd1f1e94b55</td>\n",
       "      <td>Savings</td>\n",
       "      <td>3.362850</td>\n",
       "      <td>6.642485</td>\n",
       "      <td>GT Bank</td>\n",
       "      <td>NaN</td>\n",
       "      <td>Permanent</td>\n",
       "      <td>NaN</td>\n",
       "      <td>25</td>\n",
       "    </tr>\n",
       "    <tr>\n",
       "      <th>4</th>\n",
       "      <td>8a858e785acd3412015acd48f4920d04</td>\n",
       "      <td>Savings</td>\n",
       "      <td>8.455332</td>\n",
       "      <td>11.971410</td>\n",
       "      <td>GT Bank</td>\n",
       "      <td>NaN</td>\n",
       "      <td>Permanent</td>\n",
       "      <td>NaN</td>\n",
       "      <td>34</td>\n",
       "    </tr>\n",
       "  </tbody>\n",
       "</table>\n",
       "</div>"
      ],
      "text/plain": [
       "                         customerid bank_account_type  longitude_gps  \\\n",
       "0  8a858e135cb22031015cbafc76964ebd           Savings       3.319219   \n",
       "1  8a858e275c7ea5ec015c82482d7c3996           Savings       3.325598   \n",
       "2  8a858e5b5bd99460015bdc95cd485634           Savings       5.746100   \n",
       "3  8a858efd5ca70688015cabd1f1e94b55           Savings       3.362850   \n",
       "4  8a858e785acd3412015acd48f4920d04           Savings       8.455332   \n",
       "\n",
       "   latitude_gps bank_name_clients bank_branch_clients  \\\n",
       "0      6.528604           GT Bank                 NaN   \n",
       "1      7.119403     Sterling Bank                 NaN   \n",
       "2      5.563174     Fidelity Bank                 NaN   \n",
       "3      6.642485           GT Bank                 NaN   \n",
       "4     11.971410           GT Bank                 NaN   \n",
       "\n",
       "  employment_status_clients level_of_education_clients  age  \n",
       "0                       NaN                        NaN   43  \n",
       "1                 Permanent                        NaN   31  \n",
       "2                       NaN                        NaN   30  \n",
       "3                 Permanent                        NaN   25  \n",
       "4                 Permanent                        NaN   34  "
      ]
     },
     "execution_count": 262,
     "metadata": {},
     "output_type": "execute_result"
    }
   ],
   "source": [
    "demographics = demographics.drop('birthdate',axis=1)\n",
    "demographics.head()"
   ]
  },
  {
   "cell_type": "markdown",
   "metadata": {},
   "source": [
    "### Missing Values"
   ]
  },
  {
   "cell_type": "code",
   "execution_count": 263,
   "metadata": {},
   "outputs": [
    {
     "data": {
      "text/html": [
       "<div>\n",
       "<style>\n",
       "    .dataframe thead tr:only-child th {\n",
       "        text-align: right;\n",
       "    }\n",
       "\n",
       "    .dataframe thead th {\n",
       "        text-align: left;\n",
       "    }\n",
       "\n",
       "    .dataframe tbody tr th {\n",
       "        vertical-align: top;\n",
       "    }\n",
       "</style>\n",
       "<table border=\"1\" class=\"dataframe\">\n",
       "  <thead>\n",
       "    <tr style=\"text-align: right;\">\n",
       "      <th></th>\n",
       "      <th>Missing</th>\n",
       "    </tr>\n",
       "  </thead>\n",
       "  <tbody>\n",
       "    <tr>\n",
       "      <th>bank_branch_clients</th>\n",
       "      <td>5753</td>\n",
       "    </tr>\n",
       "    <tr>\n",
       "      <th>level_of_education_clients</th>\n",
       "      <td>5023</td>\n",
       "    </tr>\n",
       "    <tr>\n",
       "      <th>employment_status_clients</th>\n",
       "      <td>865</td>\n",
       "    </tr>\n",
       "  </tbody>\n",
       "</table>\n",
       "</div>"
      ],
      "text/plain": [
       "                            Missing\n",
       "bank_branch_clients            5753\n",
       "level_of_education_clients     5023\n",
       "employment_status_clients       865"
      ]
     },
     "execution_count": 263,
     "metadata": {},
     "output_type": "execute_result"
    }
   ],
   "source": [
    "missing = demographics.isnull().sum().sort_values(ascending=False)\n",
    "missing_df = pd.DataFrame(missing, columns = ['Missing'])\n",
    "missing_table = missing_df[missing_df.Missing > 0]\n",
    "missing_table"
   ]
  },
  {
   "cell_type": "code",
   "execution_count": 264,
   "metadata": {},
   "outputs": [
    {
     "data": {
      "image/png": "[encoded data removed]",
      "text/plain": [
       "<matplotlib.figure.Figure at 0x10f722b38>"
      ]
     },
     "metadata": {},
     "output_type": "display_data"
    }
   ],
   "source": [
    "demographics = demographics.drop('level_of_education_clients',axis=1)\n",
    "demographics = demographics.drop('bank_branch_clients',axis=1)\n",
    "sns.countplot(demographics['employment_status_clients']);"
   ]
  },
  {
   "cell_type": "code",
   "execution_count": 265,
   "metadata": {},
   "outputs": [
    {
     "data": {
      "text/html": [
       "<div>\n",
       "<style>\n",
       "    .dataframe thead tr:only-child th {\n",
       "        text-align: right;\n",
       "    }\n",
       "\n",
       "    .dataframe thead th {\n",
       "        text-align: left;\n",
       "    }\n",
       "\n",
       "    .dataframe tbody tr th {\n",
       "        vertical-align: top;\n",
       "    }\n",
       "</style>\n",
       "<table border=\"1\" class=\"dataframe\">\n",
       "  <thead>\n",
       "    <tr style=\"text-align: right;\">\n",
       "      <th></th>\n",
       "      <th>customerid</th>\n",
       "      <th>bank_account_type</th>\n",
       "      <th>longitude_gps</th>\n",
       "      <th>latitude_gps</th>\n",
       "      <th>bank_name_clients</th>\n",
       "      <th>employment_status_clients</th>\n",
       "      <th>age</th>\n",
       "    </tr>\n",
       "  </thead>\n",
       "  <tbody>\n",
       "    <tr>\n",
       "      <th>0</th>\n",
       "      <td>8a858e135cb22031015cbafc76964ebd</td>\n",
       "      <td>Savings</td>\n",
       "      <td>3.319219</td>\n",
       "      <td>6.528604</td>\n",
       "      <td>GT Bank</td>\n",
       "      <td>NaN</td>\n",
       "      <td>43</td>\n",
       "    </tr>\n",
       "    <tr>\n",
       "      <th>1</th>\n",
       "      <td>8a858e275c7ea5ec015c82482d7c3996</td>\n",
       "      <td>Savings</td>\n",
       "      <td>3.325598</td>\n",
       "      <td>7.119403</td>\n",
       "      <td>Sterling Bank</td>\n",
       "      <td>Permanent</td>\n",
       "      <td>31</td>\n",
       "    </tr>\n",
       "    <tr>\n",
       "      <th>2</th>\n",
       "      <td>8a858e5b5bd99460015bdc95cd485634</td>\n",
       "      <td>Savings</td>\n",
       "      <td>5.746100</td>\n",
       "      <td>5.563174</td>\n",
       "      <td>Fidelity Bank</td>\n",
       "      <td>NaN</td>\n",
       "      <td>30</td>\n",
       "    </tr>\n",
       "    <tr>\n",
       "      <th>3</th>\n",
       "      <td>8a858efd5ca70688015cabd1f1e94b55</td>\n",
       "      <td>Savings</td>\n",
       "      <td>3.362850</td>\n",
       "      <td>6.642485</td>\n",
       "      <td>GT Bank</td>\n",
       "      <td>Permanent</td>\n",
       "      <td>25</td>\n",
       "    </tr>\n",
       "    <tr>\n",
       "      <th>4</th>\n",
       "      <td>8a858e785acd3412015acd48f4920d04</td>\n",
       "      <td>Savings</td>\n",
       "      <td>8.455332</td>\n",
       "      <td>11.971410</td>\n",
       "      <td>GT Bank</td>\n",
       "      <td>Permanent</td>\n",
       "      <td>34</td>\n",
       "    </tr>\n",
       "  </tbody>\n",
       "</table>\n",
       "</div>"
      ],
      "text/plain": [
       "                         customerid bank_account_type  longitude_gps  \\\n",
       "0  8a858e135cb22031015cbafc76964ebd           Savings       3.319219   \n",
       "1  8a858e275c7ea5ec015c82482d7c3996           Savings       3.325598   \n",
       "2  8a858e5b5bd99460015bdc95cd485634           Savings       5.746100   \n",
       "3  8a858efd5ca70688015cabd1f1e94b55           Savings       3.362850   \n",
       "4  8a858e785acd3412015acd48f4920d04           Savings       8.455332   \n",
       "\n",
       "   latitude_gps bank_name_clients employment_status_clients  age  \n",
       "0      6.528604           GT Bank                       NaN   43  \n",
       "1      7.119403     Sterling Bank                 Permanent   31  \n",
       "2      5.563174     Fidelity Bank                       NaN   30  \n",
       "3      6.642485           GT Bank                 Permanent   25  \n",
       "4     11.971410           GT Bank                 Permanent   34  "
      ]
     },
     "execution_count": 265,
     "metadata": {},
     "output_type": "execute_result"
    }
   ],
   "source": [
    "demographics.head()"
   ]
  },
  {
   "cell_type": "markdown",
   "metadata": {},
   "source": [
    "Deal with 'employment_status_clients' later"
   ]
  },
  {
   "cell_type": "code",
   "execution_count": 266,
   "metadata": {},
   "outputs": [
    {
     "data": {
      "text/html": [
       "<div>\n",
       "<style>\n",
       "    .dataframe thead tr:only-child th {\n",
       "        text-align: right;\n",
       "    }\n",
       "\n",
       "    .dataframe thead th {\n",
       "        text-align: left;\n",
       "    }\n",
       "\n",
       "    .dataframe tbody tr th {\n",
       "        vertical-align: top;\n",
       "    }\n",
       "</style>\n",
       "<table border=\"1\" class=\"dataframe\">\n",
       "  <thead>\n",
       "    <tr style=\"text-align: right;\">\n",
       "      <th></th>\n",
       "      <th>approveddate</th>\n",
       "      <th>creationdate</th>\n",
       "      <th>customerid</th>\n",
       "      <th>good_bad_flag</th>\n",
       "      <th>loanamount</th>\n",
       "      <th>loannumber</th>\n",
       "      <th>referredby</th>\n",
       "      <th>systemloanid</th>\n",
       "      <th>termdays</th>\n",
       "      <th>totaldue</th>\n",
       "      <th>referred</th>\n",
       "      <th>interest</th>\n",
       "      <th>bank_account_type</th>\n",
       "      <th>longitude_gps</th>\n",
       "      <th>latitude_gps</th>\n",
       "      <th>bank_name_clients</th>\n",
       "      <th>employment_status_clients</th>\n",
       "      <th>age</th>\n",
       "    </tr>\n",
       "  </thead>\n",
       "  <tbody>\n",
       "    <tr>\n",
       "      <th>0</th>\n",
       "      <td>2017-07-25 08:22:56.000000</td>\n",
       "      <td>2017-07-25 07:22:47.000000</td>\n",
       "      <td>8a2a81a74ce8c05d014cfb32a0da1049</td>\n",
       "      <td>Good</td>\n",
       "      <td>30000.0</td>\n",
       "      <td>12</td>\n",
       "      <td>0</td>\n",
       "      <td>301994762</td>\n",
       "      <td>thirty</td>\n",
       "      <td>34500.0</td>\n",
       "      <td>0</td>\n",
       "      <td>4500.0</td>\n",
       "      <td>Other</td>\n",
       "      <td>3.432010</td>\n",
       "      <td>6.433055</td>\n",
       "      <td>Diamond Bank</td>\n",
       "      <td>Permanent</td>\n",
       "      <td>45</td>\n",
       "    </tr>\n",
       "    <tr>\n",
       "      <th>1</th>\n",
       "      <td>2017-07-05 17:04:41.000000</td>\n",
       "      <td>2017-07-05 16:04:18.000000</td>\n",
       "      <td>8a85886e54beabf90154c0a29ae757c0</td>\n",
       "      <td>Good</td>\n",
       "      <td>15000.0</td>\n",
       "      <td>2</td>\n",
       "      <td>0</td>\n",
       "      <td>301965204</td>\n",
       "      <td>thirty</td>\n",
       "      <td>17250.0</td>\n",
       "      <td>0</td>\n",
       "      <td>2250.0</td>\n",
       "      <td>Savings</td>\n",
       "      <td>3.885298</td>\n",
       "      <td>7.320700</td>\n",
       "      <td>GT Bank</td>\n",
       "      <td>Permanent</td>\n",
       "      <td>31</td>\n",
       "    </tr>\n",
       "    <tr>\n",
       "      <th>2</th>\n",
       "      <td>2017-07-06 14:52:57.000000</td>\n",
       "      <td>2017-07-06 13:52:51.000000</td>\n",
       "      <td>8a8588f35438fe12015444567666018e</td>\n",
       "      <td>Good</td>\n",
       "      <td>20000.0</td>\n",
       "      <td>7</td>\n",
       "      <td>0</td>\n",
       "      <td>301966580</td>\n",
       "      <td>fifteen</td>\n",
       "      <td>22250.0</td>\n",
       "      <td>0</td>\n",
       "      <td>2250.0</td>\n",
       "      <td>Other</td>\n",
       "      <td>11.139350</td>\n",
       "      <td>10.292041</td>\n",
       "      <td>EcoBank</td>\n",
       "      <td>Permanent</td>\n",
       "      <td>32</td>\n",
       "    </tr>\n",
       "    <tr>\n",
       "      <th>3</th>\n",
       "      <td>2017-07-27 19:00:41.000000</td>\n",
       "      <td>2017-07-27 18:00:35.000000</td>\n",
       "      <td>8a85890754145ace015429211b513e16</td>\n",
       "      <td>Good</td>\n",
       "      <td>10000.0</td>\n",
       "      <td>3</td>\n",
       "      <td>0</td>\n",
       "      <td>301999343</td>\n",
       "      <td>fifteen</td>\n",
       "      <td>11500.0</td>\n",
       "      <td>0</td>\n",
       "      <td>1500.0</td>\n",
       "      <td>Savings</td>\n",
       "      <td>3.985770</td>\n",
       "      <td>7.491708</td>\n",
       "      <td>First Bank</td>\n",
       "      <td>Permanent</td>\n",
       "      <td>39</td>\n",
       "    </tr>\n",
       "    <tr>\n",
       "      <th>4</th>\n",
       "      <td>2017-07-03 23:42:45.000000</td>\n",
       "      <td>2017-07-03 22:42:39.000000</td>\n",
       "      <td>8a858970548359cc0154883481981866</td>\n",
       "      <td>Good</td>\n",
       "      <td>40000.0</td>\n",
       "      <td>9</td>\n",
       "      <td>0</td>\n",
       "      <td>301962360</td>\n",
       "      <td>thirty</td>\n",
       "      <td>44000.0</td>\n",
       "      <td>0</td>\n",
       "      <td>4000.0</td>\n",
       "      <td>Other</td>\n",
       "      <td>7.457913</td>\n",
       "      <td>9.076574</td>\n",
       "      <td>GT Bank</td>\n",
       "      <td>Permanent</td>\n",
       "      <td>30</td>\n",
       "    </tr>\n",
       "  </tbody>\n",
       "</table>\n",
       "</div>"
      ],
      "text/plain": [
       "                 approveddate                creationdate  \\\n",
       "0  2017-07-25 08:22:56.000000  2017-07-25 07:22:47.000000   \n",
       "1  2017-07-05 17:04:41.000000  2017-07-05 16:04:18.000000   \n",
       "2  2017-07-06 14:52:57.000000  2017-07-06 13:52:51.000000   \n",
       "3  2017-07-27 19:00:41.000000  2017-07-27 18:00:35.000000   \n",
       "4  2017-07-03 23:42:45.000000  2017-07-03 22:42:39.000000   \n",
       "\n",
       "                         customerid good_bad_flag  loanamount  loannumber  \\\n",
       "0  8a2a81a74ce8c05d014cfb32a0da1049          Good     30000.0          12   \n",
       "1  8a85886e54beabf90154c0a29ae757c0          Good     15000.0           2   \n",
       "2  8a8588f35438fe12015444567666018e          Good     20000.0           7   \n",
       "3  8a85890754145ace015429211b513e16          Good     10000.0           3   \n",
       "4  8a858970548359cc0154883481981866          Good     40000.0           9   \n",
       "\n",
       "  referredby  systemloanid termdays  totaldue  referred  interest  \\\n",
       "0          0     301994762   thirty   34500.0         0    4500.0   \n",
       "1          0     301965204   thirty   17250.0         0    2250.0   \n",
       "2          0     301966580  fifteen   22250.0         0    2250.0   \n",
       "3          0     301999343  fifteen   11500.0         0    1500.0   \n",
       "4          0     301962360   thirty   44000.0         0    4000.0   \n",
       "\n",
       "  bank_account_type  longitude_gps  latitude_gps bank_name_clients  \\\n",
       "0             Other       3.432010      6.433055      Diamond Bank   \n",
       "1           Savings       3.885298      7.320700           GT Bank   \n",
       "2             Other      11.139350     10.292041           EcoBank   \n",
       "3           Savings       3.985770      7.491708        First Bank   \n",
       "4             Other       7.457913      9.076574           GT Bank   \n",
       "\n",
       "  employment_status_clients  age  \n",
       "0                 Permanent   45  \n",
       "1                 Permanent   31  \n",
       "2                 Permanent   32  \n",
       "3                 Permanent   39  \n",
       "4                 Permanent   30  "
      ]
     },
     "execution_count": 266,
     "metadata": {},
     "output_type": "execute_result"
    }
   ],
   "source": [
    "data = pd.merge(data, demographics, how='outer', on=['customerid'])\n",
    "data.head()"
   ]
  },
  {
   "cell_type": "markdown",
   "metadata": {},
   "source": [
    "# 3. Previous Loans"
   ]
  },
  {
   "cell_type": "code",
   "execution_count": 267,
   "metadata": {},
   "outputs": [
    {
     "data": {
      "text/plain": [
       "(24090, 12)"
      ]
     },
     "execution_count": 267,
     "metadata": {},
     "output_type": "execute_result"
    }
   ],
   "source": [
    "train_prevloans = pd.read_csv('trainprevloans.csv.xls')\n",
    "test_prevloans = pd.read_csv('testprevloans.csv.xls')\n",
    "frames = [train_prevloans,test_prevloans]\n",
    "previous_loans = pd.concat(frames)\n",
    "previous_loans.shape"
   ]
  },
  {
   "cell_type": "code",
   "execution_count": 268,
   "metadata": {},
   "outputs": [
    {
     "data": {
      "text/html": [
       "<div>\n",
       "<style>\n",
       "    .dataframe thead tr:only-child th {\n",
       "        text-align: right;\n",
       "    }\n",
       "\n",
       "    .dataframe thead th {\n",
       "        text-align: left;\n",
       "    }\n",
       "\n",
       "    .dataframe tbody tr th {\n",
       "        vertical-align: top;\n",
       "    }\n",
       "</style>\n",
       "<table border=\"1\" class=\"dataframe\">\n",
       "  <thead>\n",
       "    <tr style=\"text-align: right;\">\n",
       "      <th></th>\n",
       "      <th>customerid</th>\n",
       "      <th>systemloanid</th>\n",
       "      <th>loannumber</th>\n",
       "      <th>approveddate</th>\n",
       "      <th>creationdate</th>\n",
       "      <th>loanamount</th>\n",
       "      <th>totaldue</th>\n",
       "      <th>termdays</th>\n",
       "      <th>closeddate</th>\n",
       "      <th>referredby</th>\n",
       "      <th>firstduedate</th>\n",
       "      <th>firstrepaiddate</th>\n",
       "    </tr>\n",
       "  </thead>\n",
       "  <tbody>\n",
       "    <tr>\n",
       "      <th>0</th>\n",
       "      <td>8a2a81a74ce8c05d014cfb32a0da1049</td>\n",
       "      <td>301682320</td>\n",
       "      <td>2</td>\n",
       "      <td>2016-08-15 18:22:40.000000</td>\n",
       "      <td>2016-08-15 17:22:32.000000</td>\n",
       "      <td>10000.0</td>\n",
       "      <td>13000.0</td>\n",
       "      <td>30</td>\n",
       "      <td>2016-09-01 16:06:48.000000</td>\n",
       "      <td>NaN</td>\n",
       "      <td>2016-09-14 00:00:00.000000</td>\n",
       "      <td>2016-09-01 15:51:43.000000</td>\n",
       "    </tr>\n",
       "    <tr>\n",
       "      <th>1</th>\n",
       "      <td>8a2a81a74ce8c05d014cfb32a0da1049</td>\n",
       "      <td>301883808</td>\n",
       "      <td>9</td>\n",
       "      <td>2017-04-28 18:39:07.000000</td>\n",
       "      <td>2017-04-28 17:38:53.000000</td>\n",
       "      <td>10000.0</td>\n",
       "      <td>13000.0</td>\n",
       "      <td>30</td>\n",
       "      <td>2017-05-28 14:44:49.000000</td>\n",
       "      <td>NaN</td>\n",
       "      <td>2017-05-30 00:00:00.000000</td>\n",
       "      <td>2017-05-26 00:00:00.000000</td>\n",
       "    </tr>\n",
       "    <tr>\n",
       "      <th>2</th>\n",
       "      <td>8a2a81a74ce8c05d014cfb32a0da1049</td>\n",
       "      <td>301831714</td>\n",
       "      <td>8</td>\n",
       "      <td>2017-03-05 10:56:25.000000</td>\n",
       "      <td>2017-03-05 09:56:19.000000</td>\n",
       "      <td>20000.0</td>\n",
       "      <td>23800.0</td>\n",
       "      <td>30</td>\n",
       "      <td>2017-04-26 22:18:56.000000</td>\n",
       "      <td>NaN</td>\n",
       "      <td>2017-04-04 00:00:00.000000</td>\n",
       "      <td>2017-04-26 22:03:47.000000</td>\n",
       "    </tr>\n",
       "    <tr>\n",
       "      <th>3</th>\n",
       "      <td>8a8588f35438fe12015444567666018e</td>\n",
       "      <td>301861541</td>\n",
       "      <td>5</td>\n",
       "      <td>2017-04-09 18:25:55.000000</td>\n",
       "      <td>2017-04-09 17:25:42.000000</td>\n",
       "      <td>10000.0</td>\n",
       "      <td>11500.0</td>\n",
       "      <td>15</td>\n",
       "      <td>2017-04-24 01:35:52.000000</td>\n",
       "      <td>NaN</td>\n",
       "      <td>2017-04-24 00:00:00.000000</td>\n",
       "      <td>2017-04-24 00:48:43.000000</td>\n",
       "    </tr>\n",
       "    <tr>\n",
       "      <th>4</th>\n",
       "      <td>8a85890754145ace015429211b513e16</td>\n",
       "      <td>301941754</td>\n",
       "      <td>2</td>\n",
       "      <td>2017-06-17 09:29:57.000000</td>\n",
       "      <td>2017-06-17 08:29:50.000000</td>\n",
       "      <td>10000.0</td>\n",
       "      <td>11500.0</td>\n",
       "      <td>15</td>\n",
       "      <td>2017-07-14 21:18:43.000000</td>\n",
       "      <td>NaN</td>\n",
       "      <td>2017-07-03 00:00:00.000000</td>\n",
       "      <td>2017-07-14 21:08:35.000000</td>\n",
       "    </tr>\n",
       "  </tbody>\n",
       "</table>\n",
       "</div>"
      ],
      "text/plain": [
       "                         customerid  systemloanid  loannumber  \\\n",
       "0  8a2a81a74ce8c05d014cfb32a0da1049     301682320           2   \n",
       "1  8a2a81a74ce8c05d014cfb32a0da1049     301883808           9   \n",
       "2  8a2a81a74ce8c05d014cfb32a0da1049     301831714           8   \n",
       "3  8a8588f35438fe12015444567666018e     301861541           5   \n",
       "4  8a85890754145ace015429211b513e16     301941754           2   \n",
       "\n",
       "                 approveddate                creationdate  loanamount  \\\n",
       "0  2016-08-15 18:22:40.000000  2016-08-15 17:22:32.000000     10000.0   \n",
       "1  2017-04-28 18:39:07.000000  2017-04-28 17:38:53.000000     10000.0   \n",
       "2  2017-03-05 10:56:25.000000  2017-03-05 09:56:19.000000     20000.0   \n",
       "3  2017-04-09 18:25:55.000000  2017-04-09 17:25:42.000000     10000.0   \n",
       "4  2017-06-17 09:29:57.000000  2017-06-17 08:29:50.000000     10000.0   \n",
       "\n",
       "   totaldue  termdays                  closeddate referredby  \\\n",
       "0   13000.0        30  2016-09-01 16:06:48.000000        NaN   \n",
       "1   13000.0        30  2017-05-28 14:44:49.000000        NaN   \n",
       "2   23800.0        30  2017-04-26 22:18:56.000000        NaN   \n",
       "3   11500.0        15  2017-04-24 01:35:52.000000        NaN   \n",
       "4   11500.0        15  2017-07-14 21:18:43.000000        NaN   \n",
       "\n",
       "                 firstduedate             firstrepaiddate  \n",
       "0  2016-09-14 00:00:00.000000  2016-09-01 15:51:43.000000  \n",
       "1  2017-05-30 00:00:00.000000  2017-05-26 00:00:00.000000  \n",
       "2  2017-04-04 00:00:00.000000  2017-04-26 22:03:47.000000  \n",
       "3  2017-04-24 00:00:00.000000  2017-04-24 00:48:43.000000  \n",
       "4  2017-07-03 00:00:00.000000  2017-07-14 21:08:35.000000  "
      ]
     },
     "execution_count": 268,
     "metadata": {},
     "output_type": "execute_result"
    }
   ],
   "source": [
    "previous_loans.head()"
   ]
  },
  {
   "cell_type": "markdown",
   "metadata": {},
   "source": [
    "### 3.2 Average Loan Amount, Average Interest & Average Termdays for each customer"
   ]
  },
  {
   "cell_type": "code",
   "execution_count": 269,
   "metadata": {},
   "outputs": [
    {
     "data": {
      "text/html": [
       "<div>\n",
       "<style>\n",
       "    .dataframe thead tr:only-child th {\n",
       "        text-align: right;\n",
       "    }\n",
       "\n",
       "    .dataframe thead th {\n",
       "        text-align: left;\n",
       "    }\n",
       "\n",
       "    .dataframe tbody tr th {\n",
       "        vertical-align: top;\n",
       "    }\n",
       "</style>\n",
       "<table border=\"1\" class=\"dataframe\">\n",
       "  <thead>\n",
       "    <tr style=\"text-align: right;\">\n",
       "      <th></th>\n",
       "      <th>customerid</th>\n",
       "      <th>avg_loanamount</th>\n",
       "      <th>avg_totaldue</th>\n",
       "    </tr>\n",
       "  </thead>\n",
       "  <tbody>\n",
       "    <tr>\n",
       "      <th>0</th>\n",
       "      <td>8a1088a0484472eb01484669e3ce4e0b</td>\n",
       "      <td>10000.000000</td>\n",
       "      <td>11500.000000</td>\n",
       "    </tr>\n",
       "    <tr>\n",
       "      <th>1</th>\n",
       "      <td>8a1a1e7e4f707f8b014f797718316cad</td>\n",
       "      <td>17500.000000</td>\n",
       "      <td>22375.000000</td>\n",
       "    </tr>\n",
       "    <tr>\n",
       "      <th>2</th>\n",
       "      <td>8a1a32fc49b632520149c3b8fdf85139</td>\n",
       "      <td>12857.142857</td>\n",
       "      <td>15214.285714</td>\n",
       "    </tr>\n",
       "    <tr>\n",
       "      <th>3</th>\n",
       "      <td>8a1eb5ba49a682300149c3c068b806c7</td>\n",
       "      <td>16250.000000</td>\n",
       "      <td>20300.000000</td>\n",
       "    </tr>\n",
       "    <tr>\n",
       "      <th>4</th>\n",
       "      <td>8a1edbf14734127f0147356fdb1b1eb2</td>\n",
       "      <td>10000.000000</td>\n",
       "      <td>12250.000000</td>\n",
       "    </tr>\n",
       "  </tbody>\n",
       "</table>\n",
       "</div>"
      ],
      "text/plain": [
       "                         customerid  avg_loanamount  avg_totaldue\n",
       "0  8a1088a0484472eb01484669e3ce4e0b    10000.000000  11500.000000\n",
       "1  8a1a1e7e4f707f8b014f797718316cad    17500.000000  22375.000000\n",
       "2  8a1a32fc49b632520149c3b8fdf85139    12857.142857  15214.285714\n",
       "3  8a1eb5ba49a682300149c3c068b806c7    16250.000000  20300.000000\n",
       "4  8a1edbf14734127f0147356fdb1b1eb2    10000.000000  12250.000000"
      ]
     },
     "execution_count": 269,
     "metadata": {},
     "output_type": "execute_result"
    }
   ],
   "source": [
    "previous_loans[['customerid','loanamount','totaldue']]\n",
    "grouped = previous_loans[['customerid','loanamount','totaldue']].groupby('customerid').mean()\n",
    "grouped = grouped.reset_index()\n",
    "grouped.columns = ['customerid','avg_loanamount','avg_totaldue']\n",
    "grouped.head()"
   ]
  },
  {
   "cell_type": "code",
   "execution_count": 270,
   "metadata": {
    "collapsed": true
   },
   "outputs": [],
   "source": [
    "grouped = grouped[['customerid','avg_loanamount','avg_totaldue']]"
   ]
  },
  {
   "cell_type": "code",
   "execution_count": 271,
   "metadata": {
    "collapsed": true
   },
   "outputs": [],
   "source": [
    "data = pd.merge(data, grouped, how='outer', on=['customerid'])"
   ]
  },
  {
   "cell_type": "code",
   "execution_count": 272,
   "metadata": {
    "collapsed": true
   },
   "outputs": [],
   "source": [
    "data[['avg_loanamount','avg_totaldue']] = data[['avg_loanamount','avg_totaldue']].fillna(0)"
   ]
  },
  {
   "cell_type": "code",
   "execution_count": 273,
   "metadata": {
    "collapsed": true
   },
   "outputs": [],
   "source": [
    "data['avg_interest'] = data['avg_totaldue'] - data['avg_loanamount']"
   ]
  },
  {
   "cell_type": "code",
   "execution_count": 274,
   "metadata": {},
   "outputs": [
    {
     "data": {
      "text/html": [
       "<div>\n",
       "<style>\n",
       "    .dataframe thead tr:only-child th {\n",
       "        text-align: right;\n",
       "    }\n",
       "\n",
       "    .dataframe thead th {\n",
       "        text-align: left;\n",
       "    }\n",
       "\n",
       "    .dataframe tbody tr th {\n",
       "        vertical-align: top;\n",
       "    }\n",
       "</style>\n",
       "<table border=\"1\" class=\"dataframe\">\n",
       "  <thead>\n",
       "    <tr style=\"text-align: right;\">\n",
       "      <th></th>\n",
       "      <th>approveddate</th>\n",
       "      <th>creationdate</th>\n",
       "      <th>customerid</th>\n",
       "      <th>good_bad_flag</th>\n",
       "      <th>loanamount</th>\n",
       "      <th>loannumber</th>\n",
       "      <th>referredby</th>\n",
       "      <th>systemloanid</th>\n",
       "      <th>termdays</th>\n",
       "      <th>totaldue</th>\n",
       "      <th>...</th>\n",
       "      <th>interest</th>\n",
       "      <th>bank_account_type</th>\n",
       "      <th>longitude_gps</th>\n",
       "      <th>latitude_gps</th>\n",
       "      <th>bank_name_clients</th>\n",
       "      <th>employment_status_clients</th>\n",
       "      <th>age</th>\n",
       "      <th>avg_loanamount</th>\n",
       "      <th>avg_totaldue</th>\n",
       "      <th>avg_interest</th>\n",
       "    </tr>\n",
       "  </thead>\n",
       "  <tbody>\n",
       "    <tr>\n",
       "      <th>0</th>\n",
       "      <td>2017-07-25 08:22:56.000000</td>\n",
       "      <td>2017-07-25 07:22:47.000000</td>\n",
       "      <td>8a2a81a74ce8c05d014cfb32a0da1049</td>\n",
       "      <td>Good</td>\n",
       "      <td>30000.0</td>\n",
       "      <td>12</td>\n",
       "      <td>0</td>\n",
       "      <td>301994762</td>\n",
       "      <td>thirty</td>\n",
       "      <td>34500.0</td>\n",
       "      <td>...</td>\n",
       "      <td>4500.0</td>\n",
       "      <td>Other</td>\n",
       "      <td>3.432010</td>\n",
       "      <td>6.433055</td>\n",
       "      <td>Diamond Bank</td>\n",
       "      <td>Permanent</td>\n",
       "      <td>45</td>\n",
       "      <td>18181.818182</td>\n",
       "      <td>22081.818182</td>\n",
       "      <td>3900.0</td>\n",
       "    </tr>\n",
       "    <tr>\n",
       "      <th>1</th>\n",
       "      <td>2017-07-05 17:04:41.000000</td>\n",
       "      <td>2017-07-05 16:04:18.000000</td>\n",
       "      <td>8a85886e54beabf90154c0a29ae757c0</td>\n",
       "      <td>Good</td>\n",
       "      <td>15000.0</td>\n",
       "      <td>2</td>\n",
       "      <td>0</td>\n",
       "      <td>301965204</td>\n",
       "      <td>thirty</td>\n",
       "      <td>17250.0</td>\n",
       "      <td>...</td>\n",
       "      <td>2250.0</td>\n",
       "      <td>Savings</td>\n",
       "      <td>3.885298</td>\n",
       "      <td>7.320700</td>\n",
       "      <td>GT Bank</td>\n",
       "      <td>Permanent</td>\n",
       "      <td>31</td>\n",
       "      <td>0.000000</td>\n",
       "      <td>0.000000</td>\n",
       "      <td>0.0</td>\n",
       "    </tr>\n",
       "    <tr>\n",
       "      <th>2</th>\n",
       "      <td>2017-07-06 14:52:57.000000</td>\n",
       "      <td>2017-07-06 13:52:51.000000</td>\n",
       "      <td>8a8588f35438fe12015444567666018e</td>\n",
       "      <td>Good</td>\n",
       "      <td>20000.0</td>\n",
       "      <td>7</td>\n",
       "      <td>0</td>\n",
       "      <td>301966580</td>\n",
       "      <td>fifteen</td>\n",
       "      <td>22250.0</td>\n",
       "      <td>...</td>\n",
       "      <td>2250.0</td>\n",
       "      <td>Other</td>\n",
       "      <td>11.139350</td>\n",
       "      <td>10.292041</td>\n",
       "      <td>EcoBank</td>\n",
       "      <td>Permanent</td>\n",
       "      <td>32</td>\n",
       "      <td>10000.000000</td>\n",
       "      <td>11750.000000</td>\n",
       "      <td>1750.0</td>\n",
       "    </tr>\n",
       "    <tr>\n",
       "      <th>3</th>\n",
       "      <td>2017-07-27 19:00:41.000000</td>\n",
       "      <td>2017-07-27 18:00:35.000000</td>\n",
       "      <td>8a85890754145ace015429211b513e16</td>\n",
       "      <td>Good</td>\n",
       "      <td>10000.0</td>\n",
       "      <td>3</td>\n",
       "      <td>0</td>\n",
       "      <td>301999343</td>\n",
       "      <td>fifteen</td>\n",
       "      <td>11500.0</td>\n",
       "      <td>...</td>\n",
       "      <td>1500.0</td>\n",
       "      <td>Savings</td>\n",
       "      <td>3.985770</td>\n",
       "      <td>7.491708</td>\n",
       "      <td>First Bank</td>\n",
       "      <td>Permanent</td>\n",
       "      <td>39</td>\n",
       "      <td>10000.000000</td>\n",
       "      <td>12250.000000</td>\n",
       "      <td>2250.0</td>\n",
       "    </tr>\n",
       "    <tr>\n",
       "      <th>4</th>\n",
       "      <td>2017-07-03 23:42:45.000000</td>\n",
       "      <td>2017-07-03 22:42:39.000000</td>\n",
       "      <td>8a858970548359cc0154883481981866</td>\n",
       "      <td>Good</td>\n",
       "      <td>40000.0</td>\n",
       "      <td>9</td>\n",
       "      <td>0</td>\n",
       "      <td>301962360</td>\n",
       "      <td>thirty</td>\n",
       "      <td>44000.0</td>\n",
       "      <td>...</td>\n",
       "      <td>4000.0</td>\n",
       "      <td>Other</td>\n",
       "      <td>7.457913</td>\n",
       "      <td>9.076574</td>\n",
       "      <td>GT Bank</td>\n",
       "      <td>Permanent</td>\n",
       "      <td>30</td>\n",
       "      <td>18750.000000</td>\n",
       "      <td>23550.000000</td>\n",
       "      <td>4800.0</td>\n",
       "    </tr>\n",
       "  </tbody>\n",
       "</table>\n",
       "<p>5 rows × 21 columns</p>\n",
       "</div>"
      ],
      "text/plain": [
       "                 approveddate                creationdate  \\\n",
       "0  2017-07-25 08:22:56.000000  2017-07-25 07:22:47.000000   \n",
       "1  2017-07-05 17:04:41.000000  2017-07-05 16:04:18.000000   \n",
       "2  2017-07-06 14:52:57.000000  2017-07-06 13:52:51.000000   \n",
       "3  2017-07-27 19:00:41.000000  2017-07-27 18:00:35.000000   \n",
       "4  2017-07-03 23:42:45.000000  2017-07-03 22:42:39.000000   \n",
       "\n",
       "                         customerid good_bad_flag  loanamount  loannumber  \\\n",
       "0  8a2a81a74ce8c05d014cfb32a0da1049          Good     30000.0          12   \n",
       "1  8a85886e54beabf90154c0a29ae757c0          Good     15000.0           2   \n",
       "2  8a8588f35438fe12015444567666018e          Good     20000.0           7   \n",
       "3  8a85890754145ace015429211b513e16          Good     10000.0           3   \n",
       "4  8a858970548359cc0154883481981866          Good     40000.0           9   \n",
       "\n",
       "  referredby  systemloanid termdays  totaldue      ...       interest  \\\n",
       "0          0     301994762   thirty   34500.0      ...         4500.0   \n",
       "1          0     301965204   thirty   17250.0      ...         2250.0   \n",
       "2          0     301966580  fifteen   22250.0      ...         2250.0   \n",
       "3          0     301999343  fifteen   11500.0      ...         1500.0   \n",
       "4          0     301962360   thirty   44000.0      ...         4000.0   \n",
       "\n",
       "   bank_account_type longitude_gps  latitude_gps  bank_name_clients  \\\n",
       "0              Other      3.432010      6.433055       Diamond Bank   \n",
       "1            Savings      3.885298      7.320700            GT Bank   \n",
       "2              Other     11.139350     10.292041            EcoBank   \n",
       "3            Savings      3.985770      7.491708         First Bank   \n",
       "4              Other      7.457913      9.076574            GT Bank   \n",
       "\n",
       "  employment_status_clients age  avg_loanamount  avg_totaldue  avg_interest  \n",
       "0                 Permanent  45    18181.818182  22081.818182        3900.0  \n",
       "1                 Permanent  31        0.000000      0.000000           0.0  \n",
       "2                 Permanent  32    10000.000000  11750.000000        1750.0  \n",
       "3                 Permanent  39    10000.000000  12250.000000        2250.0  \n",
       "4                 Permanent  30    18750.000000  23550.000000        4800.0  \n",
       "\n",
       "[5 rows x 21 columns]"
      ]
     },
     "execution_count": 274,
     "metadata": {},
     "output_type": "execute_result"
    }
   ],
   "source": [
    "data.head()"
   ]
  },
  {
   "cell_type": "markdown",
   "metadata": {},
   "source": [
    "### 3.3 Repayment Score (First due date - First Repaid date)"
   ]
  },
  {
   "cell_type": "code",
   "execution_count": 275,
   "metadata": {
    "collapsed": true
   },
   "outputs": [],
   "source": [
    "previous_loans['firstduedate'] = previous_loans['firstduedate'].apply(lambda x: x.split().pop(0)[:10])\n",
    "previous_loans['firstrepaiddate'] = previous_loans['firstrepaiddate'].apply(lambda x: x.split().pop(0)[:10])"
   ]
  },
  {
   "cell_type": "code",
   "execution_count": 276,
   "metadata": {
    "collapsed": true
   },
   "outputs": [],
   "source": [
    "# Split the  date (This converts each observation into a list)\n",
    "previous_loans['firstduedate'] = previous_loans['firstduedate'].apply(lambda x: x.split('-'))\n",
    "\n",
    "# Convert all elements in each observation(list) from str to int\n",
    "previous_loans['firstduedate'] = previous_loans['firstduedate'].apply(lambda x: [int(y) for y in x ])\n",
    "\n",
    "# Convert each observation into a date format\n",
    "previous_loans['firstduedate'] = previous_loans['firstduedate'].apply(lambda x : date(x[0], x[1], x[2]))\n",
    "\n",
    "# Split the  date (This converts each observation into a list)\n",
    "previous_loans['firstrepaiddate'] = previous_loans['firstrepaiddate'].apply(lambda x: x.split('-'))\n",
    "\n",
    "# Convert all elements in each observation(list) from str to int\n",
    "previous_loans['firstrepaiddate'] = previous_loans['firstrepaiddate'].apply(lambda x: [int(y) for y in x ])\n",
    "\n",
    "# Convert each observation into a date format\n",
    "previous_loans['firstrepaiddate'] = previous_loans['firstrepaiddate'].apply(lambda x : date(x[0], x[1], x[2]))\n",
    "\n",
    "# Calculate repayment_score\n",
    "previous_loans['repayment_score'] = previous_loans['firstduedate'] - previous_loans['firstrepaiddate']\n"
   ]
  },
  {
   "cell_type": "code",
   "execution_count": 277,
   "metadata": {},
   "outputs": [
    {
     "data": {
      "text/html": [
       "<div>\n",
       "<style>\n",
       "    .dataframe thead tr:only-child th {\n",
       "        text-align: right;\n",
       "    }\n",
       "\n",
       "    .dataframe thead th {\n",
       "        text-align: left;\n",
       "    }\n",
       "\n",
       "    .dataframe tbody tr th {\n",
       "        vertical-align: top;\n",
       "    }\n",
       "</style>\n",
       "<table border=\"1\" class=\"dataframe\">\n",
       "  <thead>\n",
       "    <tr style=\"text-align: right;\">\n",
       "      <th></th>\n",
       "      <th>customerid</th>\n",
       "      <th>systemloanid</th>\n",
       "      <th>loannumber</th>\n",
       "      <th>approveddate</th>\n",
       "      <th>creationdate</th>\n",
       "      <th>loanamount</th>\n",
       "      <th>totaldue</th>\n",
       "      <th>termdays</th>\n",
       "      <th>closeddate</th>\n",
       "      <th>referredby</th>\n",
       "      <th>firstduedate</th>\n",
       "      <th>firstrepaiddate</th>\n",
       "      <th>repayment_score</th>\n",
       "    </tr>\n",
       "  </thead>\n",
       "  <tbody>\n",
       "    <tr>\n",
       "      <th>0</th>\n",
       "      <td>8a2a81a74ce8c05d014cfb32a0da1049</td>\n",
       "      <td>301682320</td>\n",
       "      <td>2</td>\n",
       "      <td>2016-08-15 18:22:40.000000</td>\n",
       "      <td>2016-08-15 17:22:32.000000</td>\n",
       "      <td>10000.0</td>\n",
       "      <td>13000.0</td>\n",
       "      <td>30</td>\n",
       "      <td>2016-09-01 16:06:48.000000</td>\n",
       "      <td>NaN</td>\n",
       "      <td>2016-09-14</td>\n",
       "      <td>2016-09-01</td>\n",
       "      <td>13 days</td>\n",
       "    </tr>\n",
       "    <tr>\n",
       "      <th>1</th>\n",
       "      <td>8a2a81a74ce8c05d014cfb32a0da1049</td>\n",
       "      <td>301883808</td>\n",
       "      <td>9</td>\n",
       "      <td>2017-04-28 18:39:07.000000</td>\n",
       "      <td>2017-04-28 17:38:53.000000</td>\n",
       "      <td>10000.0</td>\n",
       "      <td>13000.0</td>\n",
       "      <td>30</td>\n",
       "      <td>2017-05-28 14:44:49.000000</td>\n",
       "      <td>NaN</td>\n",
       "      <td>2017-05-30</td>\n",
       "      <td>2017-05-26</td>\n",
       "      <td>4 days</td>\n",
       "    </tr>\n",
       "    <tr>\n",
       "      <th>2</th>\n",
       "      <td>8a2a81a74ce8c05d014cfb32a0da1049</td>\n",
       "      <td>301831714</td>\n",
       "      <td>8</td>\n",
       "      <td>2017-03-05 10:56:25.000000</td>\n",
       "      <td>2017-03-05 09:56:19.000000</td>\n",
       "      <td>20000.0</td>\n",
       "      <td>23800.0</td>\n",
       "      <td>30</td>\n",
       "      <td>2017-04-26 22:18:56.000000</td>\n",
       "      <td>NaN</td>\n",
       "      <td>2017-04-04</td>\n",
       "      <td>2017-04-26</td>\n",
       "      <td>-22 days</td>\n",
       "    </tr>\n",
       "    <tr>\n",
       "      <th>3</th>\n",
       "      <td>8a8588f35438fe12015444567666018e</td>\n",
       "      <td>301861541</td>\n",
       "      <td>5</td>\n",
       "      <td>2017-04-09 18:25:55.000000</td>\n",
       "      <td>2017-04-09 17:25:42.000000</td>\n",
       "      <td>10000.0</td>\n",
       "      <td>11500.0</td>\n",
       "      <td>15</td>\n",
       "      <td>2017-04-24 01:35:52.000000</td>\n",
       "      <td>NaN</td>\n",
       "      <td>2017-04-24</td>\n",
       "      <td>2017-04-24</td>\n",
       "      <td>0 days</td>\n",
       "    </tr>\n",
       "    <tr>\n",
       "      <th>4</th>\n",
       "      <td>8a85890754145ace015429211b513e16</td>\n",
       "      <td>301941754</td>\n",
       "      <td>2</td>\n",
       "      <td>2017-06-17 09:29:57.000000</td>\n",
       "      <td>2017-06-17 08:29:50.000000</td>\n",
       "      <td>10000.0</td>\n",
       "      <td>11500.0</td>\n",
       "      <td>15</td>\n",
       "      <td>2017-07-14 21:18:43.000000</td>\n",
       "      <td>NaN</td>\n",
       "      <td>2017-07-03</td>\n",
       "      <td>2017-07-14</td>\n",
       "      <td>-11 days</td>\n",
       "    </tr>\n",
       "  </tbody>\n",
       "</table>\n",
       "</div>"
      ],
      "text/plain": [
       "                         customerid  systemloanid  loannumber  \\\n",
       "0  8a2a81a74ce8c05d014cfb32a0da1049     301682320           2   \n",
       "1  8a2a81a74ce8c05d014cfb32a0da1049     301883808           9   \n",
       "2  8a2a81a74ce8c05d014cfb32a0da1049     301831714           8   \n",
       "3  8a8588f35438fe12015444567666018e     301861541           5   \n",
       "4  8a85890754145ace015429211b513e16     301941754           2   \n",
       "\n",
       "                 approveddate                creationdate  loanamount  \\\n",
       "0  2016-08-15 18:22:40.000000  2016-08-15 17:22:32.000000     10000.0   \n",
       "1  2017-04-28 18:39:07.000000  2017-04-28 17:38:53.000000     10000.0   \n",
       "2  2017-03-05 10:56:25.000000  2017-03-05 09:56:19.000000     20000.0   \n",
       "3  2017-04-09 18:25:55.000000  2017-04-09 17:25:42.000000     10000.0   \n",
       "4  2017-06-17 09:29:57.000000  2017-06-17 08:29:50.000000     10000.0   \n",
       "\n",
       "   totaldue  termdays                  closeddate referredby firstduedate  \\\n",
       "0   13000.0        30  2016-09-01 16:06:48.000000        NaN   2016-09-14   \n",
       "1   13000.0        30  2017-05-28 14:44:49.000000        NaN   2017-05-30   \n",
       "2   23800.0        30  2017-04-26 22:18:56.000000        NaN   2017-04-04   \n",
       "3   11500.0        15  2017-04-24 01:35:52.000000        NaN   2017-04-24   \n",
       "4   11500.0        15  2017-07-14 21:18:43.000000        NaN   2017-07-03   \n",
       "\n",
       "  firstrepaiddate repayment_score  \n",
       "0      2016-09-01         13 days  \n",
       "1      2017-05-26          4 days  \n",
       "2      2017-04-26        -22 days  \n",
       "3      2017-04-24          0 days  \n",
       "4      2017-07-14        -11 days  "
      ]
     },
     "execution_count": 277,
     "metadata": {},
     "output_type": "execute_result"
    }
   ],
   "source": [
    "previous_loans.head()"
   ]
  },
  {
   "cell_type": "code",
   "execution_count": 278,
   "metadata": {
    "collapsed": true
   },
   "outputs": [],
   "source": [
    "previous_loans['repayment_score'] = previous_loans['repayment_score'].astype('str').apply(lambda x: int(x.strip(' ')[:2]))"
   ]
  },
  {
   "cell_type": "code",
   "execution_count": 279,
   "metadata": {},
   "outputs": [
    {
     "data": {
      "text/plain": [
       "(5801, 2)"
      ]
     },
     "execution_count": 279,
     "metadata": {},
     "output_type": "execute_result"
    }
   ],
   "source": [
    "previous_loans[['customerid','repayment_score']]\n",
    "grouped = previous_loans[['customerid','repayment_score']].groupby('customerid').sum()\n",
    "grouped = grouped.reset_index()\n",
    "grouped.shape"
   ]
  },
  {
   "cell_type": "code",
   "execution_count": 280,
   "metadata": {
    "collapsed": true
   },
   "outputs": [],
   "source": [
    "data = pd.merge(data, grouped, how='outer', on=['customerid'])"
   ]
  },
  {
   "cell_type": "code",
   "execution_count": 281,
   "metadata": {
    "collapsed": true
   },
   "outputs": [],
   "source": [
    "data['repayment_score'] = data['repayment_score'].fillna(0)"
   ]
  },
  {
   "cell_type": "markdown",
   "metadata": {
    "collapsed": true
   },
   "source": [
    "### Missing Data (employment_status_clients)"
   ]
  },
  {
   "cell_type": "code",
   "execution_count": 282,
   "metadata": {},
   "outputs": [
    {
     "data": {
      "text/plain": [
       "865"
      ]
     },
     "execution_count": 282,
     "metadata": {},
     "output_type": "execute_result"
    }
   ],
   "source": [
    "data['employment_status_clients'].isnull().sum()"
   ]
  },
  {
   "cell_type": "code",
   "execution_count": 283,
   "metadata": {},
   "outputs": [
    {
     "data": {
      "text/plain": [
       "0"
      ]
     },
     "execution_count": 283,
     "metadata": {},
     "output_type": "execute_result"
    }
   ],
   "source": [
    "data['employment_status_clients'] = data['employment_status_clients'].fillna(method='bfill')\n",
    "data['employment_status_clients'].isnull().sum()"
   ]
  },
  {
   "cell_type": "code",
   "execution_count": 284,
   "metadata": {},
   "outputs": [
    {
     "data": {
      "text/plain": [
       "(5818, 22)"
      ]
     },
     "execution_count": 284,
     "metadata": {},
     "output_type": "execute_result"
    }
   ],
   "source": [
    "data.shape"
   ]
  },
  {
   "cell_type": "markdown",
   "metadata": {},
   "source": [
    "# 4. Feature Engineering"
   ]
  },
  {
   "cell_type": "code",
   "execution_count": 285,
   "metadata": {
    "collapsed": true
   },
   "outputs": [],
   "source": [
    "data['loan_deviation'] = data['avg_loanamount'] - data['loanamount']"
   ]
  },
  {
   "cell_type": "markdown",
   "metadata": {},
   "source": [
    "### referredby (retreive list of all referees performance + previous loans data)"
   ]
  },
  {
   "cell_type": "code",
   "execution_count": 286,
   "metadata": {
    "collapsed": true
   },
   "outputs": [],
   "source": [
    "# # First get all referees from referredby column in data\n",
    "# referrers = data['referredby'].dropna(axis=0)\n",
    "# referrers_list = pd.DataFrame()\n",
    "# referrers_list['customerid'] = referrers\n",
    "# referrers_list = referrers_list.reset_index()\n",
    "# referrers_list['ref_count'] = 1\n",
    "# referrers_list = referrers_list.groupby('customerid').sum()\n",
    "# referrers_list = referrers_list.reset_index()\n",
    "# referrers_list_data = referrers_list.drop('index',axis=1)"
   ]
  },
  {
   "cell_type": "code",
   "execution_count": 287,
   "metadata": {},
   "outputs": [],
   "source": [
    "# referrers_list_data = referrers_list_data.iloc[1:,:]"
   ]
  },
  {
   "cell_type": "code",
   "execution_count": 288,
   "metadata": {},
   "outputs": [],
   "source": [
    "# referrers_list = referrers_list_data"
   ]
  },
  {
   "cell_type": "code",
   "execution_count": 289,
   "metadata": {
    "collapsed": true
   },
   "outputs": [],
   "source": [
    "# # Then get all referees from referredby column in previous_loans\n",
    "# referrers = previous_loans['referredby'].dropna(axis=0)\n",
    "# referrers_list = pd.DataFrame()\n",
    "# referrers_list['customerid'] = referrers\n",
    "# referrers_list = referrers_list.reset_index()\n",
    "# referrers_list['ref_count'] = 1\n",
    "# referrers_list = referrers_list.groupby('customerid').sum()\n",
    "# referrers_list = referrers_list.reset_index()\n",
    "# referrers_list_prev = referrers_list.drop('index',axis=1)\n",
    "\n",
    "# # Join the two referee lists\n",
    "# frames = [referrers_list_data,referrers_list_prev ]\n",
    "# referees_list = pd.concat(frames)\n",
    "\n",
    "# referrers_list = referrers_list.groupby('customerid').sum()\n",
    "# referrers_list = referrers_list.reset_index()\n",
    "# referrers_list = referrers_list.drop('index',axis=1)"
   ]
  },
  {
   "cell_type": "code",
   "execution_count": 290,
   "metadata": {
    "collapsed": true
   },
   "outputs": [],
   "source": [
    "# data = pd.merge(data, referrers_list, how='outer', on=['customerid'])"
   ]
  },
  {
   "cell_type": "code",
   "execution_count": 291,
   "metadata": {},
   "outputs": [],
   "source": [
    "# data.head()"
   ]
  },
  {
   "cell_type": "code",
   "execution_count": 292,
   "metadata": {},
   "outputs": [
    {
     "ename": "KeyError",
     "evalue": "'ref_count'",
     "output_type": "error",
     "traceback": [
      "\u001b[0;31m---------------------------------------------------------------------------\u001b[0m",
      "\u001b[0;31mKeyError\u001b[0m                                  Traceback (most recent call last)",
      "\u001b[0;32m~/anaconda3/lib/python3.6/site-packages/pandas/core/indexes/base.py\u001b[0m in \u001b[0;36mget_loc\u001b[0;34m(self, key, method, tolerance)\u001b[0m\n\u001b[1;32m   2441\u001b[0m             \u001b[0;32mtry\u001b[0m\u001b[0;34m:\u001b[0m\u001b[0;34m\u001b[0m\u001b[0m\n\u001b[0;32m-> 2442\u001b[0;31m                 \u001b[0;32mreturn\u001b[0m \u001b[0mself\u001b[0m\u001b[0;34m.\u001b[0m\u001b[0m_engine\u001b[0m\u001b[0;34m.\u001b[0m\u001b[0mget_loc\u001b[0m\u001b[0;34m(\u001b[0m\u001b[0mkey\u001b[0m\u001b[0;34m)\u001b[0m\u001b[0;34m\u001b[0m\u001b[0m\n\u001b[0m\u001b[1;32m   2443\u001b[0m             \u001b[0;32mexcept\u001b[0m \u001b[0mKeyError\u001b[0m\u001b[0;34m:\u001b[0m\u001b[0;34m\u001b[0m\u001b[0m\n",
      "\u001b[0;32mpandas/_libs/index.pyx\u001b[0m in \u001b[0;36mpandas._libs.index.IndexEngine.get_loc\u001b[0;34m()\u001b[0m\n",
      "\u001b[0;32mpandas/_libs/index.pyx\u001b[0m in \u001b[0;36mpandas._libs.index.IndexEngine.get_loc\u001b[0;34m()\u001b[0m\n",
      "\u001b[0;32mpandas/_libs/hashtable_class_helper.pxi\u001b[0m in \u001b[0;36mpandas._libs.hashtable.PyObjectHashTable.get_item\u001b[0;34m()\u001b[0m\n",
      "\u001b[0;32mpandas/_libs/hashtable_class_helper.pxi\u001b[0m in \u001b[0;36mpandas._libs.hashtable.PyObjectHashTable.get_item\u001b[0;34m()\u001b[0m\n",
      "\u001b[0;31mKeyError\u001b[0m: 'ref_count'",
      "\nDuring handling of the above exception, another exception occurred:\n",
      "\u001b[0;31mKeyError\u001b[0m                                  Traceback (most recent call last)",
      "\u001b[0;32m<ipython-input-292-735882ddf9e6>\u001b[0m in \u001b[0;36m<module>\u001b[0;34m()\u001b[0m\n\u001b[0;32m----> 1\u001b[0;31m \u001b[0mdata\u001b[0m\u001b[0;34m[\u001b[0m\u001b[0;34m'ref_count'\u001b[0m\u001b[0;34m]\u001b[0m \u001b[0;34m=\u001b[0m \u001b[0mdata\u001b[0m\u001b[0;34m[\u001b[0m\u001b[0;34m'ref_count'\u001b[0m\u001b[0;34m]\u001b[0m\u001b[0;34m.\u001b[0m\u001b[0mfillna\u001b[0m\u001b[0;34m(\u001b[0m\u001b[0;36m0\u001b[0m\u001b[0;34m)\u001b[0m\u001b[0;34m\u001b[0m\u001b[0m\n\u001b[0m\u001b[1;32m      2\u001b[0m \u001b[0mtrain_data\u001b[0m \u001b[0;34m=\u001b[0m \u001b[0mdata\u001b[0m\u001b[0;34m[\u001b[0m\u001b[0;34m:\u001b[0m\u001b[0;36m4368\u001b[0m\u001b[0;34m]\u001b[0m\u001b[0;34m\u001b[0m\u001b[0m\n\u001b[1;32m      3\u001b[0m \u001b[0msns\u001b[0m\u001b[0;34m.\u001b[0m\u001b[0mcountplot\u001b[0m\u001b[0;34m(\u001b[0m\u001b[0mx\u001b[0m\u001b[0;34m=\u001b[0m\u001b[0mdata\u001b[0m\u001b[0;34m[\u001b[0m\u001b[0;34m'ref_count'\u001b[0m\u001b[0;34m]\u001b[0m\u001b[0;34m,\u001b[0m\u001b[0mhue\u001b[0m\u001b[0;34m=\u001b[0m\u001b[0mdata\u001b[0m\u001b[0;34m[\u001b[0m\u001b[0;34m'good_bad_flag'\u001b[0m\u001b[0;34m]\u001b[0m\u001b[0;34m)\u001b[0m\u001b[0;34m;\u001b[0m\u001b[0;34m\u001b[0m\u001b[0m\n",
      "\u001b[0;32m~/anaconda3/lib/python3.6/site-packages/pandas/core/frame.py\u001b[0m in \u001b[0;36m__getitem__\u001b[0;34m(self, key)\u001b[0m\n\u001b[1;32m   1962\u001b[0m             \u001b[0;32mreturn\u001b[0m \u001b[0mself\u001b[0m\u001b[0;34m.\u001b[0m\u001b[0m_getitem_multilevel\u001b[0m\u001b[0;34m(\u001b[0m\u001b[0mkey\u001b[0m\u001b[0;34m)\u001b[0m\u001b[0;34m\u001b[0m\u001b[0m\n\u001b[1;32m   1963\u001b[0m         \u001b[0;32melse\u001b[0m\u001b[0;34m:\u001b[0m\u001b[0;34m\u001b[0m\u001b[0m\n\u001b[0;32m-> 1964\u001b[0;31m             \u001b[0;32mreturn\u001b[0m \u001b[0mself\u001b[0m\u001b[0;34m.\u001b[0m\u001b[0m_getitem_column\u001b[0m\u001b[0;34m(\u001b[0m\u001b[0mkey\u001b[0m\u001b[0;34m)\u001b[0m\u001b[0;34m\u001b[0m\u001b[0m\n\u001b[0m\u001b[1;32m   1965\u001b[0m \u001b[0;34m\u001b[0m\u001b[0m\n\u001b[1;32m   1966\u001b[0m     \u001b[0;32mdef\u001b[0m \u001b[0m_getitem_column\u001b[0m\u001b[0;34m(\u001b[0m\u001b[0mself\u001b[0m\u001b[0;34m,\u001b[0m \u001b[0mkey\u001b[0m\u001b[0;34m)\u001b[0m\u001b[0;34m:\u001b[0m\u001b[0;34m\u001b[0m\u001b[0m\n",
      "\u001b[0;32m~/anaconda3/lib/python3.6/site-packages/pandas/core/frame.py\u001b[0m in \u001b[0;36m_getitem_column\u001b[0;34m(self, key)\u001b[0m\n\u001b[1;32m   1969\u001b[0m         \u001b[0;31m# get column\u001b[0m\u001b[0;34m\u001b[0m\u001b[0;34m\u001b[0m\u001b[0m\n\u001b[1;32m   1970\u001b[0m         \u001b[0;32mif\u001b[0m \u001b[0mself\u001b[0m\u001b[0;34m.\u001b[0m\u001b[0mcolumns\u001b[0m\u001b[0;34m.\u001b[0m\u001b[0mis_unique\u001b[0m\u001b[0;34m:\u001b[0m\u001b[0;34m\u001b[0m\u001b[0m\n\u001b[0;32m-> 1971\u001b[0;31m             \u001b[0;32mreturn\u001b[0m \u001b[0mself\u001b[0m\u001b[0;34m.\u001b[0m\u001b[0m_get_item_cache\u001b[0m\u001b[0;34m(\u001b[0m\u001b[0mkey\u001b[0m\u001b[0;34m)\u001b[0m\u001b[0;34m\u001b[0m\u001b[0m\n\u001b[0m\u001b[1;32m   1972\u001b[0m \u001b[0;34m\u001b[0m\u001b[0m\n\u001b[1;32m   1973\u001b[0m         \u001b[0;31m# duplicate columns & possible reduce dimensionality\u001b[0m\u001b[0;34m\u001b[0m\u001b[0;34m\u001b[0m\u001b[0m\n",
      "\u001b[0;32m~/anaconda3/lib/python3.6/site-packages/pandas/core/generic.py\u001b[0m in \u001b[0;36m_get_item_cache\u001b[0;34m(self, item)\u001b[0m\n\u001b[1;32m   1643\u001b[0m         \u001b[0mres\u001b[0m \u001b[0;34m=\u001b[0m \u001b[0mcache\u001b[0m\u001b[0;34m.\u001b[0m\u001b[0mget\u001b[0m\u001b[0;34m(\u001b[0m\u001b[0mitem\u001b[0m\u001b[0;34m)\u001b[0m\u001b[0;34m\u001b[0m\u001b[0m\n\u001b[1;32m   1644\u001b[0m         \u001b[0;32mif\u001b[0m \u001b[0mres\u001b[0m \u001b[0;32mis\u001b[0m \u001b[0;32mNone\u001b[0m\u001b[0;34m:\u001b[0m\u001b[0;34m\u001b[0m\u001b[0m\n\u001b[0;32m-> 1645\u001b[0;31m             \u001b[0mvalues\u001b[0m \u001b[0;34m=\u001b[0m \u001b[0mself\u001b[0m\u001b[0;34m.\u001b[0m\u001b[0m_data\u001b[0m\u001b[0;34m.\u001b[0m\u001b[0mget\u001b[0m\u001b[0;34m(\u001b[0m\u001b[0mitem\u001b[0m\u001b[0;34m)\u001b[0m\u001b[0;34m\u001b[0m\u001b[0m\n\u001b[0m\u001b[1;32m   1646\u001b[0m             \u001b[0mres\u001b[0m \u001b[0;34m=\u001b[0m \u001b[0mself\u001b[0m\u001b[0;34m.\u001b[0m\u001b[0m_box_item_values\u001b[0m\u001b[0;34m(\u001b[0m\u001b[0mitem\u001b[0m\u001b[0;34m,\u001b[0m \u001b[0mvalues\u001b[0m\u001b[0;34m)\u001b[0m\u001b[0;34m\u001b[0m\u001b[0m\n\u001b[1;32m   1647\u001b[0m             \u001b[0mcache\u001b[0m\u001b[0;34m[\u001b[0m\u001b[0mitem\u001b[0m\u001b[0;34m]\u001b[0m \u001b[0;34m=\u001b[0m \u001b[0mres\u001b[0m\u001b[0;34m\u001b[0m\u001b[0m\n",
      "\u001b[0;32m~/anaconda3/lib/python3.6/site-packages/pandas/core/internals.py\u001b[0m in \u001b[0;36mget\u001b[0;34m(self, item, fastpath)\u001b[0m\n\u001b[1;32m   3588\u001b[0m \u001b[0;34m\u001b[0m\u001b[0m\n\u001b[1;32m   3589\u001b[0m             \u001b[0;32mif\u001b[0m \u001b[0;32mnot\u001b[0m \u001b[0misnull\u001b[0m\u001b[0;34m(\u001b[0m\u001b[0mitem\u001b[0m\u001b[0;34m)\u001b[0m\u001b[0;34m:\u001b[0m\u001b[0;34m\u001b[0m\u001b[0m\n\u001b[0;32m-> 3590\u001b[0;31m                 \u001b[0mloc\u001b[0m \u001b[0;34m=\u001b[0m \u001b[0mself\u001b[0m\u001b[0;34m.\u001b[0m\u001b[0mitems\u001b[0m\u001b[0;34m.\u001b[0m\u001b[0mget_loc\u001b[0m\u001b[0;34m(\u001b[0m\u001b[0mitem\u001b[0m\u001b[0;34m)\u001b[0m\u001b[0;34m\u001b[0m\u001b[0m\n\u001b[0m\u001b[1;32m   3591\u001b[0m             \u001b[0;32melse\u001b[0m\u001b[0;34m:\u001b[0m\u001b[0;34m\u001b[0m\u001b[0m\n\u001b[1;32m   3592\u001b[0m                 \u001b[0mindexer\u001b[0m \u001b[0;34m=\u001b[0m \u001b[0mnp\u001b[0m\u001b[0;34m.\u001b[0m\u001b[0marange\u001b[0m\u001b[0;34m(\u001b[0m\u001b[0mlen\u001b[0m\u001b[0;34m(\u001b[0m\u001b[0mself\u001b[0m\u001b[0;34m.\u001b[0m\u001b[0mitems\u001b[0m\u001b[0;34m)\u001b[0m\u001b[0;34m)\u001b[0m\u001b[0;34m[\u001b[0m\u001b[0misnull\u001b[0m\u001b[0;34m(\u001b[0m\u001b[0mself\u001b[0m\u001b[0;34m.\u001b[0m\u001b[0mitems\u001b[0m\u001b[0;34m)\u001b[0m\u001b[0;34m]\u001b[0m\u001b[0;34m\u001b[0m\u001b[0m\n",
      "\u001b[0;32m~/anaconda3/lib/python3.6/site-packages/pandas/core/indexes/base.py\u001b[0m in \u001b[0;36mget_loc\u001b[0;34m(self, key, method, tolerance)\u001b[0m\n\u001b[1;32m   2442\u001b[0m                 \u001b[0;32mreturn\u001b[0m \u001b[0mself\u001b[0m\u001b[0;34m.\u001b[0m\u001b[0m_engine\u001b[0m\u001b[0;34m.\u001b[0m\u001b[0mget_loc\u001b[0m\u001b[0;34m(\u001b[0m\u001b[0mkey\u001b[0m\u001b[0;34m)\u001b[0m\u001b[0;34m\u001b[0m\u001b[0m\n\u001b[1;32m   2443\u001b[0m             \u001b[0;32mexcept\u001b[0m \u001b[0mKeyError\u001b[0m\u001b[0;34m:\u001b[0m\u001b[0;34m\u001b[0m\u001b[0m\n\u001b[0;32m-> 2444\u001b[0;31m                 \u001b[0;32mreturn\u001b[0m \u001b[0mself\u001b[0m\u001b[0;34m.\u001b[0m\u001b[0m_engine\u001b[0m\u001b[0;34m.\u001b[0m\u001b[0mget_loc\u001b[0m\u001b[0;34m(\u001b[0m\u001b[0mself\u001b[0m\u001b[0;34m.\u001b[0m\u001b[0m_maybe_cast_indexer\u001b[0m\u001b[0;34m(\u001b[0m\u001b[0mkey\u001b[0m\u001b[0;34m)\u001b[0m\u001b[0;34m)\u001b[0m\u001b[0;34m\u001b[0m\u001b[0m\n\u001b[0m\u001b[1;32m   2445\u001b[0m \u001b[0;34m\u001b[0m\u001b[0m\n\u001b[1;32m   2446\u001b[0m         \u001b[0mindexer\u001b[0m \u001b[0;34m=\u001b[0m \u001b[0mself\u001b[0m\u001b[0;34m.\u001b[0m\u001b[0mget_indexer\u001b[0m\u001b[0;34m(\u001b[0m\u001b[0;34m[\u001b[0m\u001b[0mkey\u001b[0m\u001b[0;34m]\u001b[0m\u001b[0;34m,\u001b[0m \u001b[0mmethod\u001b[0m\u001b[0;34m=\u001b[0m\u001b[0mmethod\u001b[0m\u001b[0;34m,\u001b[0m \u001b[0mtolerance\u001b[0m\u001b[0;34m=\u001b[0m\u001b[0mtolerance\u001b[0m\u001b[0;34m)\u001b[0m\u001b[0;34m\u001b[0m\u001b[0m\n",
      "\u001b[0;32mpandas/_libs/index.pyx\u001b[0m in \u001b[0;36mpandas._libs.index.IndexEngine.get_loc\u001b[0;34m()\u001b[0m\n",
      "\u001b[0;32mpandas/_libs/index.pyx\u001b[0m in \u001b[0;36mpandas._libs.index.IndexEngine.get_loc\u001b[0;34m()\u001b[0m\n",
      "\u001b[0;32mpandas/_libs/hashtable_class_helper.pxi\u001b[0m in \u001b[0;36mpandas._libs.hashtable.PyObjectHashTable.get_item\u001b[0;34m()\u001b[0m\n",
      "\u001b[0;32mpandas/_libs/hashtable_class_helper.pxi\u001b[0m in \u001b[0;36mpandas._libs.hashtable.PyObjectHashTable.get_item\u001b[0;34m()\u001b[0m\n",
      "\u001b[0;31mKeyError\u001b[0m: 'ref_count'"
     ]
    }
   ],
   "source": [
    "# data['ref_count'] = data['ref_count'].fillna(0)\n",
    "# train_data = data[:4368]\n",
    "# sns.countplot(x=data['ref_count'],hue=data['good_bad_flag']);"
   ]
  },
  {
   "cell_type": "code",
   "execution_count": null,
   "metadata": {
    "collapsed": true
   },
   "outputs": [],
   "source": [
    "# data['referee'] = data['ref_count']\n",
    "# data = data.drop('ref_count',axis=1)\n",
    "# data['referee'] = data['referee'].apply(lambda x : 0 if x==0 else 1)"
   ]
  },
  {
   "cell_type": "code",
   "execution_count": 293,
   "metadata": {},
   "outputs": [],
   "source": [
    "# # Sanity Check\n",
    "# data['referee'].unique()"
   ]
  },
  {
   "cell_type": "markdown",
   "metadata": {},
   "source": [
    "### Drop Some Irrelevant Features (for now)"
   ]
  },
  {
   "cell_type": "code",
   "execution_count": 294,
   "metadata": {
    "collapsed": true
   },
   "outputs": [],
   "source": [
    "data = data.drop(['referredby','longitude_gps','latitude_gps','bank_name_clients','approveddate','creationdate','systemloanid'],axis=1)"
   ]
  },
  {
   "cell_type": "markdown",
   "metadata": {},
   "source": [
    "# 5. Data Pre-Processing"
   ]
  },
  {
   "cell_type": "markdown",
   "metadata": {},
   "source": [
    "## Split dataset into steps of 10000"
   ]
  },
  {
   "cell_type": "code",
   "execution_count": 295,
   "metadata": {},
   "outputs": [
    {
     "name": "stdout",
     "output_type": "stream",
     "text": [
      "(3287, 16)\n",
      "(2531, 16)\n"
     ]
    }
   ],
   "source": [
    "data_10k = data[data['loanamount'] == 10000.0]\n",
    "data_others = data[data['loanamount']!=10000.0]\n",
    "print (data_10k.shape)\n",
    "print (data_others.shape)"
   ]
  },
  {
   "cell_type": "markdown",
   "metadata": {},
   "source": [
    "### Standardization"
   ]
  },
  {
   "cell_type": "code",
   "execution_count": 296,
   "metadata": {},
   "outputs": [
    {
     "name": "stderr",
     "output_type": "stream",
     "text": [
      "/Users/femi/anaconda3/lib/python3.6/site-packages/pandas/core/frame.py:2352: SettingWithCopyWarning: \n",
      "A value is trying to be set on a copy of a slice from a DataFrame.\n",
      "Try using .loc[row_indexer,col_indexer] = value instead\n",
      "\n",
      "See the caveats in the documentation: http://pandas.pydata.org/pandas-docs/stable/indexing.html#indexing-view-versus-copy\n",
      "  self[k1] = value[k2]\n",
      "/Users/femi/anaconda3/lib/python3.6/site-packages/ipykernel_launcher.py:42: SettingWithCopyWarning: \n",
      "A value is trying to be set on a copy of a slice from a DataFrame.\n",
      "Try using .loc[row_indexer,col_indexer] = value instead\n",
      "\n",
      "See the caveats in the documentation: http://pandas.pydata.org/pandas-docs/stable/indexing.html#indexing-view-versus-copy\n",
      "/Users/femi/anaconda3/lib/python3.6/site-packages/pandas/core/indexing.py:517: SettingWithCopyWarning: \n",
      "A value is trying to be set on a copy of a slice from a DataFrame.\n",
      "Try using .loc[row_indexer,col_indexer] = value instead\n",
      "\n",
      "See the caveats in the documentation: http://pandas.pydata.org/pandas-docs/stable/indexing.html#indexing-view-versus-copy\n",
      "  self.obj[item] = s\n"
     ]
    }
   ],
   "source": [
    "data_10k_standard = standardize(data_10k)\n",
    "data_others_standard = standardize(data_others)"
   ]
  },
  {
   "cell_type": "markdown",
   "metadata": {},
   "source": [
    "### Encoding non numerical data"
   ]
  },
  {
   "cell_type": "markdown",
   "metadata": {},
   "source": [
    "#### One Hot Encoding of bank_account_type & employment_status_clients"
   ]
  },
  {
   "cell_type": "code",
   "execution_count": 297,
   "metadata": {
    "collapsed": true
   },
   "outputs": [],
   "source": [
    "category = ['bank_account_type','employment_status_clients','termdays']\n",
    "\n",
    "data_10k = ohe(data_10k_standard,category)\n",
    "data_others = ohe(data_others_standard,category)\n"
   ]
  },
  {
   "cell_type": "markdown",
   "metadata": {},
   "source": [
    "# data_10k"
   ]
  },
  {
   "cell_type": "code",
   "execution_count": 298,
   "metadata": {
    "collapsed": true
   },
   "outputs": [],
   "source": [
    "data_10k_train, data_10k_test = get_train_test(data_10k)"
   ]
  },
  {
   "cell_type": "markdown",
   "metadata": {},
   "source": [
    "### Showing the ratio of classes"
   ]
  },
  {
   "cell_type": "code",
   "execution_count": 299,
   "metadata": {},
   "outputs": [
    {
     "name": "stdout",
     "output_type": "stream",
     "text": [
      "Percentage of good loans:  0.2660438667749797\n",
      "Percentage of bad loans:  0.7339561332250203\n",
      "Total number of loans in data:  2462\n"
     ]
    },
    {
     "data": {
      "image/png": "[encoded data removed]",
      "text/plain": [
       "<matplotlib.figure.Figure at 0x10eae32e8>"
      ]
     },
     "metadata": {},
     "output_type": "display_data"
    }
   ],
   "source": [
    "count_of_classes = pd.value_counts(data_10k_train['good_bad_flag'], sort = True).sort_index()\n",
    "count_of_classes.plot(kind = 'bar')\n",
    "plt.title(\"Class Histogram\")\n",
    "plt.xlabel(\"Class\")\n",
    "plt.ylabel(\"Frequency\")\n",
    "\n",
    "# Showing ratio\n",
    "print(\"Percentage of good loans: \", len(data_10k_train[data_10k_train['good_bad_flag'] == 0])/len(data_10k_train))\n",
    "print(\"Percentage of bad loans: \", len(data_10k_train[data_10k_train['good_bad_flag'] == 1])/len(data_10k_train))\n",
    "print(\"Total number of loans in data: \", len(data_10k_train))"
   ]
  },
  {
   "cell_type": "markdown",
   "metadata": {},
   "source": [
    "### Split into Features and Target ( X & Y )"
   ]
  },
  {
   "cell_type": "code",
   "execution_count": 300,
   "metadata": {
    "collapsed": true
   },
   "outputs": [],
   "source": [
    "X,Y = get_x_y(data_10k_train)"
   ]
  },
  {
   "cell_type": "code",
   "execution_count": 301,
   "metadata": {},
   "outputs": [
    {
     "data": {
      "text/plain": [
       "Index(['loannumber', 'totaldue', 'referred', 'interest', 'age',\n",
       "       'avg_loanamount', 'avg_totaldue', 'avg_interest', 'repayment_score',\n",
       "       'loan_deviation', 'bank_account_type_Current',\n",
       "       'bank_account_type_Other', 'bank_account_type_Savings',\n",
       "       'employment_status_clients_Contract',\n",
       "       'employment_status_clients_Permanent',\n",
       "       'employment_status_clients_Retired',\n",
       "       'employment_status_clients_Self-Employed',\n",
       "       'employment_status_clients_Student',\n",
       "       'employment_status_clients_Unemployed', 'termdays_fifteen',\n",
       "       'termdays_thirty'],\n",
       "      dtype='object')"
      ]
     },
     "execution_count": 301,
     "metadata": {},
     "output_type": "execute_result"
    }
   ],
   "source": [
    "X.columns"
   ]
  },
  {
   "cell_type": "markdown",
   "metadata": {},
   "source": [
    "# Benchmark Model (Logistic Regression)"
   ]
  },
  {
   "cell_type": "code",
   "execution_count": 302,
   "metadata": {},
   "outputs": [
    {
     "name": "stdout",
     "output_type": "stream",
     "text": [
      "CV score    : 0.735171259421\n",
      "Train score : 0.74637260592\n",
      "Test Score  : 0.778078484438\n"
     ]
    },
    {
     "data": {
      "image/png": "[encoded data removed]",
      "text/plain": [
       "<matplotlib.figure.Figure at 0x10d634a58>"
      ]
     },
     "metadata": {},
     "output_type": "display_data"
    }
   ],
   "source": [
    "from sklearn.model_selection import cross_val_score\n",
    "from sklearn.linear_model import LogisticRegression\n",
    "from sklearn.ensemble import RandomForestClassifier\n",
    "from sklearn.tree import DecisionTreeClassifier\n",
    "from sklearn.model_selection import train_test_split\n",
    "from sklearn.metrics import confusion_matrix\n",
    "from sklearn.neural_network import MLPClassifier\n",
    "\n",
    "\n",
    "import itertools\n",
    "\n",
    "# Cross Validation\n",
    "model = DecisionTreeClassifier(max_depth=4)\n",
    "\n",
    "score = cross_val_score(model,X,Y,cv=5,scoring='accuracy')\n",
    "\n",
    "# Train & Test scores for bias variance tradeoff\n",
    "X_train,X_test,Y_train,Y_test = train_test_split(X,Y,test_size=0.3)\n",
    "model.fit(X_train,Y_train)\n",
    "model.fit(X,Y)\n",
    "pred = model.predict(X_test)\n",
    "# predo = np.zeros(Y_test.shape[0])\n",
    "# pred = pred[:,1]\n",
    "# predo = (pred > 0.51)\n",
    "\n",
    "print('CV score    : '+ str(score.mean()))\n",
    "print('Train score : ' + str(model.score(X_train,Y_train)))\n",
    "print('Test Score  : ' + str(model.score(X_test,Y_test)))\n",
    "\n",
    "# Compute confusion matrix\n",
    "cnf_matrix = confusion_matrix(Y_test,pred)\n",
    "np.set_printoptions(precision=2)\n",
    "\n",
    "\n",
    "class_names = [0,1]\n",
    "\n",
    "plt.figure()\n",
    "plot_confusion_matrix(cnf_matrix, classes=class_names, title='Confusion matrix')\n",
    "plt.show()"
   ]
  },
  {
   "cell_type": "markdown",
   "metadata": {},
   "source": [
    "## Make Submission"
   ]
  },
  {
   "cell_type": "code",
   "execution_count": 303,
   "metadata": {},
   "outputs": [
    {
     "data": {
      "text/html": [
       "<div>\n",
       "<style>\n",
       "    .dataframe thead tr:only-child th {\n",
       "        text-align: right;\n",
       "    }\n",
       "\n",
       "    .dataframe thead th {\n",
       "        text-align: left;\n",
       "    }\n",
       "\n",
       "    .dataframe tbody tr th {\n",
       "        vertical-align: top;\n",
       "    }\n",
       "</style>\n",
       "<table border=\"1\" class=\"dataframe\">\n",
       "  <thead>\n",
       "    <tr style=\"text-align: right;\">\n",
       "      <th></th>\n",
       "      <th>customerid</th>\n",
       "      <th>good_bad_flag</th>\n",
       "      <th>loanamount</th>\n",
       "      <th>loannumber</th>\n",
       "      <th>totaldue</th>\n",
       "      <th>referred</th>\n",
       "      <th>interest</th>\n",
       "      <th>age</th>\n",
       "      <th>avg_loanamount</th>\n",
       "      <th>avg_totaldue</th>\n",
       "      <th>...</th>\n",
       "      <th>bank_account_type_Other</th>\n",
       "      <th>bank_account_type_Savings</th>\n",
       "      <th>employment_status_clients_Contract</th>\n",
       "      <th>employment_status_clients_Permanent</th>\n",
       "      <th>employment_status_clients_Retired</th>\n",
       "      <th>employment_status_clients_Self-Employed</th>\n",
       "      <th>employment_status_clients_Student</th>\n",
       "      <th>employment_status_clients_Unemployed</th>\n",
       "      <th>termdays_fifteen</th>\n",
       "      <th>termdays_thirty</th>\n",
       "    </tr>\n",
       "  </thead>\n",
       "  <tbody>\n",
       "    <tr>\n",
       "      <th>0</th>\n",
       "      <td>8a858899538ddb8e015390510b321f08</td>\n",
       "      <td>NaN</td>\n",
       "      <td>0.0</td>\n",
       "      <td>0.639722</td>\n",
       "      <td>-0.345947</td>\n",
       "      <td>-0.481194</td>\n",
       "      <td>-0.345947</td>\n",
       "      <td>0.102319</td>\n",
       "      <td>-1.342240</td>\n",
       "      <td>-1.125797</td>\n",
       "      <td>...</td>\n",
       "      <td>1</td>\n",
       "      <td>0</td>\n",
       "      <td>0</td>\n",
       "      <td>1</td>\n",
       "      <td>0</td>\n",
       "      <td>0</td>\n",
       "      <td>0</td>\n",
       "      <td>0</td>\n",
       "      <td>0</td>\n",
       "      <td>1</td>\n",
       "    </tr>\n",
       "    <tr>\n",
       "      <th>1</th>\n",
       "      <td>8a858e675c3fe0a1015c44ba8a037fee</td>\n",
       "      <td>NaN</td>\n",
       "      <td>0.0</td>\n",
       "      <td>-0.578214</td>\n",
       "      <td>-1.390299</td>\n",
       "      <td>-0.481194</td>\n",
       "      <td>-1.390299</td>\n",
       "      <td>-1.506106</td>\n",
       "      <td>-0.108409</td>\n",
       "      <td>0.318862</td>\n",
       "      <td>...</td>\n",
       "      <td>0</td>\n",
       "      <td>1</td>\n",
       "      <td>0</td>\n",
       "      <td>1</td>\n",
       "      <td>0</td>\n",
       "      <td>0</td>\n",
       "      <td>0</td>\n",
       "      <td>0</td>\n",
       "      <td>1</td>\n",
       "      <td>0</td>\n",
       "    </tr>\n",
       "    <tr>\n",
       "      <th>2</th>\n",
       "      <td>8a858e705668e16701568d358c6579da</td>\n",
       "      <td>NaN</td>\n",
       "      <td>0.0</td>\n",
       "      <td>3.075593</td>\n",
       "      <td>-1.390299</td>\n",
       "      <td>-0.481194</td>\n",
       "      <td>-1.390299</td>\n",
       "      <td>-1.023579</td>\n",
       "      <td>-0.108409</td>\n",
       "      <td>-0.746870</td>\n",
       "      <td>...</td>\n",
       "      <td>1</td>\n",
       "      <td>0</td>\n",
       "      <td>0</td>\n",
       "      <td>0</td>\n",
       "      <td>0</td>\n",
       "      <td>0</td>\n",
       "      <td>0</td>\n",
       "      <td>1</td>\n",
       "      <td>1</td>\n",
       "      <td>0</td>\n",
       "    </tr>\n",
       "    <tr>\n",
       "      <th>3</th>\n",
       "      <td>8a858ee25b34d796015b387bdfb9477f</td>\n",
       "      <td>NaN</td>\n",
       "      <td>0.0</td>\n",
       "      <td>0.639722</td>\n",
       "      <td>-1.390299</td>\n",
       "      <td>-0.481194</td>\n",
       "      <td>-1.390299</td>\n",
       "      <td>0.424004</td>\n",
       "      <td>-0.108409</td>\n",
       "      <td>-0.036382</td>\n",
       "      <td>...</td>\n",
       "      <td>0</td>\n",
       "      <td>1</td>\n",
       "      <td>0</td>\n",
       "      <td>1</td>\n",
       "      <td>0</td>\n",
       "      <td>0</td>\n",
       "      <td>0</td>\n",
       "      <td>0</td>\n",
       "      <td>1</td>\n",
       "      <td>0</td>\n",
       "    </tr>\n",
       "    <tr>\n",
       "      <th>4</th>\n",
       "      <td>8a858f275c451af5015c589ae56f15bf</td>\n",
       "      <td>NaN</td>\n",
       "      <td>0.0</td>\n",
       "      <td>-0.578214</td>\n",
       "      <td>0.698406</td>\n",
       "      <td>-0.481194</td>\n",
       "      <td>0.698406</td>\n",
       "      <td>-0.701894</td>\n",
       "      <td>-0.108409</td>\n",
       "      <td>0.318862</td>\n",
       "      <td>...</td>\n",
       "      <td>0</td>\n",
       "      <td>1</td>\n",
       "      <td>0</td>\n",
       "      <td>1</td>\n",
       "      <td>0</td>\n",
       "      <td>0</td>\n",
       "      <td>0</td>\n",
       "      <td>0</td>\n",
       "      <td>0</td>\n",
       "      <td>1</td>\n",
       "    </tr>\n",
       "  </tbody>\n",
       "</table>\n",
       "<p>5 rows × 24 columns</p>\n",
       "</div>"
      ],
      "text/plain": [
       "                         customerid good_bad_flag  loanamount  loannumber  \\\n",
       "0  8a858899538ddb8e015390510b321f08           NaN         0.0    0.639722   \n",
       "1  8a858e675c3fe0a1015c44ba8a037fee           NaN         0.0   -0.578214   \n",
       "2  8a858e705668e16701568d358c6579da           NaN         0.0    3.075593   \n",
       "3  8a858ee25b34d796015b387bdfb9477f           NaN         0.0    0.639722   \n",
       "4  8a858f275c451af5015c589ae56f15bf           NaN         0.0   -0.578214   \n",
       "\n",
       "   totaldue  referred  interest       age  avg_loanamount  avg_totaldue  \\\n",
       "0 -0.345947 -0.481194 -0.345947  0.102319       -1.342240     -1.125797   \n",
       "1 -1.390299 -0.481194 -1.390299 -1.506106       -0.108409      0.318862   \n",
       "2 -1.390299 -0.481194 -1.390299 -1.023579       -0.108409     -0.746870   \n",
       "3 -1.390299 -0.481194 -1.390299  0.424004       -0.108409     -0.036382   \n",
       "4  0.698406 -0.481194  0.698406 -0.701894       -0.108409      0.318862   \n",
       "\n",
       "        ...         bank_account_type_Other  bank_account_type_Savings  \\\n",
       "0       ...                               1                          0   \n",
       "1       ...                               0                          1   \n",
       "2       ...                               1                          0   \n",
       "3       ...                               0                          1   \n",
       "4       ...                               0                          1   \n",
       "\n",
       "   employment_status_clients_Contract  employment_status_clients_Permanent  \\\n",
       "0                                   0                                    1   \n",
       "1                                   0                                    1   \n",
       "2                                   0                                    0   \n",
       "3                                   0                                    1   \n",
       "4                                   0                                    1   \n",
       "\n",
       "   employment_status_clients_Retired  employment_status_clients_Self-Employed  \\\n",
       "0                                  0                                        0   \n",
       "1                                  0                                        0   \n",
       "2                                  0                                        0   \n",
       "3                                  0                                        0   \n",
       "4                                  0                                        0   \n",
       "\n",
       "   employment_status_clients_Student  employment_status_clients_Unemployed  \\\n",
       "0                                  0                                     0   \n",
       "1                                  0                                     0   \n",
       "2                                  0                                     1   \n",
       "3                                  0                                     0   \n",
       "4                                  0                                     0   \n",
       "\n",
       "   termdays_fifteen  termdays_thirty  \n",
       "0                 0                1  \n",
       "1                 1                0  \n",
       "2                 1                0  \n",
       "3                 1                0  \n",
       "4                 0                1  \n",
       "\n",
       "[5 rows x 24 columns]"
      ]
     },
     "execution_count": 303,
     "metadata": {},
     "output_type": "execute_result"
    }
   ],
   "source": [
    "data_10k_test.head()"
   ]
  },
  {
   "cell_type": "code",
   "execution_count": 304,
   "metadata": {
    "collapsed": true
   },
   "outputs": [],
   "source": [
    "submission_X, submission_Y = get_x_y(data_10k_test) "
   ]
  },
  {
   "cell_type": "code",
   "execution_count": 305,
   "metadata": {
    "collapsed": true
   },
   "outputs": [],
   "source": [
    "submission_1 = pd.DataFrame(data_10k_test['customerid'])"
   ]
  },
  {
   "cell_type": "code",
   "execution_count": 306,
   "metadata": {},
   "outputs": [
    {
     "data": {
      "text/plain": [
       "(825, 1)"
      ]
     },
     "execution_count": 306,
     "metadata": {},
     "output_type": "execute_result"
    }
   ],
   "source": [
    "submission_1.shape"
   ]
  },
  {
   "cell_type": "code",
   "execution_count": 307,
   "metadata": {},
   "outputs": [],
   "source": [
    "pred = model.predict(submission_X)"
   ]
  },
  {
   "cell_type": "code",
   "execution_count": 308,
   "metadata": {
    "collapsed": true
   },
   "outputs": [],
   "source": [
    "submission_1['Good_Bad_flag'] = pred"
   ]
  },
  {
   "cell_type": "markdown",
   "metadata": {},
   "source": [
    "# data_others"
   ]
  },
  {
   "cell_type": "code",
   "execution_count": 309,
   "metadata": {
    "collapsed": true
   },
   "outputs": [],
   "source": [
    "data_others_train, data_others_test = get_train_test(data_others)\n"
   ]
  },
  {
   "cell_type": "code",
   "execution_count": 310,
   "metadata": {
    "collapsed": true
   },
   "outputs": [],
   "source": [
    "submission_2 = pd.DataFrame(data_others_test['customerid'])"
   ]
  },
  {
   "cell_type": "code",
   "execution_count": 311,
   "metadata": {},
   "outputs": [
    {
     "data": {
      "text/plain": [
       "(625, 1)"
      ]
     },
     "execution_count": 311,
     "metadata": {},
     "output_type": "execute_result"
    }
   ],
   "source": [
    "submission_2.shape"
   ]
  },
  {
   "cell_type": "code",
   "execution_count": 312,
   "metadata": {
    "collapsed": true
   },
   "outputs": [],
   "source": [
    "submission_2['Good_Bad_flag'] = 1\n"
   ]
  },
  {
   "cell_type": "code",
   "execution_count": 313,
   "metadata": {},
   "outputs": [],
   "source": [
    "frames = [submission_1,submission_2]\n",
    "submission = pd.concat(frames)"
   ]
  },
  {
   "cell_type": "code",
   "execution_count": 314,
   "metadata": {
    "collapsed": true
   },
   "outputs": [],
   "source": [
    "submission.to_csv('submission.csv')"
   ]
  },
  {
   "cell_type": "code",
   "execution_count": 315,
   "metadata": {},
   "outputs": [
    {
     "data": {
      "text/plain": [
       "(1450, 2)"
      ]
     },
     "execution_count": 315,
     "metadata": {},
     "output_type": "execute_result"
    }
   ],
   "source": [
    "submission.shape"
   ]
  },
  {
   "cell_type": "markdown",
   "metadata": {},
   "source": [
    "### Showing the ratio of classes"
   ]
  },
  {
   "cell_type": "code",
   "execution_count": 316,
   "metadata": {},
   "outputs": [
    {
     "name": "stdout",
     "output_type": "stream",
     "text": [
      "Percentage of good loans:  0.1558237145855194\n",
      "Percentage of bad loans:  0.8441762854144806\n",
      "Total number of loans in data:  1906\n"
     ]
    },
    {
     "data": {
      "image/png": "[encoded data removed]",
      "text/plain": [
       "<matplotlib.figure.Figure at 0x10eae3c88>"
      ]
     },
     "metadata": {},
     "output_type": "display_data"
    }
   ],
   "source": [
    "count_of_classes = pd.value_counts(data_others_train['good_bad_flag'], sort = True).sort_index()\n",
    "count_of_classes.plot(kind = 'bar')\n",
    "plt.title(\"Class Histogram\")\n",
    "plt.xlabel(\"Class\")\n",
    "plt.ylabel(\"Frequency\")\n",
    "\n",
    "# Showing ratio\n",
    "print(\"Percentage of good loans: \", len(data_others_train[data_others_train['good_bad_flag'] == 0])/len(data_others_train))\n",
    "print(\"Percentage of bad loans: \", len(data_others_train[data_others_train['good_bad_flag'] == 1])/len(data_others_train))\n",
    "print(\"Total number of loans in data: \", len(data_others_train))"
   ]
  },
  {
   "cell_type": "markdown",
   "metadata": {},
   "source": [
    "### Split into Features and Target ( X & Y )"
   ]
  },
  {
   "cell_type": "code",
   "execution_count": 317,
   "metadata": {
    "collapsed": true
   },
   "outputs": [],
   "source": [
    "X,Y = get_x_y(data_others_train)"
   ]
  },
  {
   "cell_type": "code",
   "execution_count": 318,
   "metadata": {},
   "outputs": [
    {
     "name": "stdout",
     "output_type": "stream",
     "text": [
      "CV score    : 0.838929909182\n",
      "0.866529774127\n",
      "Train score : 0.843328335832\n",
      "Test Score  : 0.84965034965\n"
     ]
    },
    {
     "data": {
      "image/png": "[encoded data removed]",
      "text/plain": [
       "<matplotlib.figure.Figure at 0x10d9bf668>"
      ]
     },
     "metadata": {},
     "output_type": "display_data"
    }
   ],
   "source": [
    "from sklearn.neural_network import MLPClassifier\n",
    "\n",
    "# Cross Validation\n",
    "model = DecisionTreeClassifier(max_depth=3)\n",
    "model.fit(X,Y)\n",
    "score = cross_val_score(model,X,Y,cv=5,scoring='accuracy')\n",
    "print('CV score    : '+ str(score.mean()))\n",
    "\n",
    "# Train & Test scores for bias variance tradeoff\n",
    "X_train,X_test,Y_train,Y_test = train_test_split(X,Y,test_size=0.3)\n",
    "model.fit(X_train,Y_train)\n",
    "pred = model.predict_proba(X_test)\n",
    "predo = np.zeros(Y_test.shape[0])\n",
    "pred = pred[:,1]\n",
    "predo = (pred > 0.58)\n",
    "print(pred[7])\n",
    "\n",
    "\n",
    "print('Train score : ' + str(model.score(X_train,Y_train)))\n",
    "print('Test Score  : ' + str(model.score(X_test,Y_test)))\n",
    "\n",
    "# Compute confusion matrix\n",
    "cnf_matrix = confusion_matrix(Y_test,predo)\n",
    "np.set_printoptions(precision=2)\n",
    "\n",
    "class_names = [0,1]\n",
    "\n",
    "plt.figure()\n",
    "plot_confusion_matrix(cnf_matrix, classes=class_names, title='Confusion matrix')\n",
    "plt.show()"
   ]
  },
  {
   "cell_type": "code",
   "execution_count": null,
   "metadata": {
    "collapsed": true
   },
   "outputs": [],
   "source": []
  }
 ],
 "metadata": {
  "kernelspec": {
   "display_name": "Python 3",
   "language": "python",
   "name": "python3"
  },
  "language_info": {
   "codemirror_mode": {
    "name": "ipython",
    "version": 3
   },
   "file_extension": ".py",
   "mimetype": "text/x-python",
   "name": "python",
   "nbconvert_exporter": "python",
   "pygments_lexer": "ipython3",
   "version": "3.6.2"
  }
 },
 "nbformat": 4,
 "nbformat_minor": 2
}
