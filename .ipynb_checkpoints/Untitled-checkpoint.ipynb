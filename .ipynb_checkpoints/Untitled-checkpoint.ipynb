{
 "cells": [
  {
   "cell_type": "code",
   "execution_count": 2910,
   "metadata": {
    "collapsed": true
   },
   "outputs": [],
   "source": [
    "import pandas as pd\n",
    "import numpy as np\n",
    "import matplotlib.pyplot as plt\n",
    "import seaborn as sns\n",
    "from datetime import date, timedelta\n",
    "\n",
    "%matplotlib inline"
   ]
  },
  {
   "cell_type": "code",
   "execution_count": 2911,
   "metadata": {
    "collapsed": true
   },
   "outputs": [],
   "source": [
    "def plot_confusion_matrix(cm, classes,\n",
    "                          normalize=False,\n",
    "                          title='Confusion matrix',\n",
    "                          cmap=plt.cm.Blues):\n",
    "    \"\"\"\n",
    "    This function prints and plots the confusion matrix.\n",
    "    Normalization can be applied by setting `normalize=True`.\n",
    "    \"\"\"\n",
    "    plt.imshow(cm, interpolation='nearest', cmap=cmap)\n",
    "    plt.title(title)\n",
    "    plt.colorbar()\n",
    "    tick_marks = np.arange(len(classes))\n",
    "    plt.xticks(tick_marks, classes, rotation=0)\n",
    "    plt.yticks(tick_marks, classes)\n",
    "\n",
    "    if normalize:\n",
    "        cm = cm.astype('float') / cm.sum(axis=1)[:, np.newaxis]\n",
    "    else:\n",
    "        pass\n",
    "    \n",
    "    thresh = cm.max() / 2.\n",
    "    for i, j in itertools.product(range(cm.shape[0]), range(cm.shape[1])):\n",
    "        plt.text(j, i, cm[i, j],\n",
    "                 horizontalalignment=\"center\",\n",
    "                 color=\"white\" if cm[i, j] > thresh else \"black\")\n",
    "\n",
    "    plt.tight_layout()\n",
    "    plt.ylabel('True label')\n",
    "    plt.xlabel('Predicted label')"
   ]
  },
  {
   "cell_type": "markdown",
   "metadata": {},
   "source": [
    "# 1. Performance "
   ]
  },
  {
   "cell_type": "code",
   "execution_count": 2912,
   "metadata": {},
   "outputs": [
    {
     "data": {
      "text/plain": [
       "(5818, 10)"
      ]
     },
     "execution_count": 2912,
     "metadata": {},
     "output_type": "execute_result"
    }
   ],
   "source": [
    "train_perf = pd.read_csv('trainperf.csv.xls')\n",
    "test_perf = pd.read_csv('testperf.csv.xls')\n",
    "frames = [train_perf,test_perf]\n",
    "perf = pd.concat(frames)\n",
    "perf.shape"
   ]
  },
  {
   "cell_type": "code",
   "execution_count": 2913,
   "metadata": {},
   "outputs": [
    {
     "name": "stdout",
     "output_type": "stream",
     "text": [
      "(4368, 10) (1450, 9)\n"
     ]
    }
   ],
   "source": [
    "print(train_perf.shape,test_perf.shape)"
   ]
  },
  {
   "cell_type": "code",
   "execution_count": 2914,
   "metadata": {},
   "outputs": [
    {
     "data": {
      "text/html": [
       "<div>\n",
       "<style>\n",
       "    .dataframe thead tr:only-child th {\n",
       "        text-align: right;\n",
       "    }\n",
       "\n",
       "    .dataframe thead th {\n",
       "        text-align: left;\n",
       "    }\n",
       "\n",
       "    .dataframe tbody tr th {\n",
       "        vertical-align: top;\n",
       "    }\n",
       "</style>\n",
       "<table border=\"1\" class=\"dataframe\">\n",
       "  <thead>\n",
       "    <tr style=\"text-align: right;\">\n",
       "      <th></th>\n",
       "      <th>approveddate</th>\n",
       "      <th>creationdate</th>\n",
       "      <th>customerid</th>\n",
       "      <th>good_bad_flag</th>\n",
       "      <th>loanamount</th>\n",
       "      <th>loannumber</th>\n",
       "      <th>referredby</th>\n",
       "      <th>systemloanid</th>\n",
       "      <th>termdays</th>\n",
       "      <th>totaldue</th>\n",
       "    </tr>\n",
       "  </thead>\n",
       "  <tbody>\n",
       "    <tr>\n",
       "      <th>0</th>\n",
       "      <td>2017-07-25 08:22:56.000000</td>\n",
       "      <td>2017-07-25 07:22:47.000000</td>\n",
       "      <td>8a2a81a74ce8c05d014cfb32a0da1049</td>\n",
       "      <td>Good</td>\n",
       "      <td>30000.0</td>\n",
       "      <td>12</td>\n",
       "      <td>NaN</td>\n",
       "      <td>301994762</td>\n",
       "      <td>30</td>\n",
       "      <td>34500.0</td>\n",
       "    </tr>\n",
       "    <tr>\n",
       "      <th>1</th>\n",
       "      <td>2017-07-05 17:04:41.000000</td>\n",
       "      <td>2017-07-05 16:04:18.000000</td>\n",
       "      <td>8a85886e54beabf90154c0a29ae757c0</td>\n",
       "      <td>Good</td>\n",
       "      <td>15000.0</td>\n",
       "      <td>2</td>\n",
       "      <td>NaN</td>\n",
       "      <td>301965204</td>\n",
       "      <td>30</td>\n",
       "      <td>17250.0</td>\n",
       "    </tr>\n",
       "    <tr>\n",
       "      <th>2</th>\n",
       "      <td>2017-07-06 14:52:57.000000</td>\n",
       "      <td>2017-07-06 13:52:51.000000</td>\n",
       "      <td>8a8588f35438fe12015444567666018e</td>\n",
       "      <td>Good</td>\n",
       "      <td>20000.0</td>\n",
       "      <td>7</td>\n",
       "      <td>NaN</td>\n",
       "      <td>301966580</td>\n",
       "      <td>15</td>\n",
       "      <td>22250.0</td>\n",
       "    </tr>\n",
       "    <tr>\n",
       "      <th>3</th>\n",
       "      <td>2017-07-27 19:00:41.000000</td>\n",
       "      <td>2017-07-27 18:00:35.000000</td>\n",
       "      <td>8a85890754145ace015429211b513e16</td>\n",
       "      <td>Good</td>\n",
       "      <td>10000.0</td>\n",
       "      <td>3</td>\n",
       "      <td>NaN</td>\n",
       "      <td>301999343</td>\n",
       "      <td>15</td>\n",
       "      <td>11500.0</td>\n",
       "    </tr>\n",
       "    <tr>\n",
       "      <th>4</th>\n",
       "      <td>2017-07-03 23:42:45.000000</td>\n",
       "      <td>2017-07-03 22:42:39.000000</td>\n",
       "      <td>8a858970548359cc0154883481981866</td>\n",
       "      <td>Good</td>\n",
       "      <td>40000.0</td>\n",
       "      <td>9</td>\n",
       "      <td>NaN</td>\n",
       "      <td>301962360</td>\n",
       "      <td>30</td>\n",
       "      <td>44000.0</td>\n",
       "    </tr>\n",
       "  </tbody>\n",
       "</table>\n",
       "</div>"
      ],
      "text/plain": [
       "                 approveddate                creationdate  \\\n",
       "0  2017-07-25 08:22:56.000000  2017-07-25 07:22:47.000000   \n",
       "1  2017-07-05 17:04:41.000000  2017-07-05 16:04:18.000000   \n",
       "2  2017-07-06 14:52:57.000000  2017-07-06 13:52:51.000000   \n",
       "3  2017-07-27 19:00:41.000000  2017-07-27 18:00:35.000000   \n",
       "4  2017-07-03 23:42:45.000000  2017-07-03 22:42:39.000000   \n",
       "\n",
       "                         customerid good_bad_flag  loanamount  loannumber  \\\n",
       "0  8a2a81a74ce8c05d014cfb32a0da1049          Good     30000.0          12   \n",
       "1  8a85886e54beabf90154c0a29ae757c0          Good     15000.0           2   \n",
       "2  8a8588f35438fe12015444567666018e          Good     20000.0           7   \n",
       "3  8a85890754145ace015429211b513e16          Good     10000.0           3   \n",
       "4  8a858970548359cc0154883481981866          Good     40000.0           9   \n",
       "\n",
       "  referredby  systemloanid  termdays  totaldue  \n",
       "0        NaN     301994762        30   34500.0  \n",
       "1        NaN     301965204        30   17250.0  \n",
       "2        NaN     301966580        15   22250.0  \n",
       "3        NaN     301999343        15   11500.0  \n",
       "4        NaN     301962360        30   44000.0  "
      ]
     },
     "execution_count": 2914,
     "metadata": {},
     "output_type": "execute_result"
    }
   ],
   "source": [
    "perf.head()"
   ]
  },
  {
   "cell_type": "markdown",
   "metadata": {},
   "source": [
    "### 1.1 Loan Amount "
   ]
  },
  {
   "cell_type": "code",
   "execution_count": 2915,
   "metadata": {},
   "outputs": [
    {
     "data": {
      "image/png": "[encoded data removed]",
      "text/plain": [
       "<matplotlib.figure.Figure at 0x13a95f978>"
      ]
     },
     "metadata": {},
     "output_type": "display_data"
    }
   ],
   "source": [
    "sns.countplot(x='loanamount',hue='good_bad_flag',data=train_perf);"
   ]
  },
  {
   "cell_type": "markdown",
   "metadata": {},
   "source": [
    "Divide models into two (10k and others)"
   ]
  },
  {
   "cell_type": "markdown",
   "metadata": {},
   "source": [
    "### 1.2 Term Days\n",
    "10K Model"
   ]
  },
  {
   "cell_type": "code",
   "execution_count": 2916,
   "metadata": {},
   "outputs": [
    {
     "data": {
      "image/png": "[encoded data removed]",
      "text/plain": [
       "<matplotlib.figure.Figure at 0x139f4d278>"
      ]
     },
     "metadata": {},
     "output_type": "display_data"
    }
   ],
   "source": [
    "sns.countplot(x='termdays',data=perf[perf['loanamount']==10000.0]);"
   ]
  },
  {
   "cell_type": "markdown",
   "metadata": {},
   "source": [
    "For the 10k model turn term days into binary"
   ]
  },
  {
   "cell_type": "markdown",
   "metadata": {},
   "source": [
    "others"
   ]
  },
  {
   "cell_type": "code",
   "execution_count": 2917,
   "metadata": {},
   "outputs": [
    {
     "data": {
      "image/png": "[encoded data removed]",
      "text/plain": [
       "<matplotlib.figure.Figure at 0x13abf2e80>"
      ]
     },
     "metadata": {},
     "output_type": "display_data"
    }
   ],
   "source": [
    "sns.countplot(x='termdays',data=train_perf, hue='good_bad_flag');"
   ]
  },
  {
   "cell_type": "code",
   "execution_count": 2918,
   "metadata": {},
   "outputs": [
    {
     "data": {
      "text/plain": [
       "30    1424\n",
       "60     288\n",
       "15     162\n",
       "90      32\n",
       "Name: termdays, dtype: int64"
      ]
     },
     "execution_count": 2918,
     "metadata": {},
     "output_type": "execute_result"
    }
   ],
   "source": [
    "others_termdays = train_perf[['termdays','good_bad_flag','loanamount']][train_perf['loanamount']!=10000.0]\n",
    "others_termdays\n",
    "term_days_count = others_termdays['termdays'].value_counts()\n",
    "term_days_count"
   ]
  },
  {
   "cell_type": "code",
   "execution_count": 2919,
   "metadata": {},
   "outputs": [],
   "source": [
    "# # 15 term days\n",
    "# fifteen_term = others_termdays[['termdays','good_bad_flag']][train_perf['termdays']==15 ]\n",
    "# print ( 'Percentage of bad loans for 15 term days is: ' + str((fifteen_term[fifteen_term['good_bad_flag']=='Bad'].shape[0] / term_days_count.loc[15]) * 100))\n",
    "\n",
    "# # 30 term days\n",
    "# thirty_term = others_termdays[['termdays','good_bad_flag']][train_perf['termdays']==30 ]\n",
    "# print ( 'Percentage of bad loans for 30 term days is: ' + str((thirty_term[thirty_term['good_bad_flag']=='Bad'].shape[0] / term_days_count.loc[30]) * 100))\n",
    "\n",
    "# # 60 term days\n",
    "# sixty_term = others_termdays[['termdays','good_bad_flag']][train_perf['termdays']==60 ]\n",
    "# print ( 'Percentage of bad loans for 60 term days is: ' + str((sixty_term[sixty_term['good_bad_flag']=='Bad'].shape[0] / term_days_count.loc[60]) * 100))\n",
    "\n",
    "# # 90 term days\n",
    "# ninety_term = others_termdays[['termdays','good_bad_flag']][train_perf['termdays']==90 ]\n",
    "# print ( 'Percentage of bad loans for 90 term days is: ' + str((ninety_term[ninety_term['good_bad_flag']=='Bad'].shape[0] / term_days_count.loc[90] ) * 100))\n",
    "\n"
   ]
  },
  {
   "cell_type": "markdown",
   "metadata": {},
   "source": [
    "So there is no progression in the percentage of bad loans as term days increases, so we convert to a categorical variable."
   ]
  },
  {
   "cell_type": "code",
   "execution_count": 2920,
   "metadata": {},
   "outputs": [],
   "source": [
    "# Convert termdays into categorical variable\n",
    "\n",
    "# perf['termdays'] = perf['termdays'].apply(lambda x : 'fifteen' if x==15 else 'thirty' if x==30 else 'sixty' if x==60 else 'ninety')"
   ]
  },
  {
   "cell_type": "code",
   "execution_count": 2921,
   "metadata": {},
   "outputs": [
    {
     "data": {
      "text/plain": [
       "array([30, 15, 60, 90])"
      ]
     },
     "execution_count": 2921,
     "metadata": {},
     "output_type": "execute_result"
    }
   ],
   "source": [
    "# Sanity Check\n",
    "perf['termdays'].unique()"
   ]
  },
  {
   "cell_type": "markdown",
   "metadata": {},
   "source": [
    "### 1.3 Referred by\n",
    "Convert to binary variable"
   ]
  },
  {
   "cell_type": "code",
   "execution_count": 2922,
   "metadata": {},
   "outputs": [
    {
     "data": {
      "text/html": [
       "<div>\n",
       "<style>\n",
       "    .dataframe thead tr:only-child th {\n",
       "        text-align: right;\n",
       "    }\n",
       "\n",
       "    .dataframe thead th {\n",
       "        text-align: left;\n",
       "    }\n",
       "\n",
       "    .dataframe tbody tr th {\n",
       "        vertical-align: top;\n",
       "    }\n",
       "</style>\n",
       "<table border=\"1\" class=\"dataframe\">\n",
       "  <thead>\n",
       "    <tr style=\"text-align: right;\">\n",
       "      <th></th>\n",
       "      <th>count</th>\n",
       "    </tr>\n",
       "    <tr>\n",
       "      <th>customerid</th>\n",
       "      <th></th>\n",
       "    </tr>\n",
       "  </thead>\n",
       "  <tbody>\n",
       "    <tr>\n",
       "      <th>8a373925508ec64301508f241426223f</th>\n",
       "      <td>1</td>\n",
       "    </tr>\n",
       "    <tr>\n",
       "      <th>8a76e7d443e6e97c0143ed0a33375981</th>\n",
       "      <td>1</td>\n",
       "    </tr>\n",
       "    <tr>\n",
       "      <th>8a81899e529ba94b01529c8baba42daa</th>\n",
       "      <td>1</td>\n",
       "    </tr>\n",
       "    <tr>\n",
       "      <th>8a8189f9528494e4015284e68a250edb</th>\n",
       "      <td>1</td>\n",
       "    </tr>\n",
       "    <tr>\n",
       "      <th>8a85880353acff880153af354a6719df</th>\n",
       "      <td>1</td>\n",
       "    </tr>\n",
       "  </tbody>\n",
       "</table>\n",
       "</div>"
      ],
      "text/plain": [
       "                                  count\n",
       "customerid                             \n",
       "8a373925508ec64301508f241426223f      1\n",
       "8a76e7d443e6e97c0143ed0a33375981      1\n",
       "8a81899e529ba94b01529c8baba42daa      1\n",
       "8a8189f9528494e4015284e68a250edb      1\n",
       "8a85880353acff880153af354a6719df      1"
      ]
     },
     "execution_count": 2922,
     "metadata": {},
     "output_type": "execute_result"
    }
   ],
   "source": [
    "# First, keep the customerid of referrer\n",
    "referrers = perf['referredby'].dropna(axis=0)\n",
    "referrers = pd.DataFrame(referrers)\n",
    "referrers = referrers.reset_index()\n",
    "referrers['count'] = 1\n",
    "referrers = referrers.drop('index',axis=1)\n",
    "referrers.columns = ['customerid','count']\n",
    "\n",
    "referrers = referrers.groupby('customerid').sum()\n",
    "\n",
    "referrers.head()\n",
    "\n",
    "\n"
   ]
  },
  {
   "cell_type": "code",
   "execution_count": 2923,
   "metadata": {},
   "outputs": [],
   "source": [
    "perf['referredby'] = perf['referredby'].fillna(0)"
   ]
  },
  {
   "cell_type": "code",
   "execution_count": 2924,
   "metadata": {},
   "outputs": [],
   "source": [
    "perf['referred'] = perf['referredby'].apply(lambda x : 0 if x==0 else 1)"
   ]
  },
  {
   "cell_type": "markdown",
   "metadata": {},
   "source": [
    "### 1.4 Interest (Total due - Loan amount)"
   ]
  },
  {
   "cell_type": "code",
   "execution_count": 2925,
   "metadata": {
    "collapsed": true
   },
   "outputs": [],
   "source": [
    "perf['interest'] = perf['totaldue'] - perf['loanamount']\n",
    "data = perf\n",
    "data.head()"
   ]
  },
  {
   "cell_type": "markdown",
   "metadata": {},
   "source": [
    "## ref_count"
   ]
  },
  {
   "cell_type": "code",
   "execution_count": 2929,
   "metadata": {},
   "outputs": [],
   "source": [
    "# data_10k = pd.merge(data_10k, referrers, how='outer', on=['customerid'])\n",
    "# data_others = pd.merge(data_others, referrers, how='outer', on=['customerid'])\n",
    "# data_others.head()"
   ]
  },
  {
   "cell_type": "markdown",
   "metadata": {},
   "source": [
    "# 2. Demographics"
   ]
  },
  {
   "cell_type": "code",
   "execution_count": 2930,
   "metadata": {},
   "outputs": [
    {
     "data": {
      "text/plain": [
       "(5833, 9)"
      ]
     },
     "execution_count": 2930,
     "metadata": {},
     "output_type": "execute_result"
    }
   ],
   "source": [
    "train_demographics = pd.read_csv('traindemographics.csv.xls')\n",
    "test_demographics = pd.read_csv('testdemographics.csv.xls')\n",
    "frames = [train_demographics,test_demographics]\n",
    "demographics = pd.concat(frames)\n",
    "demographics.shape"
   ]
  },
  {
   "cell_type": "code",
   "execution_count": 2931,
   "metadata": {},
   "outputs": [
    {
     "name": "stdout",
     "output_type": "stream",
     "text": [
      "(4346, 9) (1487, 9)\n"
     ]
    }
   ],
   "source": [
    "print(train_demographics.shape,test_demographics.shape)"
   ]
  },
  {
   "cell_type": "code",
   "execution_count": 2932,
   "metadata": {},
   "outputs": [
    {
     "data": {
      "text/plain": [
       "5818"
      ]
     },
     "execution_count": 2932,
     "metadata": {},
     "output_type": "execute_result"
    }
   ],
   "source": [
    "len(demographics['customerid'].unique())"
   ]
  },
  {
   "cell_type": "markdown",
   "metadata": {},
   "source": [
    "### Drop Duplicates"
   ]
  },
  {
   "cell_type": "code",
   "execution_count": 2933,
   "metadata": {
    "collapsed": true
   },
   "outputs": [],
   "source": [
    "demographics = demographics.drop_duplicates(subset='customerid',keep='last')"
   ]
  },
  {
   "cell_type": "code",
   "execution_count": 2934,
   "metadata": {},
   "outputs": [
    {
     "data": {
      "text/plain": [
       "(5818, 9)"
      ]
     },
     "execution_count": 2934,
     "metadata": {},
     "output_type": "execute_result"
    }
   ],
   "source": [
    "demographics.shape"
   ]
  },
  {
   "cell_type": "markdown",
   "metadata": {},
   "source": [
    "### 2.1 Age"
   ]
  },
  {
   "cell_type": "code",
   "execution_count": 2935,
   "metadata": {
    "collapsed": true
   },
   "outputs": [],
   "source": [
    "# Pop off '00:00:00.000000' from birthdate\n",
    "demographics['age'] = demographics['birthdate'].apply(lambda x: x.split().pop(0)[:10])\n",
    "# Sanity Check\n",
    "demographics['age'].head()"
   ]
  },
  {
   "cell_type": "code",
   "execution_count": 2937,
   "metadata": {
    "collapsed": true
   },
   "outputs": [],
   "source": [
    "# Split the birth date (This converts each observation into a list)\n",
    "demographics['age'] = demographics['age'].apply(lambda x: x.split('-'))\n",
    "\n",
    "# Convert all elements in each observation(list) from str to int\n",
    "demographics['age'] = demographics['age'].apply(lambda x: [int(y) for y in x ])\n",
    "\n",
    "# Convert each observation into a date format\n",
    "demographics['age'] = demographics['age'].apply(lambda x : date(x[0], x[1], x[2]))\n",
    "\n",
    "# Calculate Age!\n",
    "demographics['age'] = demographics['age'].apply(lambda x:(date(2017,7,1) - x) // timedelta(days=365.2425) )"
   ]
  },
  {
   "cell_type": "code",
   "execution_count": 3014,
   "metadata": {},
   "outputs": [],
   "source": [
    "# sns.distplot((demographics['age']))"
   ]
  },
  {
   "cell_type": "code",
   "execution_count": 2941,
   "metadata": {
    "collapsed": true
   },
   "outputs": [],
   "source": [
    "demographics = demographics.drop('birthdate',axis=1)\n",
    "demographics.head()"
   ]
  },
  {
   "cell_type": "markdown",
   "metadata": {},
   "source": [
    "### Missing Values"
   ]
  },
  {
   "cell_type": "code",
   "execution_count": 2943,
   "metadata": {},
   "outputs": [
    {
     "data": {
      "text/html": [
       "<div>\n",
       "<style>\n",
       "    .dataframe thead tr:only-child th {\n",
       "        text-align: right;\n",
       "    }\n",
       "\n",
       "    .dataframe thead th {\n",
       "        text-align: left;\n",
       "    }\n",
       "\n",
       "    .dataframe tbody tr th {\n",
       "        vertical-align: top;\n",
       "    }\n",
       "</style>\n",
       "<table border=\"1\" class=\"dataframe\">\n",
       "  <thead>\n",
       "    <tr style=\"text-align: right;\">\n",
       "      <th></th>\n",
       "      <th>Missing</th>\n",
       "    </tr>\n",
       "  </thead>\n",
       "  <tbody>\n",
       "    <tr>\n",
       "      <th>bank_branch_clients</th>\n",
       "      <td>5753</td>\n",
       "    </tr>\n",
       "    <tr>\n",
       "      <th>level_of_education_clients</th>\n",
       "      <td>5023</td>\n",
       "    </tr>\n",
       "    <tr>\n",
       "      <th>employment_status_clients</th>\n",
       "      <td>865</td>\n",
       "    </tr>\n",
       "  </tbody>\n",
       "</table>\n",
       "</div>"
      ],
      "text/plain": [
       "                            Missing\n",
       "bank_branch_clients            5753\n",
       "level_of_education_clients     5023\n",
       "employment_status_clients       865"
      ]
     },
     "execution_count": 2943,
     "metadata": {},
     "output_type": "execute_result"
    }
   ],
   "source": [
    "missing = demographics.isnull().sum().sort_values(ascending=False)\n",
    "missing_df = pd.DataFrame(missing, columns = ['Missing'])\n",
    "missing_table = missing_df[missing_df.Missing > 0]\n",
    "missing_table"
   ]
  },
  {
   "cell_type": "code",
   "execution_count": 2944,
   "metadata": {
    "collapsed": true
   },
   "outputs": [],
   "source": [
    "demographics = demographics.drop('level_of_education_clients',axis=1)\n",
    "demographics = demographics.drop('bank_branch_clients',axis=1)\n",
    "sns.countplot(demographics['employment_status_clients'])"
   ]
  },
  {
   "cell_type": "code",
   "execution_count": 2946,
   "metadata": {},
   "outputs": [
    {
     "data": {
      "text/html": [
       "<div>\n",
       "<style>\n",
       "    .dataframe thead tr:only-child th {\n",
       "        text-align: right;\n",
       "    }\n",
       "\n",
       "    .dataframe thead th {\n",
       "        text-align: left;\n",
       "    }\n",
       "\n",
       "    .dataframe tbody tr th {\n",
       "        vertical-align: top;\n",
       "    }\n",
       "</style>\n",
       "<table border=\"1\" class=\"dataframe\">\n",
       "  <thead>\n",
       "    <tr style=\"text-align: right;\">\n",
       "      <th></th>\n",
       "      <th>customerid</th>\n",
       "      <th>bank_account_type</th>\n",
       "      <th>longitude_gps</th>\n",
       "      <th>latitude_gps</th>\n",
       "      <th>bank_name_clients</th>\n",
       "      <th>employment_status_clients</th>\n",
       "      <th>age</th>\n",
       "    </tr>\n",
       "  </thead>\n",
       "  <tbody>\n",
       "    <tr>\n",
       "      <th>0</th>\n",
       "      <td>8a858e135cb22031015cbafc76964ebd</td>\n",
       "      <td>Savings</td>\n",
       "      <td>3.319219</td>\n",
       "      <td>6.528604</td>\n",
       "      <td>GT Bank</td>\n",
       "      <td>NaN</td>\n",
       "      <td>43</td>\n",
       "    </tr>\n",
       "    <tr>\n",
       "      <th>1</th>\n",
       "      <td>8a858e275c7ea5ec015c82482d7c3996</td>\n",
       "      <td>Savings</td>\n",
       "      <td>3.325598</td>\n",
       "      <td>7.119403</td>\n",
       "      <td>Sterling Bank</td>\n",
       "      <td>Permanent</td>\n",
       "      <td>31</td>\n",
       "    </tr>\n",
       "    <tr>\n",
       "      <th>2</th>\n",
       "      <td>8a858e5b5bd99460015bdc95cd485634</td>\n",
       "      <td>Savings</td>\n",
       "      <td>5.746100</td>\n",
       "      <td>5.563174</td>\n",
       "      <td>Fidelity Bank</td>\n",
       "      <td>NaN</td>\n",
       "      <td>30</td>\n",
       "    </tr>\n",
       "    <tr>\n",
       "      <th>3</th>\n",
       "      <td>8a858efd5ca70688015cabd1f1e94b55</td>\n",
       "      <td>Savings</td>\n",
       "      <td>3.362850</td>\n",
       "      <td>6.642485</td>\n",
       "      <td>GT Bank</td>\n",
       "      <td>Permanent</td>\n",
       "      <td>25</td>\n",
       "    </tr>\n",
       "    <tr>\n",
       "      <th>4</th>\n",
       "      <td>8a858e785acd3412015acd48f4920d04</td>\n",
       "      <td>Savings</td>\n",
       "      <td>8.455332</td>\n",
       "      <td>11.971410</td>\n",
       "      <td>GT Bank</td>\n",
       "      <td>Permanent</td>\n",
       "      <td>34</td>\n",
       "    </tr>\n",
       "  </tbody>\n",
       "</table>\n",
       "</div>"
      ],
      "text/plain": [
       "                         customerid bank_account_type  longitude_gps  \\\n",
       "0  8a858e135cb22031015cbafc76964ebd           Savings       3.319219   \n",
       "1  8a858e275c7ea5ec015c82482d7c3996           Savings       3.325598   \n",
       "2  8a858e5b5bd99460015bdc95cd485634           Savings       5.746100   \n",
       "3  8a858efd5ca70688015cabd1f1e94b55           Savings       3.362850   \n",
       "4  8a858e785acd3412015acd48f4920d04           Savings       8.455332   \n",
       "\n",
       "   latitude_gps bank_name_clients employment_status_clients  age  \n",
       "0      6.528604           GT Bank                       NaN   43  \n",
       "1      7.119403     Sterling Bank                 Permanent   31  \n",
       "2      5.563174     Fidelity Bank                       NaN   30  \n",
       "3      6.642485           GT Bank                 Permanent   25  \n",
       "4     11.971410           GT Bank                 Permanent   34  "
      ]
     },
     "execution_count": 2946,
     "metadata": {},
     "output_type": "execute_result"
    }
   ],
   "source": [
    "demographics.head()"
   ]
  },
  {
   "cell_type": "markdown",
   "metadata": {},
   "source": [
    "Deal with 'employment_status_clients' later"
   ]
  },
  {
   "cell_type": "code",
   "execution_count": 2947,
   "metadata": {
    "collapsed": true
   },
   "outputs": [],
   "source": [
    "data = pd.merge(data, demographics, how='inner', on=['customerid'])\n",
    "data.head()"
   ]
  },
  {
   "cell_type": "code",
   "execution_count": 2949,
   "metadata": {},
   "outputs": [
    {
     "data": {
      "image/png": "[encoded data removed]",
      "text/plain": [
       "<matplotlib.figure.Figure at 0x13a9ba438>"
      ]
     },
     "metadata": {},
     "output_type": "display_data"
    }
   ],
   "source": [
    "sns.countplot(y='bank_name_clients',data=data[:4368], hue='good_bad_flag');"
   ]
  },
  {
   "cell_type": "markdown",
   "metadata": {},
   "source": [
    "# 3. Previous Loans"
   ]
  },
  {
   "cell_type": "code",
   "execution_count": 2950,
   "metadata": {},
   "outputs": [
    {
     "data": {
      "text/plain": [
       "(24090, 12)"
      ]
     },
     "execution_count": 2950,
     "metadata": {},
     "output_type": "execute_result"
    }
   ],
   "source": [
    "train_prevloans = pd.read_csv('trainprevloans.csv.xls')\n",
    "test_prevloans = pd.read_csv('testprevloans.csv.xls')\n",
    "frames = [train_prevloans,test_prevloans]\n",
    "previous_loans = pd.concat(frames)\n",
    "previous_loans.shape"
   ]
  },
  {
   "cell_type": "code",
   "execution_count": 2951,
   "metadata": {},
   "outputs": [
    {
     "data": {
      "text/html": [
       "<div>\n",
       "<style>\n",
       "    .dataframe thead tr:only-child th {\n",
       "        text-align: right;\n",
       "    }\n",
       "\n",
       "    .dataframe thead th {\n",
       "        text-align: left;\n",
       "    }\n",
       "\n",
       "    .dataframe tbody tr th {\n",
       "        vertical-align: top;\n",
       "    }\n",
       "</style>\n",
       "<table border=\"1\" class=\"dataframe\">\n",
       "  <thead>\n",
       "    <tr style=\"text-align: right;\">\n",
       "      <th></th>\n",
       "      <th>customerid</th>\n",
       "      <th>systemloanid</th>\n",
       "      <th>loannumber</th>\n",
       "      <th>approveddate</th>\n",
       "      <th>creationdate</th>\n",
       "      <th>loanamount</th>\n",
       "      <th>totaldue</th>\n",
       "      <th>termdays</th>\n",
       "      <th>closeddate</th>\n",
       "      <th>referredby</th>\n",
       "      <th>firstduedate</th>\n",
       "      <th>firstrepaiddate</th>\n",
       "    </tr>\n",
       "  </thead>\n",
       "  <tbody>\n",
       "    <tr>\n",
       "      <th>0</th>\n",
       "      <td>8a2a81a74ce8c05d014cfb32a0da1049</td>\n",
       "      <td>301682320</td>\n",
       "      <td>2</td>\n",
       "      <td>2016-08-15 18:22:40.000000</td>\n",
       "      <td>2016-08-15 17:22:32.000000</td>\n",
       "      <td>10000.0</td>\n",
       "      <td>13000.0</td>\n",
       "      <td>30</td>\n",
       "      <td>2016-09-01 16:06:48.000000</td>\n",
       "      <td>NaN</td>\n",
       "      <td>2016-09-14 00:00:00.000000</td>\n",
       "      <td>2016-09-01 15:51:43.000000</td>\n",
       "    </tr>\n",
       "    <tr>\n",
       "      <th>1</th>\n",
       "      <td>8a2a81a74ce8c05d014cfb32a0da1049</td>\n",
       "      <td>301883808</td>\n",
       "      <td>9</td>\n",
       "      <td>2017-04-28 18:39:07.000000</td>\n",
       "      <td>2017-04-28 17:38:53.000000</td>\n",
       "      <td>10000.0</td>\n",
       "      <td>13000.0</td>\n",
       "      <td>30</td>\n",
       "      <td>2017-05-28 14:44:49.000000</td>\n",
       "      <td>NaN</td>\n",
       "      <td>2017-05-30 00:00:00.000000</td>\n",
       "      <td>2017-05-26 00:00:00.000000</td>\n",
       "    </tr>\n",
       "    <tr>\n",
       "      <th>2</th>\n",
       "      <td>8a2a81a74ce8c05d014cfb32a0da1049</td>\n",
       "      <td>301831714</td>\n",
       "      <td>8</td>\n",
       "      <td>2017-03-05 10:56:25.000000</td>\n",
       "      <td>2017-03-05 09:56:19.000000</td>\n",
       "      <td>20000.0</td>\n",
       "      <td>23800.0</td>\n",
       "      <td>30</td>\n",
       "      <td>2017-04-26 22:18:56.000000</td>\n",
       "      <td>NaN</td>\n",
       "      <td>2017-04-04 00:00:00.000000</td>\n",
       "      <td>2017-04-26 22:03:47.000000</td>\n",
       "    </tr>\n",
       "    <tr>\n",
       "      <th>3</th>\n",
       "      <td>8a8588f35438fe12015444567666018e</td>\n",
       "      <td>301861541</td>\n",
       "      <td>5</td>\n",
       "      <td>2017-04-09 18:25:55.000000</td>\n",
       "      <td>2017-04-09 17:25:42.000000</td>\n",
       "      <td>10000.0</td>\n",
       "      <td>11500.0</td>\n",
       "      <td>15</td>\n",
       "      <td>2017-04-24 01:35:52.000000</td>\n",
       "      <td>NaN</td>\n",
       "      <td>2017-04-24 00:00:00.000000</td>\n",
       "      <td>2017-04-24 00:48:43.000000</td>\n",
       "    </tr>\n",
       "    <tr>\n",
       "      <th>4</th>\n",
       "      <td>8a85890754145ace015429211b513e16</td>\n",
       "      <td>301941754</td>\n",
       "      <td>2</td>\n",
       "      <td>2017-06-17 09:29:57.000000</td>\n",
       "      <td>2017-06-17 08:29:50.000000</td>\n",
       "      <td>10000.0</td>\n",
       "      <td>11500.0</td>\n",
       "      <td>15</td>\n",
       "      <td>2017-07-14 21:18:43.000000</td>\n",
       "      <td>NaN</td>\n",
       "      <td>2017-07-03 00:00:00.000000</td>\n",
       "      <td>2017-07-14 21:08:35.000000</td>\n",
       "    </tr>\n",
       "  </tbody>\n",
       "</table>\n",
       "</div>"
      ],
      "text/plain": [
       "                         customerid  systemloanid  loannumber  \\\n",
       "0  8a2a81a74ce8c05d014cfb32a0da1049     301682320           2   \n",
       "1  8a2a81a74ce8c05d014cfb32a0da1049     301883808           9   \n",
       "2  8a2a81a74ce8c05d014cfb32a0da1049     301831714           8   \n",
       "3  8a8588f35438fe12015444567666018e     301861541           5   \n",
       "4  8a85890754145ace015429211b513e16     301941754           2   \n",
       "\n",
       "                 approveddate                creationdate  loanamount  \\\n",
       "0  2016-08-15 18:22:40.000000  2016-08-15 17:22:32.000000     10000.0   \n",
       "1  2017-04-28 18:39:07.000000  2017-04-28 17:38:53.000000     10000.0   \n",
       "2  2017-03-05 10:56:25.000000  2017-03-05 09:56:19.000000     20000.0   \n",
       "3  2017-04-09 18:25:55.000000  2017-04-09 17:25:42.000000     10000.0   \n",
       "4  2017-06-17 09:29:57.000000  2017-06-17 08:29:50.000000     10000.0   \n",
       "\n",
       "   totaldue  termdays                  closeddate referredby  \\\n",
       "0   13000.0        30  2016-09-01 16:06:48.000000        NaN   \n",
       "1   13000.0        30  2017-05-28 14:44:49.000000        NaN   \n",
       "2   23800.0        30  2017-04-26 22:18:56.000000        NaN   \n",
       "3   11500.0        15  2017-04-24 01:35:52.000000        NaN   \n",
       "4   11500.0        15  2017-07-14 21:18:43.000000        NaN   \n",
       "\n",
       "                 firstduedate             firstrepaiddate  \n",
       "0  2016-09-14 00:00:00.000000  2016-09-01 15:51:43.000000  \n",
       "1  2017-05-30 00:00:00.000000  2017-05-26 00:00:00.000000  \n",
       "2  2017-04-04 00:00:00.000000  2017-04-26 22:03:47.000000  \n",
       "3  2017-04-24 00:00:00.000000  2017-04-24 00:48:43.000000  \n",
       "4  2017-07-03 00:00:00.000000  2017-07-14 21:08:35.000000  "
      ]
     },
     "execution_count": 2951,
     "metadata": {},
     "output_type": "execute_result"
    }
   ],
   "source": [
    "previous_loans.head()"
   ]
  },
  {
   "cell_type": "code",
   "execution_count": 2952,
   "metadata": {
    "collapsed": true
   },
   "outputs": [],
   "source": [
    "prev_loans_count = pd.DataFrame(previous_loans['customerid'].value_counts()).reset_index()\n",
    "prev_loans_count.columns = ['customerid','loan_count']"
   ]
  },
  {
   "cell_type": "code",
   "execution_count": 2953,
   "metadata": {},
   "outputs": [
    {
     "data": {
      "text/html": [
       "<div>\n",
       "<style>\n",
       "    .dataframe thead tr:only-child th {\n",
       "        text-align: right;\n",
       "    }\n",
       "\n",
       "    .dataframe thead th {\n",
       "        text-align: left;\n",
       "    }\n",
       "\n",
       "    .dataframe tbody tr th {\n",
       "        vertical-align: top;\n",
       "    }\n",
       "</style>\n",
       "<table border=\"1\" class=\"dataframe\">\n",
       "  <thead>\n",
       "    <tr style=\"text-align: right;\">\n",
       "      <th></th>\n",
       "      <th>customerid</th>\n",
       "      <th>loan_count</th>\n",
       "    </tr>\n",
       "  </thead>\n",
       "  <tbody>\n",
       "    <tr>\n",
       "      <th>0</th>\n",
       "      <td>8a858ff554e290e10154fe4e6b3f648c</td>\n",
       "      <td>33</td>\n",
       "    </tr>\n",
       "    <tr>\n",
       "      <th>1</th>\n",
       "      <td>8a858f7d5578012a01557ea194d94948</td>\n",
       "      <td>26</td>\n",
       "    </tr>\n",
       "    <tr>\n",
       "      <th>2</th>\n",
       "      <td>8a858e4456ced8470156d73452f85335</td>\n",
       "      <td>22</td>\n",
       "    </tr>\n",
       "    <tr>\n",
       "      <th>3</th>\n",
       "      <td>8a858fe5569398920156a3a9a77b5d02</td>\n",
       "      <td>21</td>\n",
       "    </tr>\n",
       "    <tr>\n",
       "      <th>4</th>\n",
       "      <td>8a858fa5552add5d0155536bd49343f9</td>\n",
       "      <td>21</td>\n",
       "    </tr>\n",
       "  </tbody>\n",
       "</table>\n",
       "</div>"
      ],
      "text/plain": [
       "                         customerid  loan_count\n",
       "0  8a858ff554e290e10154fe4e6b3f648c          33\n",
       "1  8a858f7d5578012a01557ea194d94948          26\n",
       "2  8a858e4456ced8470156d73452f85335          22\n",
       "3  8a858fe5569398920156a3a9a77b5d02          21\n",
       "4  8a858fa5552add5d0155536bd49343f9          21"
      ]
     },
     "execution_count": 2953,
     "metadata": {},
     "output_type": "execute_result"
    }
   ],
   "source": [
    "prev_loans_count.head()"
   ]
  },
  {
   "cell_type": "markdown",
   "metadata": {},
   "source": [
    "### 3.1 Create a new variable in data - No of loans applied for"
   ]
  },
  {
   "cell_type": "code",
   "execution_count": 2954,
   "metadata": {
    "collapsed": true
   },
   "outputs": [],
   "source": [
    "data = pd.merge(data, prev_loans_count, how='outer', on=['customerid'])"
   ]
  },
  {
   "cell_type": "markdown",
   "metadata": {},
   "source": [
    "### loan_count"
   ]
  },
  {
   "cell_type": "code",
   "execution_count": 2956,
   "metadata": {},
   "outputs": [
    {
     "data": {
      "image/png": "[encoded data removed]",
      "text/plain": [
       "<matplotlib.figure.Figure at 0x1392d03c8>"
      ]
     },
     "metadata": {},
     "output_type": "display_data"
    }
   ],
   "source": [
    "sns.countplot(y='loan_count',data=data[:4368], hue='good_bad_flag');"
   ]
  },
  {
   "cell_type": "code",
   "execution_count": 2957,
   "metadata": {},
   "outputs": [],
   "source": [
    "# Cap the maximum loan_count to 14\n",
    "data['loan_count'] = data['loan_count'].apply(lambda x: 14 if x>13 else x)\n",
    "data['loan_count'] = data['loan_count'].fillna(0)"
   ]
  },
  {
   "cell_type": "markdown",
   "metadata": {},
   "source": [
    "### 3.2 Total Loan Amount, Total Loan Due, Total Loannumber & Total Termdays for each customer"
   ]
  },
  {
   "cell_type": "code",
   "execution_count": 2962,
   "metadata": {},
   "outputs": [
    {
     "data": {
      "text/html": [
       "<div>\n",
       "<style>\n",
       "    .dataframe thead tr:only-child th {\n",
       "        text-align: right;\n",
       "    }\n",
       "\n",
       "    .dataframe thead th {\n",
       "        text-align: left;\n",
       "    }\n",
       "\n",
       "    .dataframe tbody tr th {\n",
       "        vertical-align: top;\n",
       "    }\n",
       "</style>\n",
       "<table border=\"1\" class=\"dataframe\">\n",
       "  <thead>\n",
       "    <tr style=\"text-align: right;\">\n",
       "      <th></th>\n",
       "      <th>customerid</th>\n",
       "      <th>prev_loanamount</th>\n",
       "      <th>prev_totaldue</th>\n",
       "      <th>prev_termdays</th>\n",
       "      <th>prev_loannumber</th>\n",
       "    </tr>\n",
       "  </thead>\n",
       "  <tbody>\n",
       "    <tr>\n",
       "      <th>0</th>\n",
       "      <td>8a1088a0484472eb01484669e3ce4e0b</td>\n",
       "      <td>10000.0</td>\n",
       "      <td>11500.0</td>\n",
       "      <td>15</td>\n",
       "      <td>1</td>\n",
       "    </tr>\n",
       "    <tr>\n",
       "      <th>1</th>\n",
       "      <td>8a1a1e7e4f707f8b014f797718316cad</td>\n",
       "      <td>70000.0</td>\n",
       "      <td>89500.0</td>\n",
       "      <td>150</td>\n",
       "      <td>10</td>\n",
       "    </tr>\n",
       "    <tr>\n",
       "      <th>2</th>\n",
       "      <td>8a1a32fc49b632520149c3b8fdf85139</td>\n",
       "      <td>90000.0</td>\n",
       "      <td>106500.0</td>\n",
       "      <td>135</td>\n",
       "      <td>28</td>\n",
       "    </tr>\n",
       "    <tr>\n",
       "      <th>3</th>\n",
       "      <td>8a1eb5ba49a682300149c3c068b806c7</td>\n",
       "      <td>130000.0</td>\n",
       "      <td>162400.0</td>\n",
       "      <td>270</td>\n",
       "      <td>36</td>\n",
       "    </tr>\n",
       "    <tr>\n",
       "      <th>4</th>\n",
       "      <td>8a1edbf14734127f0147356fdb1b1eb2</td>\n",
       "      <td>20000.0</td>\n",
       "      <td>24500.0</td>\n",
       "      <td>45</td>\n",
       "      <td>3</td>\n",
       "    </tr>\n",
       "  </tbody>\n",
       "</table>\n",
       "</div>"
      ],
      "text/plain": [
       "                         customerid  prev_loanamount  prev_totaldue  \\\n",
       "0  8a1088a0484472eb01484669e3ce4e0b          10000.0        11500.0   \n",
       "1  8a1a1e7e4f707f8b014f797718316cad          70000.0        89500.0   \n",
       "2  8a1a32fc49b632520149c3b8fdf85139          90000.0       106500.0   \n",
       "3  8a1eb5ba49a682300149c3c068b806c7         130000.0       162400.0   \n",
       "4  8a1edbf14734127f0147356fdb1b1eb2          20000.0        24500.0   \n",
       "\n",
       "   prev_termdays  prev_loannumber  \n",
       "0             15                1  \n",
       "1            150               10  \n",
       "2            135               28  \n",
       "3            270               36  \n",
       "4             45                3  "
      ]
     },
     "execution_count": 2962,
     "metadata": {},
     "output_type": "execute_result"
    }
   ],
   "source": [
    "previous_loans[['customerid','loanamount','totaldue','termdays','loannumber']]\n",
    "grouped = previous_loans[['customerid','loanamount','totaldue','termdays','loannumber']].groupby('customerid').sum()\n",
    "grouped = grouped.reset_index()\n",
    "grouped.columns = ['customerid','prev_loanamount','prev_totaldue','prev_termdays','prev_loannumber']\n",
    "grouped.head()"
   ]
  },
  {
   "cell_type": "code",
   "execution_count": 2963,
   "metadata": {},
   "outputs": [],
   "source": [
    "grouped = grouped[['customerid','prev_loanamount','prev_loannumber','prev_totaldue','prev_termdays']]"
   ]
  },
  {
   "cell_type": "code",
   "execution_count": 2964,
   "metadata": {
    "collapsed": true
   },
   "outputs": [],
   "source": [
    "data = pd.merge(data, grouped, how='outer', on=['customerid'])"
   ]
  },
  {
   "cell_type": "code",
   "execution_count": 2965,
   "metadata": {},
   "outputs": [],
   "source": [
    "data[['prev_loanamount','prev_totaldue','prev_termdays','prev_loannumber']] = data[['prev_loanamount','prev_totaldue','prev_termdays','prev_loannumber']].fillna(0)"
   ]
  },
  {
   "cell_type": "code",
   "execution_count": 2966,
   "metadata": {
    "collapsed": true
   },
   "outputs": [],
   "source": [
    "data['prev_interest'] = data['prev_totaldue'] - data['prev_loanamount']"
   ]
  },
  {
   "cell_type": "code",
   "execution_count": 2967,
   "metadata": {},
   "outputs": [
    {
     "data": {
      "text/html": [
       "<div>\n",
       "<style>\n",
       "    .dataframe thead tr:only-child th {\n",
       "        text-align: right;\n",
       "    }\n",
       "\n",
       "    .dataframe thead th {\n",
       "        text-align: left;\n",
       "    }\n",
       "\n",
       "    .dataframe tbody tr th {\n",
       "        vertical-align: top;\n",
       "    }\n",
       "</style>\n",
       "<table border=\"1\" class=\"dataframe\">\n",
       "  <thead>\n",
       "    <tr style=\"text-align: right;\">\n",
       "      <th></th>\n",
       "      <th>approveddate</th>\n",
       "      <th>creationdate</th>\n",
       "      <th>customerid</th>\n",
       "      <th>good_bad_flag</th>\n",
       "      <th>loanamount</th>\n",
       "      <th>loannumber</th>\n",
       "      <th>referredby</th>\n",
       "      <th>systemloanid</th>\n",
       "      <th>termdays</th>\n",
       "      <th>totaldue</th>\n",
       "      <th>...</th>\n",
       "      <th>latitude_gps</th>\n",
       "      <th>bank_name_clients</th>\n",
       "      <th>employment_status_clients</th>\n",
       "      <th>age</th>\n",
       "      <th>loan_count</th>\n",
       "      <th>prev_loanamount</th>\n",
       "      <th>prev_loannumber</th>\n",
       "      <th>prev_totaldue</th>\n",
       "      <th>prev_termdays</th>\n",
       "      <th>prev_interest</th>\n",
       "    </tr>\n",
       "  </thead>\n",
       "  <tbody>\n",
       "    <tr>\n",
       "      <th>0</th>\n",
       "      <td>2017-07-25 08:22:56.000000</td>\n",
       "      <td>2017-07-25 07:22:47.000000</td>\n",
       "      <td>8a2a81a74ce8c05d014cfb32a0da1049</td>\n",
       "      <td>Good</td>\n",
       "      <td>30000.0</td>\n",
       "      <td>12</td>\n",
       "      <td>0</td>\n",
       "      <td>301994762</td>\n",
       "      <td>30</td>\n",
       "      <td>34500.0</td>\n",
       "      <td>...</td>\n",
       "      <td>6.433055</td>\n",
       "      <td>Diamond Bank</td>\n",
       "      <td>Permanent</td>\n",
       "      <td>45</td>\n",
       "      <td>11.0</td>\n",
       "      <td>200000.0</td>\n",
       "      <td>66.0</td>\n",
       "      <td>242900.0</td>\n",
       "      <td>330.0</td>\n",
       "      <td>42900.0</td>\n",
       "    </tr>\n",
       "    <tr>\n",
       "      <th>1</th>\n",
       "      <td>2017-07-05 17:04:41.000000</td>\n",
       "      <td>2017-07-05 16:04:18.000000</td>\n",
       "      <td>8a85886e54beabf90154c0a29ae757c0</td>\n",
       "      <td>Good</td>\n",
       "      <td>15000.0</td>\n",
       "      <td>2</td>\n",
       "      <td>0</td>\n",
       "      <td>301965204</td>\n",
       "      <td>30</td>\n",
       "      <td>17250.0</td>\n",
       "      <td>...</td>\n",
       "      <td>7.320700</td>\n",
       "      <td>GT Bank</td>\n",
       "      <td>Permanent</td>\n",
       "      <td>31</td>\n",
       "      <td>0.0</td>\n",
       "      <td>0.0</td>\n",
       "      <td>0.0</td>\n",
       "      <td>0.0</td>\n",
       "      <td>0.0</td>\n",
       "      <td>0.0</td>\n",
       "    </tr>\n",
       "    <tr>\n",
       "      <th>2</th>\n",
       "      <td>2017-07-06 14:52:57.000000</td>\n",
       "      <td>2017-07-06 13:52:51.000000</td>\n",
       "      <td>8a8588f35438fe12015444567666018e</td>\n",
       "      <td>Good</td>\n",
       "      <td>20000.0</td>\n",
       "      <td>7</td>\n",
       "      <td>0</td>\n",
       "      <td>301966580</td>\n",
       "      <td>15</td>\n",
       "      <td>22250.0</td>\n",
       "      <td>...</td>\n",
       "      <td>10.292041</td>\n",
       "      <td>EcoBank</td>\n",
       "      <td>Permanent</td>\n",
       "      <td>32</td>\n",
       "      <td>6.0</td>\n",
       "      <td>60000.0</td>\n",
       "      <td>21.0</td>\n",
       "      <td>70500.0</td>\n",
       "      <td>105.0</td>\n",
       "      <td>10500.0</td>\n",
       "    </tr>\n",
       "    <tr>\n",
       "      <th>3</th>\n",
       "      <td>2017-07-27 19:00:41.000000</td>\n",
       "      <td>2017-07-27 18:00:35.000000</td>\n",
       "      <td>8a85890754145ace015429211b513e16</td>\n",
       "      <td>Good</td>\n",
       "      <td>10000.0</td>\n",
       "      <td>3</td>\n",
       "      <td>0</td>\n",
       "      <td>301999343</td>\n",
       "      <td>15</td>\n",
       "      <td>11500.0</td>\n",
       "      <td>...</td>\n",
       "      <td>7.491708</td>\n",
       "      <td>First Bank</td>\n",
       "      <td>Permanent</td>\n",
       "      <td>39</td>\n",
       "      <td>2.0</td>\n",
       "      <td>20000.0</td>\n",
       "      <td>3.0</td>\n",
       "      <td>24500.0</td>\n",
       "      <td>45.0</td>\n",
       "      <td>4500.0</td>\n",
       "    </tr>\n",
       "    <tr>\n",
       "      <th>4</th>\n",
       "      <td>2017-07-03 23:42:45.000000</td>\n",
       "      <td>2017-07-03 22:42:39.000000</td>\n",
       "      <td>8a858970548359cc0154883481981866</td>\n",
       "      <td>Good</td>\n",
       "      <td>40000.0</td>\n",
       "      <td>9</td>\n",
       "      <td>0</td>\n",
       "      <td>301962360</td>\n",
       "      <td>30</td>\n",
       "      <td>44000.0</td>\n",
       "      <td>...</td>\n",
       "      <td>9.076574</td>\n",
       "      <td>GT Bank</td>\n",
       "      <td>Permanent</td>\n",
       "      <td>30</td>\n",
       "      <td>8.0</td>\n",
       "      <td>150000.0</td>\n",
       "      <td>36.0</td>\n",
       "      <td>188400.0</td>\n",
       "      <td>300.0</td>\n",
       "      <td>38400.0</td>\n",
       "    </tr>\n",
       "  </tbody>\n",
       "</table>\n",
       "<p>5 rows × 24 columns</p>\n",
       "</div>"
      ],
      "text/plain": [
       "                 approveddate                creationdate  \\\n",
       "0  2017-07-25 08:22:56.000000  2017-07-25 07:22:47.000000   \n",
       "1  2017-07-05 17:04:41.000000  2017-07-05 16:04:18.000000   \n",
       "2  2017-07-06 14:52:57.000000  2017-07-06 13:52:51.000000   \n",
       "3  2017-07-27 19:00:41.000000  2017-07-27 18:00:35.000000   \n",
       "4  2017-07-03 23:42:45.000000  2017-07-03 22:42:39.000000   \n",
       "\n",
       "                         customerid good_bad_flag  loanamount  loannumber  \\\n",
       "0  8a2a81a74ce8c05d014cfb32a0da1049          Good     30000.0          12   \n",
       "1  8a85886e54beabf90154c0a29ae757c0          Good     15000.0           2   \n",
       "2  8a8588f35438fe12015444567666018e          Good     20000.0           7   \n",
       "3  8a85890754145ace015429211b513e16          Good     10000.0           3   \n",
       "4  8a858970548359cc0154883481981866          Good     40000.0           9   \n",
       "\n",
       "  referredby  systemloanid  termdays  totaldue      ...        latitude_gps  \\\n",
       "0          0     301994762        30   34500.0      ...            6.433055   \n",
       "1          0     301965204        30   17250.0      ...            7.320700   \n",
       "2          0     301966580        15   22250.0      ...           10.292041   \n",
       "3          0     301999343        15   11500.0      ...            7.491708   \n",
       "4          0     301962360        30   44000.0      ...            9.076574   \n",
       "\n",
       "   bank_name_clients employment_status_clients  age  loan_count  \\\n",
       "0       Diamond Bank                 Permanent   45        11.0   \n",
       "1            GT Bank                 Permanent   31         0.0   \n",
       "2            EcoBank                 Permanent   32         6.0   \n",
       "3         First Bank                 Permanent   39         2.0   \n",
       "4            GT Bank                 Permanent   30         8.0   \n",
       "\n",
       "  prev_loanamount prev_loannumber  prev_totaldue  prev_termdays  prev_interest  \n",
       "0        200000.0            66.0       242900.0          330.0        42900.0  \n",
       "1             0.0             0.0            0.0            0.0            0.0  \n",
       "2         60000.0            21.0        70500.0          105.0        10500.0  \n",
       "3         20000.0             3.0        24500.0           45.0         4500.0  \n",
       "4        150000.0            36.0       188400.0          300.0        38400.0  \n",
       "\n",
       "[5 rows x 24 columns]"
      ]
     },
     "execution_count": 2967,
     "metadata": {},
     "output_type": "execute_result"
    }
   ],
   "source": [
    "data.head()"
   ]
  },
  {
   "cell_type": "markdown",
   "metadata": {},
   "source": [
    "### 3.3 Repayment Score (First due date - First Repaid date)"
   ]
  },
  {
   "cell_type": "code",
   "execution_count": 2968,
   "metadata": {
    "collapsed": true
   },
   "outputs": [],
   "source": [
    "previous_loans['firstduedate'] = previous_loans['firstduedate'].apply(lambda x: x.split().pop(0)[:10])\n",
    "previous_loans['firstrepaiddate'] = previous_loans['firstrepaiddate'].apply(lambda x: x.split().pop(0)[:10])"
   ]
  },
  {
   "cell_type": "code",
   "execution_count": 2969,
   "metadata": {
    "collapsed": true
   },
   "outputs": [],
   "source": [
    "# Split the  date (This converts each observation into a list)\n",
    "previous_loans['firstduedate'] = previous_loans['firstduedate'].apply(lambda x: x.split('-'))\n",
    "\n",
    "# Convert all elements in each observation(list) from str to int\n",
    "previous_loans['firstduedate'] = previous_loans['firstduedate'].apply(lambda x: [int(y) for y in x ])\n",
    "\n",
    "# Convert each observation into a date format\n",
    "previous_loans['firstduedate'] = previous_loans['firstduedate'].apply(lambda x : date(x[0], x[1], x[2]))\n",
    "\n",
    "# Split the  date (This converts each observation into a list)\n",
    "previous_loans['firstrepaiddate'] = previous_loans['firstrepaiddate'].apply(lambda x: x.split('-'))\n",
    "\n",
    "# Convert all elements in each observation(list) from str to int\n",
    "previous_loans['firstrepaiddate'] = previous_loans['firstrepaiddate'].apply(lambda x: [int(y) for y in x ])\n",
    "\n",
    "# Convert each observation into a date format\n",
    "previous_loans['firstrepaiddate'] = previous_loans['firstrepaiddate'].apply(lambda x : date(x[0], x[1], x[2]))\n",
    "\n",
    "# Calculate repayment_score\n",
    "previous_loans['repayment_score'] = previous_loans['firstduedate'] - previous_loans['firstrepaiddate']\n"
   ]
  },
  {
   "cell_type": "code",
   "execution_count": 2970,
   "metadata": {},
   "outputs": [
    {
     "data": {
      "text/html": [
       "<div>\n",
       "<style>\n",
       "    .dataframe thead tr:only-child th {\n",
       "        text-align: right;\n",
       "    }\n",
       "\n",
       "    .dataframe thead th {\n",
       "        text-align: left;\n",
       "    }\n",
       "\n",
       "    .dataframe tbody tr th {\n",
       "        vertical-align: top;\n",
       "    }\n",
       "</style>\n",
       "<table border=\"1\" class=\"dataframe\">\n",
       "  <thead>\n",
       "    <tr style=\"text-align: right;\">\n",
       "      <th></th>\n",
       "      <th>customerid</th>\n",
       "      <th>systemloanid</th>\n",
       "      <th>loannumber</th>\n",
       "      <th>approveddate</th>\n",
       "      <th>creationdate</th>\n",
       "      <th>loanamount</th>\n",
       "      <th>totaldue</th>\n",
       "      <th>termdays</th>\n",
       "      <th>closeddate</th>\n",
       "      <th>referredby</th>\n",
       "      <th>firstduedate</th>\n",
       "      <th>firstrepaiddate</th>\n",
       "      <th>repayment_score</th>\n",
       "    </tr>\n",
       "  </thead>\n",
       "  <tbody>\n",
       "    <tr>\n",
       "      <th>0</th>\n",
       "      <td>8a2a81a74ce8c05d014cfb32a0da1049</td>\n",
       "      <td>301682320</td>\n",
       "      <td>2</td>\n",
       "      <td>2016-08-15 18:22:40.000000</td>\n",
       "      <td>2016-08-15 17:22:32.000000</td>\n",
       "      <td>10000.0</td>\n",
       "      <td>13000.0</td>\n",
       "      <td>30</td>\n",
       "      <td>2016-09-01 16:06:48.000000</td>\n",
       "      <td>NaN</td>\n",
       "      <td>2016-09-14</td>\n",
       "      <td>2016-09-01</td>\n",
       "      <td>13 days</td>\n",
       "    </tr>\n",
       "    <tr>\n",
       "      <th>1</th>\n",
       "      <td>8a2a81a74ce8c05d014cfb32a0da1049</td>\n",
       "      <td>301883808</td>\n",
       "      <td>9</td>\n",
       "      <td>2017-04-28 18:39:07.000000</td>\n",
       "      <td>2017-04-28 17:38:53.000000</td>\n",
       "      <td>10000.0</td>\n",
       "      <td>13000.0</td>\n",
       "      <td>30</td>\n",
       "      <td>2017-05-28 14:44:49.000000</td>\n",
       "      <td>NaN</td>\n",
       "      <td>2017-05-30</td>\n",
       "      <td>2017-05-26</td>\n",
       "      <td>4 days</td>\n",
       "    </tr>\n",
       "    <tr>\n",
       "      <th>2</th>\n",
       "      <td>8a2a81a74ce8c05d014cfb32a0da1049</td>\n",
       "      <td>301831714</td>\n",
       "      <td>8</td>\n",
       "      <td>2017-03-05 10:56:25.000000</td>\n",
       "      <td>2017-03-05 09:56:19.000000</td>\n",
       "      <td>20000.0</td>\n",
       "      <td>23800.0</td>\n",
       "      <td>30</td>\n",
       "      <td>2017-04-26 22:18:56.000000</td>\n",
       "      <td>NaN</td>\n",
       "      <td>2017-04-04</td>\n",
       "      <td>2017-04-26</td>\n",
       "      <td>-22 days</td>\n",
       "    </tr>\n",
       "    <tr>\n",
       "      <th>3</th>\n",
       "      <td>8a8588f35438fe12015444567666018e</td>\n",
       "      <td>301861541</td>\n",
       "      <td>5</td>\n",
       "      <td>2017-04-09 18:25:55.000000</td>\n",
       "      <td>2017-04-09 17:25:42.000000</td>\n",
       "      <td>10000.0</td>\n",
       "      <td>11500.0</td>\n",
       "      <td>15</td>\n",
       "      <td>2017-04-24 01:35:52.000000</td>\n",
       "      <td>NaN</td>\n",
       "      <td>2017-04-24</td>\n",
       "      <td>2017-04-24</td>\n",
       "      <td>0 days</td>\n",
       "    </tr>\n",
       "    <tr>\n",
       "      <th>4</th>\n",
       "      <td>8a85890754145ace015429211b513e16</td>\n",
       "      <td>301941754</td>\n",
       "      <td>2</td>\n",
       "      <td>2017-06-17 09:29:57.000000</td>\n",
       "      <td>2017-06-17 08:29:50.000000</td>\n",
       "      <td>10000.0</td>\n",
       "      <td>11500.0</td>\n",
       "      <td>15</td>\n",
       "      <td>2017-07-14 21:18:43.000000</td>\n",
       "      <td>NaN</td>\n",
       "      <td>2017-07-03</td>\n",
       "      <td>2017-07-14</td>\n",
       "      <td>-11 days</td>\n",
       "    </tr>\n",
       "  </tbody>\n",
       "</table>\n",
       "</div>"
      ],
      "text/plain": [
       "                         customerid  systemloanid  loannumber  \\\n",
       "0  8a2a81a74ce8c05d014cfb32a0da1049     301682320           2   \n",
       "1  8a2a81a74ce8c05d014cfb32a0da1049     301883808           9   \n",
       "2  8a2a81a74ce8c05d014cfb32a0da1049     301831714           8   \n",
       "3  8a8588f35438fe12015444567666018e     301861541           5   \n",
       "4  8a85890754145ace015429211b513e16     301941754           2   \n",
       "\n",
       "                 approveddate                creationdate  loanamount  \\\n",
       "0  2016-08-15 18:22:40.000000  2016-08-15 17:22:32.000000     10000.0   \n",
       "1  2017-04-28 18:39:07.000000  2017-04-28 17:38:53.000000     10000.0   \n",
       "2  2017-03-05 10:56:25.000000  2017-03-05 09:56:19.000000     20000.0   \n",
       "3  2017-04-09 18:25:55.000000  2017-04-09 17:25:42.000000     10000.0   \n",
       "4  2017-06-17 09:29:57.000000  2017-06-17 08:29:50.000000     10000.0   \n",
       "\n",
       "   totaldue  termdays                  closeddate referredby firstduedate  \\\n",
       "0   13000.0        30  2016-09-01 16:06:48.000000        NaN   2016-09-14   \n",
       "1   13000.0        30  2017-05-28 14:44:49.000000        NaN   2017-05-30   \n",
       "2   23800.0        30  2017-04-26 22:18:56.000000        NaN   2017-04-04   \n",
       "3   11500.0        15  2017-04-24 01:35:52.000000        NaN   2017-04-24   \n",
       "4   11500.0        15  2017-07-14 21:18:43.000000        NaN   2017-07-03   \n",
       "\n",
       "  firstrepaiddate repayment_score  \n",
       "0      2016-09-01         13 days  \n",
       "1      2017-05-26          4 days  \n",
       "2      2017-04-26        -22 days  \n",
       "3      2017-04-24          0 days  \n",
       "4      2017-07-14        -11 days  "
      ]
     },
     "execution_count": 2970,
     "metadata": {},
     "output_type": "execute_result"
    }
   ],
   "source": [
    "previous_loans.head()"
   ]
  },
  {
   "cell_type": "code",
   "execution_count": 2971,
   "metadata": {
    "collapsed": true
   },
   "outputs": [],
   "source": [
    "previous_loans['repayment_score'] = previous_loans['repayment_score'].astype('str').apply(lambda x: int(x.strip(' ')[:2]))"
   ]
  },
  {
   "cell_type": "code",
   "execution_count": 2972,
   "metadata": {},
   "outputs": [
    {
     "data": {
      "text/html": [
       "<div>\n",
       "<style>\n",
       "    .dataframe thead tr:only-child th {\n",
       "        text-align: right;\n",
       "    }\n",
       "\n",
       "    .dataframe thead th {\n",
       "        text-align: left;\n",
       "    }\n",
       "\n",
       "    .dataframe tbody tr th {\n",
       "        vertical-align: top;\n",
       "    }\n",
       "</style>\n",
       "<table border=\"1\" class=\"dataframe\">\n",
       "  <thead>\n",
       "    <tr style=\"text-align: right;\">\n",
       "      <th></th>\n",
       "      <th>customerid</th>\n",
       "      <th>systemloanid</th>\n",
       "      <th>loannumber</th>\n",
       "      <th>approveddate</th>\n",
       "      <th>creationdate</th>\n",
       "      <th>loanamount</th>\n",
       "      <th>totaldue</th>\n",
       "      <th>termdays</th>\n",
       "      <th>closeddate</th>\n",
       "      <th>referredby</th>\n",
       "      <th>firstduedate</th>\n",
       "      <th>firstrepaiddate</th>\n",
       "      <th>repayment_score</th>\n",
       "    </tr>\n",
       "  </thead>\n",
       "  <tbody>\n",
       "    <tr>\n",
       "      <th>0</th>\n",
       "      <td>8a2a81a74ce8c05d014cfb32a0da1049</td>\n",
       "      <td>301682320</td>\n",
       "      <td>2</td>\n",
       "      <td>2016-08-15 18:22:40.000000</td>\n",
       "      <td>2016-08-15 17:22:32.000000</td>\n",
       "      <td>10000.0</td>\n",
       "      <td>13000.0</td>\n",
       "      <td>30</td>\n",
       "      <td>2016-09-01 16:06:48.000000</td>\n",
       "      <td>NaN</td>\n",
       "      <td>2016-09-14</td>\n",
       "      <td>2016-09-01</td>\n",
       "      <td>13</td>\n",
       "    </tr>\n",
       "    <tr>\n",
       "      <th>1</th>\n",
       "      <td>8a2a81a74ce8c05d014cfb32a0da1049</td>\n",
       "      <td>301883808</td>\n",
       "      <td>9</td>\n",
       "      <td>2017-04-28 18:39:07.000000</td>\n",
       "      <td>2017-04-28 17:38:53.000000</td>\n",
       "      <td>10000.0</td>\n",
       "      <td>13000.0</td>\n",
       "      <td>30</td>\n",
       "      <td>2017-05-28 14:44:49.000000</td>\n",
       "      <td>NaN</td>\n",
       "      <td>2017-05-30</td>\n",
       "      <td>2017-05-26</td>\n",
       "      <td>4</td>\n",
       "    </tr>\n",
       "    <tr>\n",
       "      <th>2</th>\n",
       "      <td>8a2a81a74ce8c05d014cfb32a0da1049</td>\n",
       "      <td>301831714</td>\n",
       "      <td>8</td>\n",
       "      <td>2017-03-05 10:56:25.000000</td>\n",
       "      <td>2017-03-05 09:56:19.000000</td>\n",
       "      <td>20000.0</td>\n",
       "      <td>23800.0</td>\n",
       "      <td>30</td>\n",
       "      <td>2017-04-26 22:18:56.000000</td>\n",
       "      <td>NaN</td>\n",
       "      <td>2017-04-04</td>\n",
       "      <td>2017-04-26</td>\n",
       "      <td>-2</td>\n",
       "    </tr>\n",
       "    <tr>\n",
       "      <th>3</th>\n",
       "      <td>8a8588f35438fe12015444567666018e</td>\n",
       "      <td>301861541</td>\n",
       "      <td>5</td>\n",
       "      <td>2017-04-09 18:25:55.000000</td>\n",
       "      <td>2017-04-09 17:25:42.000000</td>\n",
       "      <td>10000.0</td>\n",
       "      <td>11500.0</td>\n",
       "      <td>15</td>\n",
       "      <td>2017-04-24 01:35:52.000000</td>\n",
       "      <td>NaN</td>\n",
       "      <td>2017-04-24</td>\n",
       "      <td>2017-04-24</td>\n",
       "      <td>0</td>\n",
       "    </tr>\n",
       "    <tr>\n",
       "      <th>4</th>\n",
       "      <td>8a85890754145ace015429211b513e16</td>\n",
       "      <td>301941754</td>\n",
       "      <td>2</td>\n",
       "      <td>2017-06-17 09:29:57.000000</td>\n",
       "      <td>2017-06-17 08:29:50.000000</td>\n",
       "      <td>10000.0</td>\n",
       "      <td>11500.0</td>\n",
       "      <td>15</td>\n",
       "      <td>2017-07-14 21:18:43.000000</td>\n",
       "      <td>NaN</td>\n",
       "      <td>2017-07-03</td>\n",
       "      <td>2017-07-14</td>\n",
       "      <td>-1</td>\n",
       "    </tr>\n",
       "  </tbody>\n",
       "</table>\n",
       "</div>"
      ],
      "text/plain": [
       "                         customerid  systemloanid  loannumber  \\\n",
       "0  8a2a81a74ce8c05d014cfb32a0da1049     301682320           2   \n",
       "1  8a2a81a74ce8c05d014cfb32a0da1049     301883808           9   \n",
       "2  8a2a81a74ce8c05d014cfb32a0da1049     301831714           8   \n",
       "3  8a8588f35438fe12015444567666018e     301861541           5   \n",
       "4  8a85890754145ace015429211b513e16     301941754           2   \n",
       "\n",
       "                 approveddate                creationdate  loanamount  \\\n",
       "0  2016-08-15 18:22:40.000000  2016-08-15 17:22:32.000000     10000.0   \n",
       "1  2017-04-28 18:39:07.000000  2017-04-28 17:38:53.000000     10000.0   \n",
       "2  2017-03-05 10:56:25.000000  2017-03-05 09:56:19.000000     20000.0   \n",
       "3  2017-04-09 18:25:55.000000  2017-04-09 17:25:42.000000     10000.0   \n",
       "4  2017-06-17 09:29:57.000000  2017-06-17 08:29:50.000000     10000.0   \n",
       "\n",
       "   totaldue  termdays                  closeddate referredby firstduedate  \\\n",
       "0   13000.0        30  2016-09-01 16:06:48.000000        NaN   2016-09-14   \n",
       "1   13000.0        30  2017-05-28 14:44:49.000000        NaN   2017-05-30   \n",
       "2   23800.0        30  2017-04-26 22:18:56.000000        NaN   2017-04-04   \n",
       "3   11500.0        15  2017-04-24 01:35:52.000000        NaN   2017-04-24   \n",
       "4   11500.0        15  2017-07-14 21:18:43.000000        NaN   2017-07-03   \n",
       "\n",
       "  firstrepaiddate  repayment_score  \n",
       "0      2016-09-01               13  \n",
       "1      2017-05-26                4  \n",
       "2      2017-04-26               -2  \n",
       "3      2017-04-24                0  \n",
       "4      2017-07-14               -1  "
      ]
     },
     "execution_count": 2972,
     "metadata": {},
     "output_type": "execute_result"
    }
   ],
   "source": [
    "previous_loans.head()"
   ]
  },
  {
   "cell_type": "code",
   "execution_count": 2973,
   "metadata": {},
   "outputs": [
    {
     "data": {
      "text/html": [
       "<div>\n",
       "<style>\n",
       "    .dataframe thead tr:only-child th {\n",
       "        text-align: right;\n",
       "    }\n",
       "\n",
       "    .dataframe thead th {\n",
       "        text-align: left;\n",
       "    }\n",
       "\n",
       "    .dataframe tbody tr th {\n",
       "        vertical-align: top;\n",
       "    }\n",
       "</style>\n",
       "<table border=\"1\" class=\"dataframe\">\n",
       "  <thead>\n",
       "    <tr style=\"text-align: right;\">\n",
       "      <th></th>\n",
       "      <th>customerid</th>\n",
       "      <th>repayment_score</th>\n",
       "    </tr>\n",
       "  </thead>\n",
       "  <tbody>\n",
       "    <tr>\n",
       "      <th>0</th>\n",
       "      <td>8a1088a0484472eb01484669e3ce4e0b</td>\n",
       "      <td>-6</td>\n",
       "    </tr>\n",
       "    <tr>\n",
       "      <th>1</th>\n",
       "      <td>8a1a1e7e4f707f8b014f797718316cad</td>\n",
       "      <td>1</td>\n",
       "    </tr>\n",
       "    <tr>\n",
       "      <th>2</th>\n",
       "      <td>8a1a32fc49b632520149c3b8fdf85139</td>\n",
       "      <td>3</td>\n",
       "    </tr>\n",
       "    <tr>\n",
       "      <th>3</th>\n",
       "      <td>8a1eb5ba49a682300149c3c068b806c7</td>\n",
       "      <td>25</td>\n",
       "    </tr>\n",
       "    <tr>\n",
       "      <th>4</th>\n",
       "      <td>8a1edbf14734127f0147356fdb1b1eb2</td>\n",
       "      <td>8</td>\n",
       "    </tr>\n",
       "  </tbody>\n",
       "</table>\n",
       "</div>"
      ],
      "text/plain": [
       "                         customerid  repayment_score\n",
       "0  8a1088a0484472eb01484669e3ce4e0b               -6\n",
       "1  8a1a1e7e4f707f8b014f797718316cad                1\n",
       "2  8a1a32fc49b632520149c3b8fdf85139                3\n",
       "3  8a1eb5ba49a682300149c3c068b806c7               25\n",
       "4  8a1edbf14734127f0147356fdb1b1eb2                8"
      ]
     },
     "execution_count": 2973,
     "metadata": {},
     "output_type": "execute_result"
    }
   ],
   "source": [
    "previous_loans[['customerid','repayment_score']]\n",
    "grouped = previous_loans[['customerid','repayment_score']].groupby('customerid').sum()\n",
    "grouped = grouped.reset_index()\n",
    "# grouped.columns = ['customerid','loanamount','totaldue']\n",
    "grouped.head()"
   ]
  },
  {
   "cell_type": "code",
   "execution_count": 2974,
   "metadata": {},
   "outputs": [
    {
     "data": {
      "text/plain": [
       "(5801, 2)"
      ]
     },
     "execution_count": 2974,
     "metadata": {},
     "output_type": "execute_result"
    }
   ],
   "source": [
    "grouped.shape"
   ]
  },
  {
   "cell_type": "code",
   "execution_count": 2975,
   "metadata": {
    "collapsed": true
   },
   "outputs": [],
   "source": [
    "data = pd.merge(data, grouped, how='outer', on=['customerid'])"
   ]
  },
  {
   "cell_type": "code",
   "execution_count": 2976,
   "metadata": {},
   "outputs": [],
   "source": [
    "data['repayment_score'] = data['repayment_score'].fillna(0)"
   ]
  },
  {
   "cell_type": "code",
   "execution_count": 2977,
   "metadata": {},
   "outputs": [
    {
     "data": {
      "text/html": [
       "<div>\n",
       "<style>\n",
       "    .dataframe thead tr:only-child th {\n",
       "        text-align: right;\n",
       "    }\n",
       "\n",
       "    .dataframe thead th {\n",
       "        text-align: left;\n",
       "    }\n",
       "\n",
       "    .dataframe tbody tr th {\n",
       "        vertical-align: top;\n",
       "    }\n",
       "</style>\n",
       "<table border=\"1\" class=\"dataframe\">\n",
       "  <thead>\n",
       "    <tr style=\"text-align: right;\">\n",
       "      <th></th>\n",
       "      <th>approveddate</th>\n",
       "      <th>creationdate</th>\n",
       "      <th>customerid</th>\n",
       "      <th>good_bad_flag</th>\n",
       "      <th>loanamount</th>\n",
       "      <th>loannumber</th>\n",
       "      <th>referredby</th>\n",
       "      <th>systemloanid</th>\n",
       "      <th>termdays</th>\n",
       "      <th>totaldue</th>\n",
       "      <th>...</th>\n",
       "      <th>bank_name_clients</th>\n",
       "      <th>employment_status_clients</th>\n",
       "      <th>age</th>\n",
       "      <th>loan_count</th>\n",
       "      <th>prev_loanamount</th>\n",
       "      <th>prev_loannumber</th>\n",
       "      <th>prev_totaldue</th>\n",
       "      <th>prev_termdays</th>\n",
       "      <th>prev_interest</th>\n",
       "      <th>repayment_score</th>\n",
       "    </tr>\n",
       "  </thead>\n",
       "  <tbody>\n",
       "    <tr>\n",
       "      <th>0</th>\n",
       "      <td>2017-07-25 08:22:56.000000</td>\n",
       "      <td>2017-07-25 07:22:47.000000</td>\n",
       "      <td>8a2a81a74ce8c05d014cfb32a0da1049</td>\n",
       "      <td>Good</td>\n",
       "      <td>30000.0</td>\n",
       "      <td>12</td>\n",
       "      <td>0</td>\n",
       "      <td>301994762</td>\n",
       "      <td>30</td>\n",
       "      <td>34500.0</td>\n",
       "      <td>...</td>\n",
       "      <td>Diamond Bank</td>\n",
       "      <td>Permanent</td>\n",
       "      <td>45</td>\n",
       "      <td>11.0</td>\n",
       "      <td>200000.0</td>\n",
       "      <td>66.0</td>\n",
       "      <td>242900.0</td>\n",
       "      <td>330.0</td>\n",
       "      <td>42900.0</td>\n",
       "      <td>79.0</td>\n",
       "    </tr>\n",
       "    <tr>\n",
       "      <th>1</th>\n",
       "      <td>2017-07-05 17:04:41.000000</td>\n",
       "      <td>2017-07-05 16:04:18.000000</td>\n",
       "      <td>8a85886e54beabf90154c0a29ae757c0</td>\n",
       "      <td>Good</td>\n",
       "      <td>15000.0</td>\n",
       "      <td>2</td>\n",
       "      <td>0</td>\n",
       "      <td>301965204</td>\n",
       "      <td>30</td>\n",
       "      <td>17250.0</td>\n",
       "      <td>...</td>\n",
       "      <td>GT Bank</td>\n",
       "      <td>Permanent</td>\n",
       "      <td>31</td>\n",
       "      <td>0.0</td>\n",
       "      <td>0.0</td>\n",
       "      <td>0.0</td>\n",
       "      <td>0.0</td>\n",
       "      <td>0.0</td>\n",
       "      <td>0.0</td>\n",
       "      <td>0.0</td>\n",
       "    </tr>\n",
       "    <tr>\n",
       "      <th>2</th>\n",
       "      <td>2017-07-06 14:52:57.000000</td>\n",
       "      <td>2017-07-06 13:52:51.000000</td>\n",
       "      <td>8a8588f35438fe12015444567666018e</td>\n",
       "      <td>Good</td>\n",
       "      <td>20000.0</td>\n",
       "      <td>7</td>\n",
       "      <td>0</td>\n",
       "      <td>301966580</td>\n",
       "      <td>15</td>\n",
       "      <td>22250.0</td>\n",
       "      <td>...</td>\n",
       "      <td>EcoBank</td>\n",
       "      <td>Permanent</td>\n",
       "      <td>32</td>\n",
       "      <td>6.0</td>\n",
       "      <td>60000.0</td>\n",
       "      <td>21.0</td>\n",
       "      <td>70500.0</td>\n",
       "      <td>105.0</td>\n",
       "      <td>10500.0</td>\n",
       "      <td>22.0</td>\n",
       "    </tr>\n",
       "    <tr>\n",
       "      <th>3</th>\n",
       "      <td>2017-07-27 19:00:41.000000</td>\n",
       "      <td>2017-07-27 18:00:35.000000</td>\n",
       "      <td>8a85890754145ace015429211b513e16</td>\n",
       "      <td>Good</td>\n",
       "      <td>10000.0</td>\n",
       "      <td>3</td>\n",
       "      <td>0</td>\n",
       "      <td>301999343</td>\n",
       "      <td>15</td>\n",
       "      <td>11500.0</td>\n",
       "      <td>...</td>\n",
       "      <td>First Bank</td>\n",
       "      <td>Permanent</td>\n",
       "      <td>39</td>\n",
       "      <td>2.0</td>\n",
       "      <td>20000.0</td>\n",
       "      <td>3.0</td>\n",
       "      <td>24500.0</td>\n",
       "      <td>45.0</td>\n",
       "      <td>4500.0</td>\n",
       "      <td>-5.0</td>\n",
       "    </tr>\n",
       "    <tr>\n",
       "      <th>4</th>\n",
       "      <td>2017-07-03 23:42:45.000000</td>\n",
       "      <td>2017-07-03 22:42:39.000000</td>\n",
       "      <td>8a858970548359cc0154883481981866</td>\n",
       "      <td>Good</td>\n",
       "      <td>40000.0</td>\n",
       "      <td>9</td>\n",
       "      <td>0</td>\n",
       "      <td>301962360</td>\n",
       "      <td>30</td>\n",
       "      <td>44000.0</td>\n",
       "      <td>...</td>\n",
       "      <td>GT Bank</td>\n",
       "      <td>Permanent</td>\n",
       "      <td>30</td>\n",
       "      <td>8.0</td>\n",
       "      <td>150000.0</td>\n",
       "      <td>36.0</td>\n",
       "      <td>188400.0</td>\n",
       "      <td>300.0</td>\n",
       "      <td>38400.0</td>\n",
       "      <td>25.0</td>\n",
       "    </tr>\n",
       "  </tbody>\n",
       "</table>\n",
       "<p>5 rows × 25 columns</p>\n",
       "</div>"
      ],
      "text/plain": [
       "                 approveddate                creationdate  \\\n",
       "0  2017-07-25 08:22:56.000000  2017-07-25 07:22:47.000000   \n",
       "1  2017-07-05 17:04:41.000000  2017-07-05 16:04:18.000000   \n",
       "2  2017-07-06 14:52:57.000000  2017-07-06 13:52:51.000000   \n",
       "3  2017-07-27 19:00:41.000000  2017-07-27 18:00:35.000000   \n",
       "4  2017-07-03 23:42:45.000000  2017-07-03 22:42:39.000000   \n",
       "\n",
       "                         customerid good_bad_flag  loanamount  loannumber  \\\n",
       "0  8a2a81a74ce8c05d014cfb32a0da1049          Good     30000.0          12   \n",
       "1  8a85886e54beabf90154c0a29ae757c0          Good     15000.0           2   \n",
       "2  8a8588f35438fe12015444567666018e          Good     20000.0           7   \n",
       "3  8a85890754145ace015429211b513e16          Good     10000.0           3   \n",
       "4  8a858970548359cc0154883481981866          Good     40000.0           9   \n",
       "\n",
       "  referredby  systemloanid  termdays  totaldue       ...         \\\n",
       "0          0     301994762        30   34500.0       ...          \n",
       "1          0     301965204        30   17250.0       ...          \n",
       "2          0     301966580        15   22250.0       ...          \n",
       "3          0     301999343        15   11500.0       ...          \n",
       "4          0     301962360        30   44000.0       ...          \n",
       "\n",
       "   bank_name_clients  employment_status_clients age  loan_count  \\\n",
       "0       Diamond Bank                  Permanent  45        11.0   \n",
       "1            GT Bank                  Permanent  31         0.0   \n",
       "2            EcoBank                  Permanent  32         6.0   \n",
       "3         First Bank                  Permanent  39         2.0   \n",
       "4            GT Bank                  Permanent  30         8.0   \n",
       "\n",
       "   prev_loanamount prev_loannumber prev_totaldue  prev_termdays  \\\n",
       "0         200000.0            66.0      242900.0          330.0   \n",
       "1              0.0             0.0           0.0            0.0   \n",
       "2          60000.0            21.0       70500.0          105.0   \n",
       "3          20000.0             3.0       24500.0           45.0   \n",
       "4         150000.0            36.0      188400.0          300.0   \n",
       "\n",
       "   prev_interest  repayment_score  \n",
       "0        42900.0             79.0  \n",
       "1            0.0              0.0  \n",
       "2        10500.0             22.0  \n",
       "3         4500.0             -5.0  \n",
       "4        38400.0             25.0  \n",
       "\n",
       "[5 rows x 25 columns]"
      ]
     },
     "execution_count": 2977,
     "metadata": {},
     "output_type": "execute_result"
    }
   ],
   "source": [
    "data.head()"
   ]
  },
  {
   "cell_type": "code",
   "execution_count": 2978,
   "metadata": {},
   "outputs": [
    {
     "data": {
      "text/plain": [
       "Index(['approveddate', 'creationdate', 'customerid', 'good_bad_flag',\n",
       "       'loanamount', 'loannumber', 'referredby', 'systemloanid', 'termdays',\n",
       "       'totaldue', 'referred', 'interest', 'bank_account_type',\n",
       "       'longitude_gps', 'latitude_gps', 'bank_name_clients',\n",
       "       'employment_status_clients', 'age', 'loan_count', 'prev_loanamount',\n",
       "       'prev_loannumber', 'prev_totaldue', 'prev_termdays', 'prev_interest',\n",
       "       'repayment_score'],\n",
       "      dtype='object')"
      ]
     },
     "execution_count": 2978,
     "metadata": {},
     "output_type": "execute_result"
    }
   ],
   "source": [
    "data.columns"
   ]
  },
  {
   "cell_type": "markdown",
   "metadata": {
    "collapsed": true
   },
   "source": [
    "### Missing Data (employment_status_clients)"
   ]
  },
  {
   "cell_type": "code",
   "execution_count": 2979,
   "metadata": {},
   "outputs": [
    {
     "data": {
      "text/plain": [
       "865"
      ]
     },
     "execution_count": 2979,
     "metadata": {},
     "output_type": "execute_result"
    }
   ],
   "source": [
    "data['employment_status_clients'].isnull().sum()"
   ]
  },
  {
   "cell_type": "code",
   "execution_count": 2981,
   "metadata": {
    "collapsed": true
   },
   "outputs": [],
   "source": [
    "data['employment_status_clients'] = data['employment_status_clients'].fillna(method='bfill')\n",
    "data['employment_status_clients'].isnull().sum()"
   ]
  },
  {
   "cell_type": "markdown",
   "metadata": {},
   "source": [
    "### More Feature Engineering..."
   ]
  },
  {
   "cell_type": "code",
   "execution_count": 2984,
   "metadata": {
    "collapsed": true
   },
   "outputs": [],
   "source": [
    "data['prev_borrow_magnitude'] = data['prev_interest'] / data['prev_termdays']\n",
    "data['borrow_magnitude'] = data['interest'] / data['termdays']"
   ]
  },
  {
   "cell_type": "code",
   "execution_count": 2985,
   "metadata": {
    "collapsed": true
   },
   "outputs": [],
   "source": [
    "data['borrow_deviation'] =  data['borrow_magnitude'] - (data['prev_borrow_magnitude']/ data['loan_count'])"
   ]
  },
  {
   "cell_type": "code",
   "execution_count": 2986,
   "metadata": {},
   "outputs": [
    {
     "data": {
      "text/plain": [
       "17"
      ]
     },
     "execution_count": 2986,
     "metadata": {},
     "output_type": "execute_result"
    }
   ],
   "source": [
    "data['borrow_deviation'].isnull().sum()"
   ]
  },
  {
   "cell_type": "code",
   "execution_count": 2987,
   "metadata": {},
   "outputs": [],
   "source": [
    "data['borrow_deviation'] = data['borrow_deviation'].fillna(0)\n",
    "data['prev_borrow_magnitude'] = data['prev_borrow_magnitude'].fillna(0)\n",
    "data['borrow_deviation'].isnull().sum()"
   ]
  },
  {
   "cell_type": "markdown",
   "metadata": {},
   "source": [
    "### Drop Some Irrelevant Features (for now)"
   ]
  },
  {
   "cell_type": "code",
   "execution_count": 2990,
   "metadata": {},
   "outputs": [],
   "source": [
    "data = data.drop(['referredby','longitude_gps','latitude_gps','bank_name_clients','approveddate','creationdate','systemloanid'],axis=1)"
   ]
  },
  {
   "cell_type": "code",
   "execution_count": 2991,
   "metadata": {},
   "outputs": [
    {
     "name": "stdout",
     "output_type": "stream",
     "text": [
      "(3287, 21) (2531, 21)\n"
     ]
    }
   ],
   "source": [
    "data_10k = data[data['loanamount']==10000.0]\n",
    "data_others = data[data['loanamount']!=10000.0]\n",
    "print(data_10k.shape,data_others.shape)"
   ]
  },
  {
   "cell_type": "markdown",
   "metadata": {},
   "source": [
    "**Note**  \n"
   ]
  },
  {
   "cell_type": "markdown",
   "metadata": {},
   "source": [
    "### Standardization"
   ]
  },
  {
   "cell_type": "code",
   "execution_count": 2992,
   "metadata": {
    "collapsed": true
   },
   "outputs": [],
   "source": [
    "from sklearn.preprocessing import StandardScaler\n",
    "# Get all numeric features\n",
    "numerical_features = []\n",
    "for feature in data_10k.dtypes.index:\n",
    "    if (data[feature].dtype != np.object):\n",
    "        numerical_features.append(feature)\n",
    "\n",
    "data_10k[numerical_features] = data_10k[numerical_features].fillna(0)\n",
    "data_others[numerical_features] = data_others[numerical_features].fillna(0)\n",
    "\n",
    "scaler = StandardScaler()\n",
    "data_10k[numerical_features]= scaler.fit_transform(data_10k[numerical_features])\n",
    "data_others[numerical_features]= scaler.fit_transform(data_others[numerical_features])"
   ]
  },
  {
   "cell_type": "markdown",
   "metadata": {},
   "source": [
    "### Encoding non numerical data"
   ]
  },
  {
   "cell_type": "markdown",
   "metadata": {},
   "source": [
    "#### One Hot Encoding of bank_account_type, termdays & employment_status_clients"
   ]
  },
  {
   "cell_type": "code",
   "execution_count": 2999,
   "metadata": {},
   "outputs": [],
   "source": [
    "# data_10k\n",
    "data_dummies_10k = pd.get_dummies(data_10k[['bank_account_type','employment_status_clients']])\n",
    "data_10k = data_10k.drop(['bank_account_type','employment_status_clients'],axis=1)\n",
    "data_10k = pd.concat([data_10k, data_dummies_10k],axis=1)\n",
    "\n",
    "# data_others\n",
    "data_dummies_others = pd.get_dummies(data_others[['bank_account_type','employment_status_clients']])\n",
    "data_others = data_others.drop(['bank_account_type','employment_status_clients'],axis=1)\n",
    "data_others = pd.concat([data_others, data_dummies_others],axis=1)\n",
    "\n"
   ]
  },
  {
   "cell_type": "markdown",
   "metadata": {},
   "source": [
    "# data_10k\n",
    "### Target Variable "
   ]
  },
  {
   "cell_type": "code",
   "execution_count": 3002,
   "metadata": {},
   "outputs": [
    {
     "data": {
      "text/html": [
       "<div>\n",
       "<style>\n",
       "    .dataframe thead tr:only-child th {\n",
       "        text-align: right;\n",
       "    }\n",
       "\n",
       "    .dataframe thead th {\n",
       "        text-align: left;\n",
       "    }\n",
       "\n",
       "    .dataframe tbody tr th {\n",
       "        vertical-align: top;\n",
       "    }\n",
       "</style>\n",
       "<table border=\"1\" class=\"dataframe\">\n",
       "  <thead>\n",
       "    <tr style=\"text-align: right;\">\n",
       "      <th></th>\n",
       "      <th>customerid</th>\n",
       "      <th>good_bad_flag</th>\n",
       "      <th>loanamount</th>\n",
       "      <th>loannumber</th>\n",
       "      <th>termdays</th>\n",
       "      <th>totaldue</th>\n",
       "      <th>referred</th>\n",
       "      <th>interest</th>\n",
       "      <th>age</th>\n",
       "      <th>loan_count</th>\n",
       "      <th>...</th>\n",
       "      <th>borrow_deviation</th>\n",
       "      <th>bank_account_type_Current</th>\n",
       "      <th>bank_account_type_Other</th>\n",
       "      <th>bank_account_type_Savings</th>\n",
       "      <th>employment_status_clients_Contract</th>\n",
       "      <th>employment_status_clients_Permanent</th>\n",
       "      <th>employment_status_clients_Retired</th>\n",
       "      <th>employment_status_clients_Self-Employed</th>\n",
       "      <th>employment_status_clients_Student</th>\n",
       "      <th>employment_status_clients_Unemployed</th>\n",
       "    </tr>\n",
       "  </thead>\n",
       "  <tbody>\n",
       "    <tr>\n",
       "      <th>0</th>\n",
       "      <td>8a858899538ddb8e015390510b321f08</td>\n",
       "      <td>NaN</td>\n",
       "      <td>10000.0</td>\n",
       "      <td>4</td>\n",
       "      <td>30</td>\n",
       "      <td>12250.0</td>\n",
       "      <td>0</td>\n",
       "      <td>2250.0</td>\n",
       "      <td>33</td>\n",
       "      <td>3.0</td>\n",
       "      <td>...</td>\n",
       "      <td>44.333333</td>\n",
       "      <td>0</td>\n",
       "      <td>1</td>\n",
       "      <td>0</td>\n",
       "      <td>0</td>\n",
       "      <td>1</td>\n",
       "      <td>0</td>\n",
       "      <td>0</td>\n",
       "      <td>0</td>\n",
       "      <td>0</td>\n",
       "    </tr>\n",
       "    <tr>\n",
       "      <th>1</th>\n",
       "      <td>8a858e675c3fe0a1015c44ba8a037fee</td>\n",
       "      <td>NaN</td>\n",
       "      <td>10000.0</td>\n",
       "      <td>2</td>\n",
       "      <td>15</td>\n",
       "      <td>11500.0</td>\n",
       "      <td>0</td>\n",
       "      <td>1500.0</td>\n",
       "      <td>23</td>\n",
       "      <td>1.0</td>\n",
       "      <td>...</td>\n",
       "      <td>0.000000</td>\n",
       "      <td>0</td>\n",
       "      <td>0</td>\n",
       "      <td>1</td>\n",
       "      <td>0</td>\n",
       "      <td>1</td>\n",
       "      <td>0</td>\n",
       "      <td>0</td>\n",
       "      <td>0</td>\n",
       "      <td>0</td>\n",
       "    </tr>\n",
       "    <tr>\n",
       "      <th>2</th>\n",
       "      <td>8a858e705668e16701568d358c6579da</td>\n",
       "      <td>NaN</td>\n",
       "      <td>10000.0</td>\n",
       "      <td>8</td>\n",
       "      <td>15</td>\n",
       "      <td>11500.0</td>\n",
       "      <td>0</td>\n",
       "      <td>1500.0</td>\n",
       "      <td>26</td>\n",
       "      <td>7.0</td>\n",
       "      <td>...</td>\n",
       "      <td>85.714286</td>\n",
       "      <td>0</td>\n",
       "      <td>1</td>\n",
       "      <td>0</td>\n",
       "      <td>0</td>\n",
       "      <td>0</td>\n",
       "      <td>0</td>\n",
       "      <td>0</td>\n",
       "      <td>0</td>\n",
       "      <td>1</td>\n",
       "    </tr>\n",
       "    <tr>\n",
       "      <th>3</th>\n",
       "      <td>8a858ee25b34d796015b387bdfb9477f</td>\n",
       "      <td>NaN</td>\n",
       "      <td>10000.0</td>\n",
       "      <td>4</td>\n",
       "      <td>15</td>\n",
       "      <td>11500.0</td>\n",
       "      <td>0</td>\n",
       "      <td>1500.0</td>\n",
       "      <td>35</td>\n",
       "      <td>3.0</td>\n",
       "      <td>...</td>\n",
       "      <td>66.666667</td>\n",
       "      <td>0</td>\n",
       "      <td>0</td>\n",
       "      <td>1</td>\n",
       "      <td>0</td>\n",
       "      <td>1</td>\n",
       "      <td>0</td>\n",
       "      <td>0</td>\n",
       "      <td>0</td>\n",
       "      <td>0</td>\n",
       "    </tr>\n",
       "    <tr>\n",
       "      <th>4</th>\n",
       "      <td>8a858f275c451af5015c589ae56f15bf</td>\n",
       "      <td>NaN</td>\n",
       "      <td>10000.0</td>\n",
       "      <td>2</td>\n",
       "      <td>30</td>\n",
       "      <td>13000.0</td>\n",
       "      <td>0</td>\n",
       "      <td>3000.0</td>\n",
       "      <td>28</td>\n",
       "      <td>1.0</td>\n",
       "      <td>...</td>\n",
       "      <td>0.000000</td>\n",
       "      <td>0</td>\n",
       "      <td>0</td>\n",
       "      <td>1</td>\n",
       "      <td>0</td>\n",
       "      <td>1</td>\n",
       "      <td>0</td>\n",
       "      <td>0</td>\n",
       "      <td>0</td>\n",
       "      <td>0</td>\n",
       "    </tr>\n",
       "  </tbody>\n",
       "</table>\n",
       "<p>5 rows × 28 columns</p>\n",
       "</div>"
      ],
      "text/plain": [
       "                         customerid good_bad_flag  loanamount  loannumber  \\\n",
       "0  8a858899538ddb8e015390510b321f08           NaN     10000.0           4   \n",
       "1  8a858e675c3fe0a1015c44ba8a037fee           NaN     10000.0           2   \n",
       "2  8a858e705668e16701568d358c6579da           NaN     10000.0           8   \n",
       "3  8a858ee25b34d796015b387bdfb9477f           NaN     10000.0           4   \n",
       "4  8a858f275c451af5015c589ae56f15bf           NaN     10000.0           2   \n",
       "\n",
       "   termdays  totaldue  referred  interest  age  loan_count  \\\n",
       "0        30   12250.0         0    2250.0   33         3.0   \n",
       "1        15   11500.0         0    1500.0   23         1.0   \n",
       "2        15   11500.0         0    1500.0   26         7.0   \n",
       "3        15   11500.0         0    1500.0   35         3.0   \n",
       "4        30   13000.0         0    3000.0   28         1.0   \n",
       "\n",
       "                   ...                   borrow_deviation  \\\n",
       "0                  ...                          44.333333   \n",
       "1                  ...                           0.000000   \n",
       "2                  ...                          85.714286   \n",
       "3                  ...                          66.666667   \n",
       "4                  ...                           0.000000   \n",
       "\n",
       "   bank_account_type_Current  bank_account_type_Other  \\\n",
       "0                          0                        1   \n",
       "1                          0                        0   \n",
       "2                          0                        1   \n",
       "3                          0                        0   \n",
       "4                          0                        0   \n",
       "\n",
       "   bank_account_type_Savings  employment_status_clients_Contract  \\\n",
       "0                          0                                   0   \n",
       "1                          1                                   0   \n",
       "2                          0                                   0   \n",
       "3                          1                                   0   \n",
       "4                          1                                   0   \n",
       "\n",
       "   employment_status_clients_Permanent  employment_status_clients_Retired  \\\n",
       "0                                    1                                  0   \n",
       "1                                    1                                  0   \n",
       "2                                    0                                  0   \n",
       "3                                    1                                  0   \n",
       "4                                    1                                  0   \n",
       "\n",
       "   employment_status_clients_Self-Employed  employment_status_clients_Student  \\\n",
       "0                                        0                                  0   \n",
       "1                                        0                                  0   \n",
       "2                                        0                                  0   \n",
       "3                                        0                                  0   \n",
       "4                                        0                                  0   \n",
       "\n",
       "   employment_status_clients_Unemployed  \n",
       "0                                     0  \n",
       "1                                     0  \n",
       "2                                     1  \n",
       "3                                     0  \n",
       "4                                     0  \n",
       "\n",
       "[5 rows x 28 columns]"
      ]
     },
     "execution_count": 3002,
     "metadata": {},
     "output_type": "execute_result"
    }
   ],
   "source": [
    "# Get test set from data_10k\n",
    "data_10k_test = data_10k[data_10k['good_bad_flag'].isnull()].reset_index()\n",
    "data_10k_test = data_10k_test.drop('index',axis=1)"
   ]
  },
  {
   "cell_type": "code",
   "execution_count": 3003,
   "metadata": {},
   "outputs": [],
   "source": [
    "# Get train set from data_10k\n",
    "data_10k_train_g = data_10k[data_10k['good_bad_flag'] == 'Good'].reset_index()\n",
    "# data_10k_train_g = data_10k_train.drop('index',axis=1)\n",
    "\n",
    "data_10k_train_b = data_10k[data_10k['good_bad_flag'] == 'Bad'].reset_index()\n",
    "# data_10k_train_b = data_10k_train.drop('index',axis=1)\n",
    "\n",
    "frames = [data_10k_train_g,data_10k_train_b]\n",
    "data_10k_train = pd.concat(frames)\n",
    "\n",
    "data_10k_train = data_10k_train.drop('index',axis=1)\n",
    "\n",
    "from sklearn.preprocessing import LabelEncoder\n",
    "lb_make = LabelEncoder()\n",
    "\n",
    "# Get train & test set from the \n",
    "data_10k_train['good_bad_flag'] = lb_make.fit_transform(data_10k_train['good_bad_flag'])"
   ]
  },
  {
   "cell_type": "markdown",
   "metadata": {},
   "source": [
    "### Showing the ratio of classes"
   ]
  },
  {
   "cell_type": "code",
   "execution_count": 3004,
   "metadata": {},
   "outputs": [
    {
     "name": "stdout",
     "output_type": "stream",
     "text": [
      "Percentage of good loans:  0.2660438667749797\n",
      "Percentage of bad loans:  0.7339561332250203\n",
      "Total number of loans in data:  2462\n"
     ]
    },
    {
     "data": {
      "image/png": "[encoded data removed]",
      "text/plain": [
       "<matplotlib.figure.Figure at 0x13c001208>"
      ]
     },
     "metadata": {},
     "output_type": "display_data"
    }
   ],
   "source": [
    "count_of_classes = pd.value_counts(data_10k_train['good_bad_flag'], sort = True).sort_index()\n",
    "count_of_classes.plot(kind = 'bar')\n",
    "plt.title(\"Class Histogram\")\n",
    "plt.xlabel(\"Class\")\n",
    "plt.ylabel(\"Frequency\")\n",
    "\n",
    "# Showing ratio\n",
    "print(\"Percentage of good loans: \", len(data_10k_train[data_10k_train['good_bad_flag'] == 0])/len(data_10k_train))\n",
    "print(\"Percentage of bad loans: \", len(data_10k_train[data_10k_train['good_bad_flag'] == 1])/len(data_10k_train))\n",
    "print(\"Total number of loans in data: \", len(data_10k_train))"
   ]
  },
  {
   "cell_type": "code",
   "execution_count": 3009,
   "metadata": {
    "collapsed": true
   },
   "outputs": [],
   "source": [
    "# data_10k_train = data_10k_train.iloc[:,data_10k_train.columns != \"customerid\"]\n",
    "\n",
    "\n",
    "# Y = data_10k_train.iloc[:,data_10k_train.columns ==\"good_bad_flag\"]\n",
    "\n",
    "# X = data_10k_train.iloc[:,data_10k_train.columns != \"good_bad_flag\"]\n",
    "# X = data_10k_train.iloc[:,data_10k_train.columns != \"loanamount\"]\n",
    "\n",
    "\n",
    "# columns = X.columns\n",
    "\n",
    "# testing testing\n",
    "\n",
    "data_10k_train_t = data_10k_train[['good_bad_flag','referred','age']]\n",
    "data_10k_train_t = data_10k_train_t.iloc[:,data_10k_train_t.columns != \"customerid\"]\n",
    "\n",
    "\n",
    "Y = data_10k_train_t.iloc[:,data_10k_train_t.columns ==\"good_bad_flag\"]\n",
    "\n",
    "X = data_10k_train_t.iloc[:,data_10k_train_t.columns != \"good_bad_flag\"]\n",
    "\n",
    "\n",
    "columns = X.columns"
   ]
  },
  {
   "cell_type": "markdown",
   "metadata": {},
   "source": [
    "# Benchmark Model (Logistic Regression)"
   ]
  },
  {
   "cell_type": "code",
   "execution_count": 3010,
   "metadata": {},
   "outputs": [],
   "source": [
    "# Y = Y.astype('int')\n",
    "# X = X.values\n",
    "# Y = Y.values.ravel()"
   ]
  },
  {
   "cell_type": "code",
   "execution_count": 3011,
   "metadata": {},
   "outputs": [
    {
     "name": "stderr",
     "output_type": "stream",
     "text": [
      "/Users/femi/anaconda3/lib/python3.6/site-packages/sklearn/utils/validation.py:578: DataConversionWarning: A column-vector y was passed when a 1d array was expected. Please change the shape of y to (n_samples, ), for example using ravel().\n",
      "  y = column_or_1d(y, warn=True)\n",
      "/Users/femi/anaconda3/lib/python3.6/site-packages/sklearn/utils/validation.py:578: DataConversionWarning: A column-vector y was passed when a 1d array was expected. Please change the shape of y to (n_samples, ), for example using ravel().\n",
      "  y = column_or_1d(y, warn=True)\n",
      "/Users/femi/anaconda3/lib/python3.6/site-packages/sklearn/utils/validation.py:578: DataConversionWarning: A column-vector y was passed when a 1d array was expected. Please change the shape of y to (n_samples, ), for example using ravel().\n",
      "  y = column_or_1d(y, warn=True)\n",
      "/Users/femi/anaconda3/lib/python3.6/site-packages/sklearn/utils/validation.py:578: DataConversionWarning: A column-vector y was passed when a 1d array was expected. Please change the shape of y to (n_samples, ), for example using ravel().\n",
      "  y = column_or_1d(y, warn=True)\n",
      "/Users/femi/anaconda3/lib/python3.6/site-packages/sklearn/utils/validation.py:578: DataConversionWarning: A column-vector y was passed when a 1d array was expected. Please change the shape of y to (n_samples, ), for example using ravel().\n",
      "  y = column_or_1d(y, warn=True)\n",
      "/Users/femi/anaconda3/lib/python3.6/site-packages/sklearn/utils/validation.py:578: DataConversionWarning: A column-vector y was passed when a 1d array was expected. Please change the shape of y to (n_samples, ), for example using ravel().\n",
      "  y = column_or_1d(y, warn=True)\n"
     ]
    },
    {
     "data": {
      "text/plain": [
       "0.73395586998466344"
      ]
     },
     "execution_count": 3011,
     "metadata": {},
     "output_type": "execute_result"
    }
   ],
   "source": [
    "from sklearn.model_selection import cross_val_score\n",
    "from sklearn.linear_model import LogisticRegression\n",
    "from sklearn.ensemble import RandomForestClassifier\n",
    "model = LogisticRegression()\n",
    "model.fit(X,Y)\n",
    "score = cross_val_score(model,X,Y,cv=5,scoring='accuracy')\n",
    "score.mean()"
   ]
  },
  {
   "cell_type": "code",
   "execution_count": 3012,
   "metadata": {},
   "outputs": [
    {
     "name": "stdout",
     "output_type": "stream",
     "text": [
      "0.742890307603 0.713125845737\n"
     ]
    },
    {
     "name": "stderr",
     "output_type": "stream",
     "text": [
      "/Users/femi/anaconda3/lib/python3.6/site-packages/sklearn/utils/validation.py:578: DataConversionWarning: A column-vector y was passed when a 1d array was expected. Please change the shape of y to (n_samples, ), for example using ravel().\n",
      "  y = column_or_1d(y, warn=True)\n"
     ]
    }
   ],
   "source": [
    "from sklearn.model_selection import train_test_split\n",
    "X_train,X_test,Y_train,Y_test = train_test_split(X,Y,test_size=0.30,random_state=123)\n",
    "model.fit(X_train,Y_train)\n",
    "pred = model.predict(X_test)\n",
    "\n",
    "print(model.score(X_train,Y_train),model.score(X_test,Y_test))"
   ]
  },
  {
   "cell_type": "code",
   "execution_count": 3013,
   "metadata": {},
   "outputs": [
    {
     "data": {
      "image/png": "[encoded data removed]",
      "text/plain": [
       "<matplotlib.figure.Figure at 0x13bfcc518>"
      ]
     },
     "metadata": {},
     "output_type": "display_data"
    }
   ],
   "source": [
    "from sklearn.metrics import confusion_matrix\n",
    "import itertools\n",
    "\n",
    "# Compute confusion matrix\n",
    "cnf_matrix = confusion_matrix(Y_test,pred)\n",
    "np.set_printoptions(precision=2)\n",
    "\n",
    "class_names = [0,1]\n",
    "\n",
    "plt.figure()\n",
    "plot_confusion_matrix(cnf_matrix, classes=class_names, title='Confusion matrix')\n",
    "plt.show()"
   ]
  },
  {
   "cell_type": "markdown",
   "metadata": {},
   "source": [
    "## Different Algorithms"
   ]
  },
  {
   "cell_type": "code",
   "execution_count": 1936,
   "metadata": {
    "collapsed": true
   },
   "outputs": [],
   "source": [
    "# X = X.values\n",
    "# Y = Y.values.ravel()\n"
   ]
  },
  {
   "cell_type": "markdown",
   "metadata": {},
   "source": [
    "## data_others"
   ]
  },
  {
   "cell_type": "code",
   "execution_count": 1937,
   "metadata": {},
   "outputs": [
    {
     "data": {
      "text/html": [
       "<div>\n",
       "<style>\n",
       "    .dataframe thead tr:only-child th {\n",
       "        text-align: right;\n",
       "    }\n",
       "\n",
       "    .dataframe thead th {\n",
       "        text-align: left;\n",
       "    }\n",
       "\n",
       "    .dataframe tbody tr th {\n",
       "        vertical-align: top;\n",
       "    }\n",
       "</style>\n",
       "<table border=\"1\" class=\"dataframe\">\n",
       "  <thead>\n",
       "    <tr style=\"text-align: right;\">\n",
       "      <th></th>\n",
       "      <th>customerid</th>\n",
       "      <th>good_bad_flag</th>\n",
       "      <th>loanamount</th>\n",
       "      <th>loannumber</th>\n",
       "      <th>termdays</th>\n",
       "      <th>totaldue</th>\n",
       "      <th>referred</th>\n",
       "      <th>interest</th>\n",
       "      <th>age</th>\n",
       "      <th>loan_count</th>\n",
       "      <th>...</th>\n",
       "      <th>borrow_deviation</th>\n",
       "      <th>bank_account_type_Current</th>\n",
       "      <th>bank_account_type_Other</th>\n",
       "      <th>bank_account_type_Savings</th>\n",
       "      <th>employment_status_clients_Contract</th>\n",
       "      <th>employment_status_clients_Permanent</th>\n",
       "      <th>employment_status_clients_Retired</th>\n",
       "      <th>employment_status_clients_Self-Employed</th>\n",
       "      <th>employment_status_clients_Student</th>\n",
       "      <th>employment_status_clients_Unemployed</th>\n",
       "    </tr>\n",
       "  </thead>\n",
       "  <tbody>\n",
       "    <tr>\n",
       "      <th>0</th>\n",
       "      <td>8a858959537a097401537a4e316e25f7</td>\n",
       "      <td>NaN</td>\n",
       "      <td>1.324879</td>\n",
       "      <td>0.556969</td>\n",
       "      <td>-0.29257</td>\n",
       "      <td>1.157654</td>\n",
       "      <td>-0.253653</td>\n",
       "      <td>-0.366840</td>\n",
       "      <td>-0.261736</td>\n",
       "      <td>0.622977</td>\n",
       "      <td>...</td>\n",
       "      <td>0.168473</td>\n",
       "      <td>0</td>\n",
       "      <td>0</td>\n",
       "      <td>1</td>\n",
       "      <td>0</td>\n",
       "      <td>1</td>\n",
       "      <td>0</td>\n",
       "      <td>0</td>\n",
       "      <td>0</td>\n",
       "      <td>0</td>\n",
       "    </tr>\n",
       "    <tr>\n",
       "      <th>1</th>\n",
       "      <td>8a8589c253ace09b0153af6ba58f1f31</td>\n",
       "      <td>NaN</td>\n",
       "      <td>-0.840616</td>\n",
       "      <td>-0.563387</td>\n",
       "      <td>-0.29257</td>\n",
       "      <td>-0.790640</td>\n",
       "      <td>-0.253653</td>\n",
       "      <td>-0.084477</td>\n",
       "      <td>0.388685</td>\n",
       "      <td>-0.571535</td>\n",
       "      <td>...</td>\n",
       "      <td>0.540423</td>\n",
       "      <td>0</td>\n",
       "      <td>0</td>\n",
       "      <td>1</td>\n",
       "      <td>0</td>\n",
       "      <td>1</td>\n",
       "      <td>0</td>\n",
       "      <td>0</td>\n",
       "      <td>0</td>\n",
       "      <td>0</td>\n",
       "    </tr>\n",
       "    <tr>\n",
       "      <th>2</th>\n",
       "      <td>8a858e095aae82b7015aae86ca1e030b</td>\n",
       "      <td>NaN</td>\n",
       "      <td>0.242132</td>\n",
       "      <td>-0.003209</td>\n",
       "      <td>-0.29257</td>\n",
       "      <td>0.208485</td>\n",
       "      <td>-0.253653</td>\n",
       "      <td>-0.084477</td>\n",
       "      <td>1.039107</td>\n",
       "      <td>0.025721</td>\n",
       "      <td>...</td>\n",
       "      <td>0.699896</td>\n",
       "      <td>0</td>\n",
       "      <td>0</td>\n",
       "      <td>1</td>\n",
       "      <td>0</td>\n",
       "      <td>1</td>\n",
       "      <td>0</td>\n",
       "      <td>0</td>\n",
       "      <td>0</td>\n",
       "      <td>0</td>\n",
       "    </tr>\n",
       "    <tr>\n",
       "      <th>3</th>\n",
       "      <td>8a858e225a28c713015a30db5c48383d</td>\n",
       "      <td>NaN</td>\n",
       "      <td>-0.840616</td>\n",
       "      <td>-1.123565</td>\n",
       "      <td>-0.29257</td>\n",
       "      <td>-0.790640</td>\n",
       "      <td>-0.253653</td>\n",
       "      <td>-0.084477</td>\n",
       "      <td>1.364318</td>\n",
       "      <td>-1.168791</td>\n",
       "      <td>...</td>\n",
       "      <td>-0.002130</td>\n",
       "      <td>0</td>\n",
       "      <td>0</td>\n",
       "      <td>1</td>\n",
       "      <td>0</td>\n",
       "      <td>1</td>\n",
       "      <td>0</td>\n",
       "      <td>0</td>\n",
       "      <td>0</td>\n",
       "      <td>0</td>\n",
       "    </tr>\n",
       "    <tr>\n",
       "      <th>4</th>\n",
       "      <td>8a858e42570314e001570584d48641dc</td>\n",
       "      <td>NaN</td>\n",
       "      <td>0.242132</td>\n",
       "      <td>0.276880</td>\n",
       "      <td>-0.29257</td>\n",
       "      <td>0.208485</td>\n",
       "      <td>-0.253653</td>\n",
       "      <td>-0.084477</td>\n",
       "      <td>0.388685</td>\n",
       "      <td>0.324349</td>\n",
       "      <td>...</td>\n",
       "      <td>0.844758</td>\n",
       "      <td>0</td>\n",
       "      <td>1</td>\n",
       "      <td>0</td>\n",
       "      <td>0</td>\n",
       "      <td>1</td>\n",
       "      <td>0</td>\n",
       "      <td>0</td>\n",
       "      <td>0</td>\n",
       "      <td>0</td>\n",
       "    </tr>\n",
       "  </tbody>\n",
       "</table>\n",
       "<p>5 rows × 28 columns</p>\n",
       "</div>"
      ],
      "text/plain": [
       "                         customerid good_bad_flag  loanamount  loannumber  \\\n",
       "0  8a858959537a097401537a4e316e25f7           NaN    1.324879    0.556969   \n",
       "1  8a8589c253ace09b0153af6ba58f1f31           NaN   -0.840616   -0.563387   \n",
       "2  8a858e095aae82b7015aae86ca1e030b           NaN    0.242132   -0.003209   \n",
       "3  8a858e225a28c713015a30db5c48383d           NaN   -0.840616   -1.123565   \n",
       "4  8a858e42570314e001570584d48641dc           NaN    0.242132    0.276880   \n",
       "\n",
       "   termdays  totaldue  referred  interest       age  loan_count  \\\n",
       "0  -0.29257  1.157654 -0.253653 -0.366840 -0.261736    0.622977   \n",
       "1  -0.29257 -0.790640 -0.253653 -0.084477  0.388685   -0.571535   \n",
       "2  -0.29257  0.208485 -0.253653 -0.084477  1.039107    0.025721   \n",
       "3  -0.29257 -0.790640 -0.253653 -0.084477  1.364318   -1.168791   \n",
       "4  -0.29257  0.208485 -0.253653 -0.084477  0.388685    0.324349   \n",
       "\n",
       "                   ...                   borrow_deviation  \\\n",
       "0                  ...                           0.168473   \n",
       "1                  ...                           0.540423   \n",
       "2                  ...                           0.699896   \n",
       "3                  ...                          -0.002130   \n",
       "4                  ...                           0.844758   \n",
       "\n",
       "   bank_account_type_Current  bank_account_type_Other  \\\n",
       "0                          0                        0   \n",
       "1                          0                        0   \n",
       "2                          0                        0   \n",
       "3                          0                        0   \n",
       "4                          0                        1   \n",
       "\n",
       "   bank_account_type_Savings  employment_status_clients_Contract  \\\n",
       "0                          1                                   0   \n",
       "1                          1                                   0   \n",
       "2                          1                                   0   \n",
       "3                          1                                   0   \n",
       "4                          0                                   0   \n",
       "\n",
       "   employment_status_clients_Permanent  employment_status_clients_Retired  \\\n",
       "0                                    1                                  0   \n",
       "1                                    1                                  0   \n",
       "2                                    1                                  0   \n",
       "3                                    1                                  0   \n",
       "4                                    1                                  0   \n",
       "\n",
       "   employment_status_clients_Self-Employed  employment_status_clients_Student  \\\n",
       "0                                        0                                  0   \n",
       "1                                        0                                  0   \n",
       "2                                        0                                  0   \n",
       "3                                        0                                  0   \n",
       "4                                        0                                  0   \n",
       "\n",
       "   employment_status_clients_Unemployed  \n",
       "0                                     0  \n",
       "1                                     0  \n",
       "2                                     0  \n",
       "3                                     0  \n",
       "4                                     0  \n",
       "\n",
       "[5 rows x 28 columns]"
      ]
     },
     "execution_count": 1937,
     "metadata": {},
     "output_type": "execute_result"
    }
   ],
   "source": [
    "# Get test set from data_10k\n",
    "data_others_test = data_others[data_others['good_bad_flag'].isnull()].reset_index()\n",
    "data_others_test = data_others_test.drop('index',axis=1)\n",
    "data_others_test.head()"
   ]
  },
  {
   "cell_type": "code",
   "execution_count": 1978,
   "metadata": {
    "collapsed": true
   },
   "outputs": [],
   "source": [
    "# Get train set from data_others\n",
    "data_others_train_g = data_others[data_others['good_bad_flag'] == 'Good'].reset_index()\n",
    "# data_others_train_g = data_others_train.drop('index',axis=1)\n",
    "\n",
    "data_others_train_b = data_others[data_others['good_bad_flag'] == 'Bad'].reset_index()\n",
    "# data_others_train_b = data_others_train.drop('index',axis=1)\n",
    "\n",
    "frames = [data_others_train_g,data_others_train_b]\n",
    "data_others_train = pd.concat(frames)\n",
    "\n"
   ]
  },
  {
   "cell_type": "code",
   "execution_count": 1979,
   "metadata": {},
   "outputs": [
    {
     "data": {
      "text/html": [
       "<div>\n",
       "<style>\n",
       "    .dataframe thead tr:only-child th {\n",
       "        text-align: right;\n",
       "    }\n",
       "\n",
       "    .dataframe thead th {\n",
       "        text-align: left;\n",
       "    }\n",
       "\n",
       "    .dataframe tbody tr th {\n",
       "        vertical-align: top;\n",
       "    }\n",
       "</style>\n",
       "<table border=\"1\" class=\"dataframe\">\n",
       "  <thead>\n",
       "    <tr style=\"text-align: right;\">\n",
       "      <th></th>\n",
       "      <th>index</th>\n",
       "      <th>customerid</th>\n",
       "      <th>good_bad_flag</th>\n",
       "      <th>loanamount</th>\n",
       "      <th>loannumber</th>\n",
       "      <th>termdays</th>\n",
       "      <th>totaldue</th>\n",
       "      <th>referred</th>\n",
       "      <th>interest</th>\n",
       "      <th>age</th>\n",
       "      <th>...</th>\n",
       "      <th>borrow_deviation</th>\n",
       "      <th>bank_account_type_Current</th>\n",
       "      <th>bank_account_type_Other</th>\n",
       "      <th>bank_account_type_Savings</th>\n",
       "      <th>employment_status_clients_Contract</th>\n",
       "      <th>employment_status_clients_Permanent</th>\n",
       "      <th>employment_status_clients_Retired</th>\n",
       "      <th>employment_status_clients_Self-Employed</th>\n",
       "      <th>employment_status_clients_Student</th>\n",
       "      <th>employment_status_clients_Unemployed</th>\n",
       "    </tr>\n",
       "  </thead>\n",
       "  <tbody>\n",
       "    <tr>\n",
       "      <th>0</th>\n",
       "      <td>0</td>\n",
       "      <td>8a2a81a74ce8c05d014cfb32a0da1049</td>\n",
       "      <td>Good</td>\n",
       "      <td>0.242132</td>\n",
       "      <td>1.117146</td>\n",
       "      <td>-0.292570</td>\n",
       "      <td>0.208485</td>\n",
       "      <td>-0.253653</td>\n",
       "      <td>-0.084477</td>\n",
       "      <td>2.014739</td>\n",
       "      <td>...</td>\n",
       "      <td>1.004816</td>\n",
       "      <td>0</td>\n",
       "      <td>1</td>\n",
       "      <td>0</td>\n",
       "      <td>0</td>\n",
       "      <td>1</td>\n",
       "      <td>0</td>\n",
       "      <td>0</td>\n",
       "      <td>0</td>\n",
       "      <td>0</td>\n",
       "    </tr>\n",
       "    <tr>\n",
       "      <th>1</th>\n",
       "      <td>1</td>\n",
       "      <td>8a85886e54beabf90154c0a29ae757c0</td>\n",
       "      <td>Good</td>\n",
       "      <td>-1.381989</td>\n",
       "      <td>-1.683743</td>\n",
       "      <td>-0.292570</td>\n",
       "      <td>-1.515005</td>\n",
       "      <td>-0.253653</td>\n",
       "      <td>-1.355108</td>\n",
       "      <td>-0.261736</td>\n",
       "      <td>...</td>\n",
       "      <td>-5.462328</td>\n",
       "      <td>0</td>\n",
       "      <td>0</td>\n",
       "      <td>1</td>\n",
       "      <td>0</td>\n",
       "      <td>1</td>\n",
       "      <td>0</td>\n",
       "      <td>0</td>\n",
       "      <td>0</td>\n",
       "      <td>0</td>\n",
       "    </tr>\n",
       "    <tr>\n",
       "      <th>2</th>\n",
       "      <td>2</td>\n",
       "      <td>8a8588f35438fe12015444567666018e</td>\n",
       "      <td>Good</td>\n",
       "      <td>-0.840616</td>\n",
       "      <td>-0.283298</td>\n",
       "      <td>-1.370436</td>\n",
       "      <td>-1.015443</td>\n",
       "      <td>-0.253653</td>\n",
       "      <td>-1.355108</td>\n",
       "      <td>-0.099131</td>\n",
       "      <td>...</td>\n",
       "      <td>0.777899</td>\n",
       "      <td>0</td>\n",
       "      <td>1</td>\n",
       "      <td>0</td>\n",
       "      <td>0</td>\n",
       "      <td>1</td>\n",
       "      <td>0</td>\n",
       "      <td>0</td>\n",
       "      <td>0</td>\n",
       "      <td>0</td>\n",
       "    </tr>\n",
       "    <tr>\n",
       "      <th>3</th>\n",
       "      <td>4</td>\n",
       "      <td>8a858970548359cc0154883481981866</td>\n",
       "      <td>Good</td>\n",
       "      <td>1.324879</td>\n",
       "      <td>0.276880</td>\n",
       "      <td>-0.292570</td>\n",
       "      <td>1.157654</td>\n",
       "      <td>-0.253653</td>\n",
       "      <td>-0.366840</td>\n",
       "      <td>-0.424342</td>\n",
       "      <td>...</td>\n",
       "      <td>0.029072</td>\n",
       "      <td>0</td>\n",
       "      <td>1</td>\n",
       "      <td>0</td>\n",
       "      <td>0</td>\n",
       "      <td>1</td>\n",
       "      <td>0</td>\n",
       "      <td>0</td>\n",
       "      <td>0</td>\n",
       "      <td>0</td>\n",
       "    </tr>\n",
       "    <tr>\n",
       "      <th>4</th>\n",
       "      <td>5</td>\n",
       "      <td>8a8589f35451855401546b0738c42524</td>\n",
       "      <td>Good</td>\n",
       "      <td>0.242132</td>\n",
       "      <td>-0.003209</td>\n",
       "      <td>1.863163</td>\n",
       "      <td>0.658092</td>\n",
       "      <td>-0.253653</td>\n",
       "      <td>2.456785</td>\n",
       "      <td>1.852134</td>\n",
       "      <td>...</td>\n",
       "      <td>0.768347</td>\n",
       "      <td>0</td>\n",
       "      <td>0</td>\n",
       "      <td>1</td>\n",
       "      <td>0</td>\n",
       "      <td>1</td>\n",
       "      <td>0</td>\n",
       "      <td>0</td>\n",
       "      <td>0</td>\n",
       "      <td>0</td>\n",
       "    </tr>\n",
       "  </tbody>\n",
       "</table>\n",
       "<p>5 rows × 29 columns</p>\n",
       "</div>"
      ],
      "text/plain": [
       "   index                        customerid good_bad_flag  loanamount  \\\n",
       "0      0  8a2a81a74ce8c05d014cfb32a0da1049          Good    0.242132   \n",
       "1      1  8a85886e54beabf90154c0a29ae757c0          Good   -1.381989   \n",
       "2      2  8a8588f35438fe12015444567666018e          Good   -0.840616   \n",
       "3      4  8a858970548359cc0154883481981866          Good    1.324879   \n",
       "4      5  8a8589f35451855401546b0738c42524          Good    0.242132   \n",
       "\n",
       "   loannumber  termdays  totaldue  referred  interest       age  \\\n",
       "0    1.117146 -0.292570  0.208485 -0.253653 -0.084477  2.014739   \n",
       "1   -1.683743 -0.292570 -1.515005 -0.253653 -1.355108 -0.261736   \n",
       "2   -0.283298 -1.370436 -1.015443 -0.253653 -1.355108 -0.099131   \n",
       "3    0.276880 -0.292570  1.157654 -0.253653 -0.366840 -0.424342   \n",
       "4   -0.003209  1.863163  0.658092 -0.253653  2.456785  1.852134   \n",
       "\n",
       "                   ...                   borrow_deviation  \\\n",
       "0                  ...                           1.004816   \n",
       "1                  ...                          -5.462328   \n",
       "2                  ...                           0.777899   \n",
       "3                  ...                           0.029072   \n",
       "4                  ...                           0.768347   \n",
       "\n",
       "   bank_account_type_Current  bank_account_type_Other  \\\n",
       "0                          0                        1   \n",
       "1                          0                        0   \n",
       "2                          0                        1   \n",
       "3                          0                        1   \n",
       "4                          0                        0   \n",
       "\n",
       "   bank_account_type_Savings  employment_status_clients_Contract  \\\n",
       "0                          0                                   0   \n",
       "1                          1                                   0   \n",
       "2                          0                                   0   \n",
       "3                          0                                   0   \n",
       "4                          1                                   0   \n",
       "\n",
       "   employment_status_clients_Permanent  employment_status_clients_Retired  \\\n",
       "0                                    1                                  0   \n",
       "1                                    1                                  0   \n",
       "2                                    1                                  0   \n",
       "3                                    1                                  0   \n",
       "4                                    1                                  0   \n",
       "\n",
       "   employment_status_clients_Self-Employed  employment_status_clients_Student  \\\n",
       "0                                        0                                  0   \n",
       "1                                        0                                  0   \n",
       "2                                        0                                  0   \n",
       "3                                        0                                  0   \n",
       "4                                        0                                  0   \n",
       "\n",
       "   employment_status_clients_Unemployed  \n",
       "0                                     0  \n",
       "1                                     0  \n",
       "2                                     0  \n",
       "3                                     0  \n",
       "4                                     0  \n",
       "\n",
       "[5 rows x 29 columns]"
      ]
     },
     "execution_count": 1979,
     "metadata": {},
     "output_type": "execute_result"
    }
   ],
   "source": [
    "data_others_train.head()"
   ]
  },
  {
   "cell_type": "code",
   "execution_count": 1980,
   "metadata": {},
   "outputs": [
    {
     "name": "stdout",
     "output_type": "stream",
     "text": [
      "(1906, 29) (625, 28)\n"
     ]
    }
   ],
   "source": [
    "print(data_others_train.shape,data_others_test.shape)\n",
    "data_others_train = data_others_train.drop('index',axis=1)\n",
    "from sklearn.preprocessing import LabelEncoder\n",
    "lb_make = LabelEncoder()\n",
    "\n",
    "# Get train & test set from the \n",
    "data_others_train['good_bad_flag'] = lb_make.fit_transform(data_others_train['good_bad_flag'])"
   ]
  },
  {
   "cell_type": "code",
   "execution_count": 1967,
   "metadata": {},
   "outputs": [
    {
     "data": {
      "text/plain": [
       "Index(['customerid', 'good_bad_flag', 'loanamount', 'loannumber', 'termdays',\n",
       "       'totaldue', 'referred', 'interest', 'age', 'loan_count',\n",
       "       'prev_loanamount', 'prev_loannumber', 'prev_totaldue', 'prev_termdays',\n",
       "       'prev_interest', 'repayment_score', 'prev_borrow_magnitude',\n",
       "       'borrow_magnitude', 'borrow_deviation', 'bank_account_type_Current',\n",
       "       'bank_account_type_Other', 'bank_account_type_Savings',\n",
       "       'employment_status_clients_Contract',\n",
       "       'employment_status_clients_Permanent',\n",
       "       'employment_status_clients_Retired',\n",
       "       'employment_status_clients_Self-Employed',\n",
       "       'employment_status_clients_Student',\n",
       "       'employment_status_clients_Unemployed'],\n",
       "      dtype='object')"
      ]
     },
     "execution_count": 1967,
     "metadata": {},
     "output_type": "execute_result"
    }
   ],
   "source": [
    "data_others_test.columns"
   ]
  },
  {
   "cell_type": "code",
   "execution_count": 1985,
   "metadata": {},
   "outputs": [],
   "source": [
    "# data_others_train = data_others_train[['good_bad_flag','interest','age','referred','bank_account_type_Current','bank_account_type_Savings','bank_account_type_Other','repayment_score']]\n"
   ]
  },
  {
   "cell_type": "code",
   "execution_count": 2145,
   "metadata": {},
   "outputs": [
    {
     "name": "stdout",
     "output_type": "stream",
     "text": [
      "0.843175853018 0.848167539267\n"
     ]
    },
    {
     "data": {
      "image/png": "[encoded data removed]",
      "text/plain": [
       "<matplotlib.figure.Figure at 0x12e8ce080>"
      ]
     },
     "metadata": {},
     "output_type": "display_data"
    }
   ],
   "source": [
    "data_others_train_t = data_others_train[['good_bad_flag','referred','bank_account_type_Savings']]\n",
    "data_others_train_t = data_others_train_t.iloc[:,data_others_train_t.columns != \"customerid\"]\n",
    "\n",
    "\n",
    "Y = data_others_train_t.iloc[:,data_others_train_t.columns ==\"good_bad_flag\"]\n",
    "\n",
    "X = data_others_train_t.iloc[:,data_others_train_t.columns != \"good_bad_flag\"]\n",
    "columns = X.columns\n",
    "\n",
    "Y = Y.astype('int')\n",
    "X = X.values\n",
    "Y = Y.values.ravel()\n",
    "from sklearn.ensemble import RandomForestClassifier\n",
    "from sklearn.model_selection import train_test_split\n",
    "\n",
    "X_train,X_test,Y_train,Y_test = train_test_split(X,Y,test_size=0.20,random_state=123)\n",
    "model.fit(X_train,Y_train)\n",
    "pred = model.predict(X_test)\n",
    "print(model.score(X_train,Y_train),model.score(X_test,Y_test))\n",
    "from sklearn.metrics import confusion_matrix\n",
    "import itertools\n",
    "\n",
    "# Compute confusion matrix\n",
    "cnf_matrix = confusion_matrix(Y_test,pred)\n",
    "np.set_printoptions(precision=2)\n",
    "\n",
    "class_names = [0,1]\n",
    "\n",
    "plt.figure()\n",
    "plot_confusion_matrix(cnf_matrix, classes=class_names, title='Confusion matrix')\n",
    "plt.show()\n"
   ]
  },
  {
   "cell_type": "code",
   "execution_count": null,
   "metadata": {},
   "outputs": [],
   "source": [
    "model = RandomForestClassifier(max_depth=3)\n",
    "model.fit(X,Y)\n",
    "score = cross_val_score(model,X,Y,cv=3,scoring='accuracy')\n",
    "score.mean()"
   ]
  },
  {
   "cell_type": "code",
   "execution_count": 1975,
   "metadata": {
    "collapsed": true
   },
   "outputs": [],
   "source": [
    "\n",
    "# Y_smote = Y_smote.astype('int')"
   ]
  },
  {
   "cell_type": "code",
   "execution_count": null,
   "metadata": {},
   "outputs": [],
   "source": []
  },
  {
   "cell_type": "code",
   "execution_count": 1976,
   "metadata": {},
   "outputs": [
    {
     "data": {
      "text/plain": [
       "0.84417788607231492"
      ]
     },
     "execution_count": 1976,
     "metadata": {},
     "output_type": "execute_result"
    }
   ],
   "source": [
    "\n"
   ]
  },
  {
   "cell_type": "code",
   "execution_count": 1993,
   "metadata": {
    "collapsed": true
   },
   "outputs": [],
   "source": [
    "from sklearn.model_selection import train_test_split\n",
    "X_train,X_test,Y_train,Y_test = train_test_split(X,Y,test_size=0.30,random_state=123)"
   ]
  },
  {
   "cell_type": "code",
   "execution_count": 1994,
   "metadata": {
    "collapsed": true
   },
   "outputs": [],
   "source": [
    "model.fit(X_train,Y_train)\n",
    "pred = model.predict(X_test)"
   ]
  },
  {
   "cell_type": "code",
   "execution_count": 1995,
   "metadata": {},
   "outputs": [
    {
     "name": "stdout",
     "output_type": "stream",
     "text": [
      "0.844077961019 0.844405594406\n"
     ]
    }
   ],
   "source": [
    "print(model.score(X_train,Y_train),model.score(X_test,Y_test))"
   ]
  },
  {
   "cell_type": "code",
   "execution_count": 1996,
   "metadata": {},
   "outputs": [
    {
     "data": {
      "image/png": "[encoded data removed]",
      "text/plain": [
       "<matplotlib.figure.Figure at 0x12f16ab00>"
      ]
     },
     "metadata": {},
     "output_type": "display_data"
    }
   ],
   "source": [
    "from sklearn.metrics import confusion_matrix\n",
    "import itertools\n",
    "\n",
    "# Compute confusion matrix\n",
    "cnf_matrix = confusion_matrix(Y_test,pred)\n",
    "np.set_printoptions(precision=2)\n",
    "\n",
    "class_names = [0,1]\n",
    "\n",
    "plt.figure()\n",
    "plot_confusion_matrix(cnf_matrix, classes=class_names, title='Confusion matrix')\n",
    "plt.show()"
   ]
  },
  {
   "cell_type": "code",
   "execution_count": null,
   "metadata": {
    "collapsed": true
   },
   "outputs": [],
   "source": []
  }
 ],
 "metadata": {
  "kernelspec": {
   "display_name": "Python 3",
   "language": "python",
   "name": "python3"
  },
  "language_info": {
   "codemirror_mode": {
    "name": "ipython",
    "version": 3
   },
   "file_extension": ".py",
   "mimetype": "text/x-python",
   "name": "python",
   "nbconvert_exporter": "python",
   "pygments_lexer": "ipython3",
   "version": "3.6.2"
  }
 },
 "nbformat": 4,
 "nbformat_minor": 2
}
